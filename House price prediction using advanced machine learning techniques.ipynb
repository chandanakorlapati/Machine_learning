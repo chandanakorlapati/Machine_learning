{
  "nbformat": 4,
  "nbformat_minor": 0,
  "metadata": {
    "colab": {
      "name": "project ml 2.ipynb",
      "provenance": [],
      "collapsed_sections": [],
      "machine_shape": "hm"
    },
    "kernelspec": {
      "name": "python3",
      "display_name": "Python 3"
    },
    "accelerator": "GPU"
  },
  "cells": [
    {
      "cell_type": "code",
      "metadata": {
        "colab": {
          "base_uri": "https://localhost:8080/"
        },
        "id": "12uJPpw223op",
        "outputId": "826ba9cd-d498-41ec-9690-25f178d2f3cf"
      },
      "source": [
        "!pip install kaggle"
      ],
      "execution_count": null,
      "outputs": [
        {
          "output_type": "stream",
          "text": [
            "Requirement already satisfied: kaggle in /usr/local/lib/python3.6/dist-packages (1.5.9)\n",
            "Requirement already satisfied: slugify in /usr/local/lib/python3.6/dist-packages (from kaggle) (0.0.1)\n",
            "Requirement already satisfied: requests in /usr/local/lib/python3.6/dist-packages (from kaggle) (2.23.0)\n",
            "Requirement already satisfied: tqdm in /usr/local/lib/python3.6/dist-packages (from kaggle) (4.41.1)\n",
            "Requirement already satisfied: six>=1.10 in /usr/local/lib/python3.6/dist-packages (from kaggle) (1.15.0)\n",
            "Requirement already satisfied: python-slugify in /usr/local/lib/python3.6/dist-packages (from kaggle) (4.0.1)\n",
            "Requirement already satisfied: urllib3 in /usr/local/lib/python3.6/dist-packages (from kaggle) (1.24.3)\n",
            "Requirement already satisfied: python-dateutil in /usr/local/lib/python3.6/dist-packages (from kaggle) (2.8.1)\n",
            "Requirement already satisfied: certifi in /usr/local/lib/python3.6/dist-packages (from kaggle) (2020.11.8)\n",
            "Requirement already satisfied: idna<3,>=2.5 in /usr/local/lib/python3.6/dist-packages (from requests->kaggle) (2.10)\n",
            "Requirement already satisfied: chardet<4,>=3.0.2 in /usr/local/lib/python3.6/dist-packages (from requests->kaggle) (3.0.4)\n",
            "Requirement already satisfied: text-unidecode>=1.3 in /usr/local/lib/python3.6/dist-packages (from python-slugify->kaggle) (1.3)\n"
          ],
          "name": "stdout"
        }
      ]
    },
    {
      "cell_type": "code",
      "metadata": {
        "colab": {
          "base_uri": "https://localhost:8080/"
        },
        "id": "O2Pv3e_12_Ag",
        "outputId": "84945cc8-f182-4927-f857-9d4608fbd244"
      },
      "source": [
        "!mkdir .kaggle"
      ],
      "execution_count": null,
      "outputs": [
        {
          "output_type": "stream",
          "text": [
            "mkdir: cannot create directory ‘.kaggle’: File exists\n"
          ],
          "name": "stdout"
        }
      ]
    },
    {
      "cell_type": "code",
      "metadata": {
        "id": "DNvuYvm-3AUF"
      },
      "source": [
        "import json\n",
        "token = {\"username\":\"mandavagnaneshwar\",\"key\":\"ed4ddd78a3cb2d3664a04368004f2925\"}\n",
        "with open('/content/.kaggle/kaggle.json', 'w') as file:\n",
        "    json.dump(token, file)"
      ],
      "execution_count": null,
      "outputs": []
    },
    {
      "cell_type": "code",
      "metadata": {
        "id": "9-zpf25I3E4k"
      },
      "source": [
        "!cp /content/.kaggle/kaggle.json ~/.kaggle/kaggle.json"
      ],
      "execution_count": null,
      "outputs": []
    },
    {
      "cell_type": "code",
      "metadata": {
        "colab": {
          "base_uri": "https://localhost:8080/"
        },
        "id": "Hmj3Jm9H3GoX",
        "outputId": "b4e1d663-8332-44fd-b8ba-30ba502e5cc1"
      },
      "source": [
        "!kaggle config set -n path -v{/content}"
      ],
      "execution_count": null,
      "outputs": [
        {
          "output_type": "stream",
          "text": [
            "- path is now set to: {/content}\n"
          ],
          "name": "stdout"
        }
      ]
    },
    {
      "cell_type": "code",
      "metadata": {
        "id": "1GI-uC1D3H9G"
      },
      "source": [
        "!chmod 600 /root/.kaggle/kaggle.json"
      ],
      "execution_count": null,
      "outputs": []
    },
    {
      "cell_type": "code",
      "metadata": {
        "colab": {
          "base_uri": "https://localhost:8080/"
        },
        "id": "HbKoCE6-3KKF",
        "outputId": "e5ea7659-8300-40c3-bf2b-144bd24c9450"
      },
      "source": [
        "!kaggle competitions download -c house-prices-advanced-regression-techniques"
      ],
      "execution_count": null,
      "outputs": [
        {
          "output_type": "stream",
          "text": [
            "Warning: Looks like you're using an outdated API Version, please consider updating (server 1.5.10 / client 1.5.4)\n",
            "test.csv: Skipping, found more recently modified local copy (use --force to force download)\n",
            "data_description.txt: Skipping, found more recently modified local copy (use --force to force download)\n",
            "sample_submission.csv: Skipping, found more recently modified local copy (use --force to force download)\n",
            "train.csv: Skipping, found more recently modified local copy (use --force to force download)\n"
          ],
          "name": "stdout"
        }
      ]
    },
    {
      "cell_type": "code",
      "metadata": {
        "colab": {
          "base_uri": "https://localhost:8080/"
        },
        "id": "CpXpjDXx3c8E",
        "outputId": "d3a648c3-7219-4053-90a9-54b29b7af041"
      },
      "source": [
        "!pip install feature_engine"
      ],
      "execution_count": null,
      "outputs": [
        {
          "output_type": "stream",
          "text": [
            "Requirement already satisfied: feature_engine in /usr/local/lib/python3.6/dist-packages (0.6.1)\n",
            "Requirement already satisfied: statsmodels>=0.11.1 in /usr/local/lib/python3.6/dist-packages (from feature_engine) (0.12.1)\n",
            "Requirement already satisfied: pandas>=1.0.3 in /usr/local/lib/python3.6/dist-packages (from feature_engine) (1.1.4)\n",
            "Requirement already satisfied: scikit-learn>=0.22.2 in /usr/local/lib/python3.6/dist-packages (from feature_engine) (0.22.2.post1)\n",
            "Requirement already satisfied: scipy>=1.4.1 in /usr/local/lib/python3.6/dist-packages (from feature_engine) (1.4.1)\n",
            "Requirement already satisfied: numpy>=1.18.2 in /usr/local/lib/python3.6/dist-packages (from feature_engine) (1.18.5)\n",
            "Requirement already satisfied: patsy>=0.5 in /usr/local/lib/python3.6/dist-packages (from statsmodels>=0.11.1->feature_engine) (0.5.1)\n",
            "Requirement already satisfied: pytz>=2017.2 in /usr/local/lib/python3.6/dist-packages (from pandas>=1.0.3->feature_engine) (2018.9)\n",
            "Requirement already satisfied: python-dateutil>=2.7.3 in /usr/local/lib/python3.6/dist-packages (from pandas>=1.0.3->feature_engine) (2.8.1)\n",
            "Requirement already satisfied: joblib>=0.11 in /usr/local/lib/python3.6/dist-packages (from scikit-learn>=0.22.2->feature_engine) (0.17.0)\n",
            "Requirement already satisfied: six in /usr/local/lib/python3.6/dist-packages (from patsy>=0.5->statsmodels>=0.11.1->feature_engine) (1.15.0)\n"
          ],
          "name": "stdout"
        }
      ]
    },
    {
      "cell_type": "code",
      "metadata": {
        "id": "ATmAf3rgBiJ4"
      },
      "source": [
        "import pandas as pd\n",
        "import numpy as np\n",
        "\n",
        "import matplotlib.pyplot as plt\n",
        "import seaborn as snb\n",
        "import scipy.stats as stats\n",
        "import statsmodels.api as sm\n",
        "\n",
        "from sklearn.model_selection import train_test_split\n",
        "from sklearn.impute import SimpleImputer\n",
        "from sklearn.pipeline import Pipeline\n",
        "from sklearn.linear_model import LinearRegression, Lasso\n",
        "from sklearn.metrics import mean_squared_error\n",
        "from sklearn.preprocessing import StandardScaler\n",
        "from sklearn.decomposition import PCA\n",
        "\n",
        "\n",
        "from feature_engine.missing_data_imputers import MeanMedianImputer, CategoricalVariableImputer, AddMissingIndicator\n",
        "from feature_engine.categorical_encoders import OneHotCategoricalEncoder, RareLabelCategoricalEncoder,OrdinalCategoricalEncoder\n",
        "from feature_engine.outlier_removers import OutlierTrimmer\n",
        "from feature_engine import variable_transformers\n",
        "from feature_engine.discretisers import EqualWidthDiscretiser"
      ],
      "execution_count": null,
      "outputs": []
    },
    {
      "cell_type": "code",
      "metadata": {
        "id": "uFqvb87oBiRV"
      },
      "source": [
        ""
      ],
      "execution_count": null,
      "outputs": []
    },
    {
      "cell_type": "code",
      "metadata": {
        "id": "IghbPQfaBiUR"
      },
      "source": [
        ""
      ],
      "execution_count": null,
      "outputs": []
    },
    {
      "cell_type": "code",
      "metadata": {
        "id": "fDsGF6eV3OKg"
      },
      "source": [
        "train = pd.read_csv('/content/{/content}/competitions/house-prices-advanced-regression-techniques/train.csv')"
      ],
      "execution_count": null,
      "outputs": []
    },
    {
      "cell_type": "code",
      "metadata": {
        "id": "HrwFMQAG6OqU"
      },
      "source": [
        "test = pd.read_csv('/content/{/content}/competitions/house-prices-advanced-regression-techniques/test.csv')"
      ],
      "execution_count": null,
      "outputs": []
    },
    {
      "cell_type": "code",
      "metadata": {
        "id": "Iy-_B1Fm3Zen"
      },
      "source": [
        "#removing ID Column\n",
        "train = train.drop(columns=[\"Id\"])\n",
        "test = test.drop(columns=[\"Id\"])\n"
      ],
      "execution_count": null,
      "outputs": []
    },
    {
      "cell_type": "code",
      "metadata": {
        "id": "pyKhIj3i48oe"
      },
      "source": [
        "# Function for plot and check Data Distribution\n",
        "\n",
        "def diagnostic_plots(df, variable):\n",
        "    for i in variable: \n",
        "        plt.figure(figsize=(16, 4))\n",
        "\n",
        "        # histogram\n",
        "        plt.subplot(1, 3, 1)\n",
        "    \n",
        "        snb.distplot(df[i], bins=30)\n",
        "        plt.title('Histogram')\n",
        "\n",
        "        # Q-Q plot\n",
        "        plt.subplot(1, 3, 2)\n",
        "        stats.probplot(df[i], dist=\"norm\", plot=plt)\n",
        "        plt.ylabel('RM quantiles')\n",
        "\n",
        "        # boxplot\n",
        "        plt.subplot(1, 3, 3)\n",
        "        snb.boxplot(y=df[i])\n",
        "        plt.title('Boxplot')\n",
        "        \n",
        "        print(\"\\n***********{}**********\\n\".format(i))\n",
        "        print(\"**Skewness: \",df[i].skew())\n",
        "        plt.show()\n"
      ],
      "execution_count": null,
      "outputs": []
    },
    {
      "cell_type": "code",
      "metadata": {
        "id": "uRv3Ys2L4_bR"
      },
      "source": [
        "# Function to plot relationship between Categorical Variable and Target\n",
        "#~ Function to plot relationship between Categorical Variable and Target\n",
        "\n",
        "def explore_relation_catTotar(dataX,y,col_category):\n",
        "    temp = dataX.copy()\n",
        "    temp[\"target\"]=y\n",
        "    for i in col_category:\n",
        "        fig = plt.figure()\n",
        "        fig = temp.groupby([i])[\"target\"].mean().plot()\n",
        "        fig.set_title('Relationship between {} and Item_Outlet_Sales'.format(i))\n",
        "        fig.set_ylabel('Mean Item_Outlet_Sales')\n",
        "        plt.show()"
      ],
      "execution_count": null,
      "outputs": []
    },
    {
      "cell_type": "code",
      "metadata": {
        "id": "E3vFyJej5DSb"
      },
      "source": [
        "# Basic Functions for Outlier Detection - Skewed Distribution & Gaussian Distribution\n",
        "\n",
        "#Skewed Distribution\n",
        "\n",
        "def skewed_outlier(df, variable):\n",
        "    \n",
        "    IQR = df[variable].quantile(0.75) - df[variable].quantile(0.25)\n",
        "\n",
        "    lower_boundary = df[variable].quantile(0.25) - (IQR * 3)\n",
        "    upper_boundary = df[variable].quantile(0.75) + (IQR * 3)\n",
        "\n",
        "    return upper_boundary, lower_boundary\n",
        "\n",
        "def calculating_outlier_skewed(df,variables):\n",
        "    dic = {}\n",
        "    for i in variables:\n",
        "        ub, lb = skewed_outlier(df,i)\n",
        "        ub_len = len(df[df[i]>ub])\n",
        "        lb_len = len(df[df[i]<lb])\n",
        "        per_total = ((ub_len + lb_len)/len(df))*100\n",
        "        if per_total != 0:\n",
        "            dic[i]=per_total\n",
        "    return dic\n",
        "\n",
        "\n",
        "# Gaussian Distribution\n",
        "\n",
        "def gaussian_outlier(df,variable):\n",
        "    \n",
        "    upper_boundary = df[variable].mean() + 3 * df[variable].std()\n",
        "    lower_boundary = df[variable].mean() - 3 * df[variable].std()\n",
        "\n",
        "    return upper_boundary, lower_boundary\n",
        "\n",
        "\n",
        "def calculating_outlier_gaussian(df,variables):\n",
        "    dic = {}\n",
        "    for i in variables:\n",
        "        ub, lb = gaussian_outlier(df,i)\n",
        "        ub_len = len(df[df[i]>ub])\n",
        "        lb_len = len(df[df[i]<lb])\n",
        "        per_total = ((ub_len + lb_len)/len(df))*100\n",
        "        if per_total != 0:\n",
        "            dic[i]=per_total\n",
        "    return dic"
      ],
      "execution_count": null,
      "outputs": []
    },
    {
      "cell_type": "code",
      "metadata": {
        "id": "s9O7irWl5H3g"
      },
      "source": [
        "#calculating number of years after house is sold\n",
        "train['SoldAfterYears'] = train['YrSold'] - train['YearBuilt']\n",
        "test['SoldAfterYears'] = test['YrSold'] - test['YearBuilt']\n",
        "\n",
        "#Calculating Number of Months after house was sold\n",
        "train['SoldAfterMonths'] = ((train['YrSold'] - train['YearBuilt'])*12)  + train['MoSold']\n",
        "test['SoldAfterMonths'] = ((test['YrSold'] - test['YearBuilt'])*12)  + test['MoSold']\n",
        "\n",
        "\n",
        "#calculating Renovation after years and difference in the renovations year and build year\n",
        "train['RenovationCalculation']=train['SoldAfterYears'] - (train['YearRemodAdd'] - train['YearBuilt'])\n",
        "test['RenovationCalculation']=test['SoldAfterYears'] - (test['YearRemodAdd'] - test['YearBuilt'])\n",
        "\n",
        "\n",
        "\n",
        "#Adding New Renovation Column\n",
        "# 0 - No renovation\n",
        "# 1 - Renovation done\n",
        "renovation_train = list(map(lambda x, y : 0 if x-y==0 else 1,train['YearRemodAdd'],train['YearBuilt']))\n",
        "renovation_test = list(map(lambda x, y : 0 if x-y==0 else 1,test['YearRemodAdd'],test['YearBuilt']))\n",
        "train['Renovation_Done'] = renovation_train\n",
        "test['Renovation_Done'] = renovation_test\n",
        "\n",
        "\n",
        "#updating garage status as per the Garage_built_year\n",
        "train[\"Garage_status\"] = train[\"GarageYrBlt\"] - train['YearBuilt']\n",
        "train['Garage_status'] = train.Garage_status.fillna(-1)\n",
        "train['Garage_status'] = train['Garage_status'].replace([i for i in range(-20,0)],'No_Garag')\n",
        "train['Garage_status'] = train['Garage_status'].replace(0,'Built-in')\n",
        "train['Garage_status'] = train['Garage_status'].replace([i for i in range (1,210)],'Built-Later')\n",
        "\n",
        "test[\"Garage_status\"] = test[\"GarageYrBlt\"] - test['YearBuilt']\n",
        "test['Garage_status'] = test.Garage_status.fillna(-1)\n",
        "test['Garage_status'] = test['Garage_status'].replace([i for i in range(-20,0)],'No_Garag')\n",
        "test['Garage_status'] = test['Garage_status'].replace(0,'Built-in')\n",
        "test['Garage_status'] = test['Garage_status'].replace([i for i in range (1,210)],'Built-Later')\n"
      ],
      "execution_count": null,
      "outputs": []
    },
    {
      "cell_type": "code",
      "metadata": {
        "id": "ddKy-wfw5OHl"
      },
      "source": [
        "#due to wrong values some of the output getting in -ve. replacing these with 0\n",
        "train['RenovationCalculation'] = train['RenovationCalculation'].replace([-1],0)\n",
        "test['RenovationCalculation'] = test['RenovationCalculation'].replace([-1,-2],0)\n"
      ],
      "execution_count": null,
      "outputs": []
    },
    {
      "cell_type": "code",
      "metadata": {
        "id": "Q5hVURA75SG2"
      },
      "source": [
        "#Dropping the columns which are related to Date/Years after extracting the usefull informations\n",
        "train = train.drop(columns=['YearBuilt','YearRemodAdd','YrSold','GarageYrBlt','SoldAfterMonths'],axis=1)\n",
        "test = test.drop(columns=['YearBuilt','YearRemodAdd','YrSold','GarageYrBlt','SoldAfterMonths'],axis=1)\n",
        "\n"
      ],
      "execution_count": null,
      "outputs": []
    },
    {
      "cell_type": "code",
      "metadata": {
        "id": "UjbmTWSc5VGe"
      },
      "source": [
        "#Separating Numerical and Categorical Columns\n",
        "col_number = [i for i in train.columns if train[i].dtype!='O']\n",
        "col_category =[ i for i in train.columns if train[i].dtype=='O']"
      ],
      "execution_count": null,
      "outputs": []
    },
    {
      "cell_type": "code",
      "metadata": {
        "colab": {
          "base_uri": "https://localhost:8080/"
        },
        "id": "fM2uDjjT5aOl",
        "outputId": "eb351ebf-24e0-45e6-85ed-c71ba5d66efe"
      },
      "source": [
        "#checking the Numerical columns which has less than 20 unique values\n",
        "# let's visualise the values of the discrete variables\n",
        "discrete = []\n",
        "\n",
        "for var in col_number:\n",
        "    if len(train[var].unique()) < 20:\n",
        "        print(var, ' values: ', train[var].unique())\n",
        "        discrete.append(var)\n",
        "print('\\nThere are {} discrete variables'.format(len(discrete)))\n",
        "\n"
      ],
      "execution_count": null,
      "outputs": [
        {
          "output_type": "stream",
          "text": [
            "MSSubClass  values:  [ 60  20  70  50 190  45  90 120  30  85  80 160  75 180  40]\n",
            "OverallQual  values:  [ 7  6  8  5  9  4 10  3  1  2]\n",
            "OverallCond  values:  [5 8 6 7 4 2 3 9 1]\n",
            "BsmtFullBath  values:  [1 0 2 3]\n",
            "BsmtHalfBath  values:  [0 1 2]\n",
            "FullBath  values:  [2 1 3 0]\n",
            "HalfBath  values:  [1 0 2]\n",
            "BedroomAbvGr  values:  [3 4 1 2 0 5 6 8]\n",
            "KitchenAbvGr  values:  [1 2 3 0]\n",
            "TotRmsAbvGrd  values:  [ 8  6  7  9  5 11  4 10 12  3  2 14]\n",
            "Fireplaces  values:  [0 1 2 3]\n",
            "GarageCars  values:  [2 3 1 0 4]\n",
            "PoolArea  values:  [  0 512 648 576 555 480 519 738]\n",
            "MoSold  values:  [ 2  5  9 12 10  8 11  4  1  7  3  6]\n",
            "Renovation_Done  values:  [0 1]\n",
            "\n",
            "There are 15 discrete variables\n"
          ],
          "name": "stdout"
        }
      ]
    },
    {
      "cell_type": "code",
      "metadata": {
        "id": "U7k4x-1-5ce7"
      },
      "source": [
        "\n",
        "\n",
        "cols_to_remove = ['OverallQual','FullBath','TotRmsAbvGrd','GarageCars']\n",
        "for i in cols_to_remove:\n",
        "    discrete.remove(i)\n",
        "\n"
      ],
      "execution_count": null,
      "outputs": []
    },
    {
      "cell_type": "code",
      "metadata": {
        "id": "HEB_QlH25e74"
      },
      "source": [
        "\n",
        "\n",
        "#Convert rest of discrete variables into Categorical.\n",
        "train[discrete] = train[discrete].astype(str)\n",
        "test[discrete] = test[discrete].astype(str)\n",
        "\n"
      ],
      "execution_count": null,
      "outputs": []
    },
    {
      "cell_type": "code",
      "metadata": {
        "id": "-pe1XwO25hDs"
      },
      "source": [
        "train = train.drop(columns=['1stFlrSF','BsmtFinSF2','LowQualFinSF','3SsnPorch','MiscVal','EnclosedPorch','ScreenPorch'],axis=1)\n",
        "test = test.drop(columns=['1stFlrSF','BsmtFinSF2','LowQualFinSF','3SsnPorch','MiscVal','EnclosedPorch','ScreenPorch'],axis=1)"
      ],
      "execution_count": null,
      "outputs": []
    },
    {
      "cell_type": "code",
      "metadata": {
        "id": "MapoV0p8531J"
      },
      "source": [
        "\n",
        "\n",
        "#Separating Numerical and Categorical Columns\n",
        "col_number = [i for i in train.columns if train[i].dtype!='O']\n",
        "col_category =[ i for i in train.columns if train[i].dtype=='O']\n",
        "\n"
      ],
      "execution_count": null,
      "outputs": []
    },
    {
      "cell_type": "code",
      "metadata": {
        "colab": {
          "base_uri": "https://localhost:8080/"
        },
        "id": "bN7z9C8H5nT0",
        "outputId": "224dd363-7f4c-4e0b-aa07-b44143b051d9"
      },
      "source": [
        "discrete1 = []\n",
        "\n",
        "for var in col_number:\n",
        "    if len(train[var].unique()) < 20:\n",
        "        print(var, ' values: ', train[var].unique())\n",
        "        discrete1.append(var)\n",
        "print()\n",
        "print('There are {} discrete variables'.format(len(discrete1)))"
      ],
      "execution_count": null,
      "outputs": [
        {
          "output_type": "stream",
          "text": [
            "OverallQual  values:  [ 7  6  8  5  9  4 10  3  1  2]\n",
            "FullBath  values:  [2 1 3 0]\n",
            "TotRmsAbvGrd  values:  [ 8  6  7  9  5 11  4 10 12  3  2 14]\n",
            "GarageCars  values:  [2 3 1 0 4]\n",
            "\n",
            "There are 4 discrete variables\n"
          ],
          "name": "stdout"
        }
      ]
    },
    {
      "cell_type": "code",
      "metadata": {
        "id": "20wjXTcs5rT5"
      },
      "source": [
        "#removing them from separated col_number list\n",
        "\n",
        "for i in discrete1:\n",
        "    col_number.remove(i)\n"
      ],
      "execution_count": null,
      "outputs": []
    },
    {
      "cell_type": "code",
      "metadata": {
        "id": "PQPDf0836kMo"
      },
      "source": [
        "#As per the skewness, seperating the \"Skewed Features\" & \"Gaussian Features\"\n",
        "skewnewss = dict(train[col_number].skew())\n",
        "gaussian_features =[]\n",
        "skewed_features =[]\n",
        "for i,j in skewnewss.items():\n",
        "    if (skewnewss[i]<0.75) and (skewnewss[i]> -0.75):\n",
        "        gaussian_features.append(i)\n",
        "    else:\n",
        "        skewed_features.append(i)"
      ],
      "execution_count": null,
      "outputs": []
    },
    {
      "cell_type": "code",
      "metadata": {
        "id": "kjPL4RPc6x5N"
      },
      "source": [
        "#calculating the outlier present in each column in (%) ~ functions are defined above\n",
        "gaussian_outlier_percentage = calculating_outlier_gaussian(train,gaussian_features)\n",
        "skewed_outlier_percentage = calculating_outlier_skewed(train,skewed_features)\n"
      ],
      "execution_count": null,
      "outputs": []
    },
    {
      "cell_type": "code",
      "metadata": {
        "id": "7Xa1bl6L7BIL"
      },
      "source": [
        "#getting all those column names in the list\n",
        "skewed_outlier_cols_list = list(skewed_outlier_percentage.keys())\n",
        "gaussian_outlier_cols_list = list(gaussian_outlier_percentage.keys())\n"
      ],
      "execution_count": null,
      "outputs": []
    },
    {
      "cell_type": "code",
      "metadata": {
        "id": "FekzqANk7NHa"
      },
      "source": [
        "for i in ['LotFrontage','MasVnrArea']:\n",
        "    skewed_outlier_cols_list.remove(i)"
      ],
      "execution_count": null,
      "outputs": []
    },
    {
      "cell_type": "code",
      "metadata": {
        "id": "GKUmFAuY7_2s"
      },
      "source": [
        "#Creating Pipeline to remove the outliers\n",
        "\n",
        "outlier_trimmer_pipe = Pipeline(steps=[\n",
        "    ('Gaussian_Outliers',OutlierTrimmer(distribution='gaussian',tail='both',\n",
        "                                       fold=3, variables=gaussian_outlier_cols_list)),\n",
        "    (\"Skewed_Outlier\",OutlierTrimmer(distribution='skewed',tail='both',\n",
        "                                    fold=3, variables=skewed_outlier_cols_list))\n",
        "])\n",
        "\n",
        "outlier_trimmer_pipe.fit(train)\n",
        "train = outlier_trimmer_pipe.transform(train)"
      ],
      "execution_count": null,
      "outputs": []
    },
    {
      "cell_type": "code",
      "metadata": {
        "colab": {
          "base_uri": "https://localhost:8080/"
        },
        "id": "JARGoPio8Do2",
        "outputId": "3762b073-c3d8-4216-e9e6-84743ec3ad32"
      },
      "source": [
        "train.shape"
      ],
      "execution_count": null,
      "outputs": [
        {
          "output_type": "execute_result",
          "data": {
            "text/plain": [
              "(1386, 73)"
            ]
          },
          "metadata": {
            "tags": []
          },
          "execution_count": 39
        }
      ]
    },
    {
      "cell_type": "code",
      "metadata": {
        "colab": {
          "base_uri": "https://localhost:8080/"
        },
        "id": "7nv9dRhA8FMp",
        "outputId": "413709ab-3b7a-48a1-e01d-f3ddd9de314d"
      },
      "source": [
        "use_cols=list(train.columns)\n",
        "use_cols.remove(\"SalePrice\")\n",
        "\n",
        "X_train, X_test, y_train, y_test = train_test_split(train[use_cols],train[\"SalePrice\"],\n",
        "                                                    test_size=0.25,random_state=2)\n",
        "\n",
        "X_train.shape, X_test.shape\n"
      ],
      "execution_count": null,
      "outputs": [
        {
          "output_type": "execute_result",
          "data": {
            "text/plain": [
              "((1039, 72), (347, 72))"
            ]
          },
          "metadata": {
            "tags": []
          },
          "execution_count": 40
        }
      ]
    },
    {
      "cell_type": "code",
      "metadata": {
        "id": "nPS3Qza78IIo"
      },
      "source": [
        "missing_data_var_Xtrain = [c for c in X_train.columns if X_train[c].isnull().mean() != 0]\n"
      ],
      "execution_count": null,
      "outputs": []
    },
    {
      "cell_type": "code",
      "metadata": {
        "id": "8fPrG9DC8L2e"
      },
      "source": [
        "#Variable \"GarageCars\" from test set is not matching X_train\n",
        "test['GarageCars'] = test['GarageCars'].replace(['nan'],'0')\n",
        "test['GarageCars'] = test['GarageCars'].replace(['5.0'],'4')\n",
        "test['GarageCars'] = test['GarageCars'].replace(['0.0'],'0')\n",
        "test['GarageCars'] = test['GarageCars'].replace(['1.0'],'1')\n",
        "test['GarageCars'] = test['GarageCars'].replace(['2.0'],'2')\n",
        "test['GarageCars'] = test['GarageCars'].replace(['3.0'],'3')\n",
        "test['GarageCars'] = test['GarageCars'].replace(['4.0'],'4')"
      ],
      "execution_count": null,
      "outputs": []
    },
    {
      "cell_type": "code",
      "metadata": {
        "id": "H5aqV68i8PkN"
      },
      "source": [
        "#Separating Numerical and Categorical Columns from X_train missing_values columns\n",
        "missing_number = [i for i in missing_data_var_Xtrain if X_train[i].dtype!='O']\n",
        "missing_category =[ i for i in missing_data_var_Xtrain if X_train[i].dtype=='O']\n"
      ],
      "execution_count": null,
      "outputs": []
    },
    {
      "cell_type": "code",
      "metadata": {
        "colab": {
          "base_uri": "https://localhost:8080/"
        },
        "id": "BP21mQU78Syr",
        "outputId": "75a088ce-fb55-44e6-d879-d78dffd5746d"
      },
      "source": [
        "missing_number"
      ],
      "execution_count": null,
      "outputs": [
        {
          "output_type": "execute_result",
          "data": {
            "text/plain": [
              "['LotFrontage', 'MasVnrArea']"
            ]
          },
          "metadata": {
            "tags": []
          },
          "execution_count": 44
        }
      ]
    },
    {
      "cell_type": "code",
      "metadata": {
        "id": "_9iRgxNl8VnS"
      },
      "source": [
        "num_impute_pipeline = Pipeline(steps=[\n",
        "    (\"Missing Indicator\",AddMissingIndicator(variables=[\"LotFrontage\"])), #Addming missing indicator\n",
        "    (\"Median_imputation\",MeanMedianImputer(imputation_method=\"median\",variables=['LotFrontage',\"MasVnrArea\"]))\n",
        "])\n",
        "\n",
        "num_impute_pipeline.fit(X_train)\n",
        "X_train = num_impute_pipeline.transform(X_train)\n",
        "X_test = num_impute_pipeline.transform(X_test)\n",
        "test = num_impute_pipeline.transform(test)\n"
      ],
      "execution_count": null,
      "outputs": []
    },
    {
      "cell_type": "code",
      "metadata": {
        "id": "o_3L4jLp8x8-"
      },
      "source": [
        "cat_missing_data = ['MasVnrType','Electrical']\n",
        "cat_missing_labels = ['Alley','BsmtQual','BsmtCond','BsmtExposure','BsmtFinType1','BsmtFinType2',\n",
        "                  'FireplaceQu','GarageType','GarageFinish','GarageQual','GarageCond','PoolQC',\n",
        "                  'Fence', 'MiscFeature']\n",
        "\n"
      ],
      "execution_count": null,
      "outputs": []
    },
    {
      "cell_type": "code",
      "metadata": {
        "id": "4jpS_O99nlfF"
      },
      "source": [
        ""
      ],
      "execution_count": null,
      "outputs": []
    },
    {
      "cell_type": "code",
      "metadata": {
        "id": "WW-r2Cuu9FxJ"
      },
      "source": [
        "#creating a Pipeline to impute the missing_values in categorical variables\n",
        "category_missing_pipe = Pipeline(steps=[\n",
        "    ('Frequent_category',CategoricalVariableImputer(imputation_method='frequent',\n",
        "                                                   variables=cat_missing_data)),\n",
        "    ('Missing_Labels',CategoricalVariableImputer(imputation_method='missing',\n",
        "                                                variables=cat_missing_labels))\n",
        "])\n",
        "\n",
        "\n",
        "#imputing the missing value\n",
        "category_missing_pipe.fit(X_train)\n",
        "X_train = category_missing_pipe.transform(X_train)\n",
        "X_test = category_missing_pipe.transform(X_test)\n",
        "test = category_missing_pipe.transform(test)\n"
      ],
      "execution_count": null,
      "outputs": []
    },
    {
      "cell_type": "code",
      "metadata": {
        "colab": {
          "base_uri": "https://localhost:8080/"
        },
        "id": "2QueamcjDpMr",
        "outputId": "ebef2de6-892e-4977-9927-7cf3d464f2fa"
      },
      "source": [
        "#Checking if there are any missing date in Test Set now\n",
        "missing_data_var_test = [c for c in test.columns if test[c].isnull().mean() != 0]\n",
        "test[missing_data_var_test].isnull().mean()*100\n"
      ],
      "execution_count": null,
      "outputs": [
        {
          "output_type": "execute_result",
          "data": {
            "text/plain": [
              "MSZoning       0.27416\n",
              "Utilities      0.13708\n",
              "Exterior1st    0.06854\n",
              "Exterior2nd    0.06854\n",
              "BsmtFinSF1     0.06854\n",
              "BsmtUnfSF      0.06854\n",
              "TotalBsmtSF    0.06854\n",
              "KitchenQual    0.06854\n",
              "Functional     0.13708\n",
              "GarageCars     0.06854\n",
              "GarageArea     0.06854\n",
              "SaleType       0.06854\n",
              "dtype: float64"
            ]
          },
          "metadata": {
            "tags": []
          },
          "execution_count": 48
        }
      ]
    },
    {
      "cell_type": "code",
      "metadata": {
        "id": "bOy7MJwsDrER"
      },
      "source": [
        "#Separating Numerical and Categorical Columns from test missing_values columns\n",
        "test_missing_number = [i for i in missing_data_var_test if test[i].dtype!='O']\n",
        "test_missing_category =[ i for i in missing_data_var_test if test[i].dtype=='O']\n"
      ],
      "execution_count": null,
      "outputs": []
    },
    {
      "cell_type": "code",
      "metadata": {
        "colab": {
          "base_uri": "https://localhost:8080/"
        },
        "id": "bmdx7RB1DtC7",
        "outputId": "1e1b016d-8a5f-4c33-c01e-3ab89c9b0a5e"
      },
      "source": [
        "test[test_missing_number].isnull().mean()"
      ],
      "execution_count": null,
      "outputs": [
        {
          "output_type": "execute_result",
          "data": {
            "text/plain": [
              "BsmtFinSF1     0.000685\n",
              "BsmtUnfSF      0.000685\n",
              "TotalBsmtSF    0.000685\n",
              "GarageCars     0.000685\n",
              "GarageArea     0.000685\n",
              "dtype: float64"
            ]
          },
          "metadata": {
            "tags": []
          },
          "execution_count": 50
        }
      ]
    },
    {
      "cell_type": "code",
      "metadata": {
        "id": "xtJd_avUDuhJ"
      },
      "source": [
        "test_imputer_remaining = MeanMedianImputer(imputation_method=\"median\",\n",
        "                                          variables=test_missing_number)\n",
        "\n",
        "test_imputer_remaining.fit(X_train)\n",
        "test = test_imputer_remaining.transform(test)\n"
      ],
      "execution_count": null,
      "outputs": []
    },
    {
      "cell_type": "code",
      "metadata": {
        "colab": {
          "base_uri": "https://localhost:8080/"
        },
        "id": "Kvre42ddDz6z",
        "outputId": "81f2a78c-93b6-440b-de18-b40e5c73bc5c"
      },
      "source": [
        "test[test_missing_category].isnull().mean()"
      ],
      "execution_count": null,
      "outputs": [
        {
          "output_type": "execute_result",
          "data": {
            "text/plain": [
              "MSZoning       0.002742\n",
              "Utilities      0.001371\n",
              "Exterior1st    0.000685\n",
              "Exterior2nd    0.000685\n",
              "KitchenQual    0.000685\n",
              "Functional     0.001371\n",
              "SaleType       0.000685\n",
              "dtype: float64"
            ]
          },
          "metadata": {
            "tags": []
          },
          "execution_count": 52
        }
      ]
    },
    {
      "cell_type": "code",
      "metadata": {
        "id": "35XKLV9AD1lk"
      },
      "source": [
        "test_imputer_cat = CategoricalVariableImputer(imputation_method='frequent',\n",
        "                                             variables=test_missing_category)\n",
        "\n",
        "test_imputer_cat.fit(X_train)\n",
        "test = test_imputer_cat.transform(test)\n",
        "\n"
      ],
      "execution_count": null,
      "outputs": []
    },
    {
      "cell_type": "code",
      "metadata": {
        "id": "HyetSSOHD3p-"
      },
      "source": [
        "#Separating Numerical and Categorical Columns\n",
        "col_number = [i for i in X_train.columns if X_train[i].dtype!='O']\n",
        "col_category =[ i for i in X_train.columns if X_train[i].dtype=='O']"
      ],
      "execution_count": null,
      "outputs": []
    },
    {
      "cell_type": "code",
      "metadata": {
        "colab": {
          "base_uri": "https://localhost:8080/",
          "height": 614
        },
        "id": "jHIz95kqD5Xu",
        "outputId": "c93083ef-ae1b-49bf-f4c3-b7aec5f8fb3c"
      },
      "source": [
        "X_train[col_number].describe().transpose()\n"
      ],
      "execution_count": null,
      "outputs": [
        {
          "output_type": "execute_result",
          "data": {
            "text/html": [
              "<div>\n",
              "<style scoped>\n",
              "    .dataframe tbody tr th:only-of-type {\n",
              "        vertical-align: middle;\n",
              "    }\n",
              "\n",
              "    .dataframe tbody tr th {\n",
              "        vertical-align: top;\n",
              "    }\n",
              "\n",
              "    .dataframe thead th {\n",
              "        text-align: right;\n",
              "    }\n",
              "</style>\n",
              "<table border=\"1\" class=\"dataframe\">\n",
              "  <thead>\n",
              "    <tr style=\"text-align: right;\">\n",
              "      <th></th>\n",
              "      <th>count</th>\n",
              "      <th>mean</th>\n",
              "      <th>std</th>\n",
              "      <th>min</th>\n",
              "      <th>25%</th>\n",
              "      <th>50%</th>\n",
              "      <th>75%</th>\n",
              "      <th>max</th>\n",
              "    </tr>\n",
              "  </thead>\n",
              "  <tbody>\n",
              "    <tr>\n",
              "      <th>LotFrontage</th>\n",
              "      <td>1039.0</td>\n",
              "      <td>68.239654</td>\n",
              "      <td>19.583656</td>\n",
              "      <td>21.0</td>\n",
              "      <td>60.0</td>\n",
              "      <td>68.0</td>\n",
              "      <td>78.0</td>\n",
              "      <td>182.0</td>\n",
              "    </tr>\n",
              "    <tr>\n",
              "      <th>LotArea</th>\n",
              "      <td>1039.0</td>\n",
              "      <td>9390.133782</td>\n",
              "      <td>3540.052417</td>\n",
              "      <td>1300.0</td>\n",
              "      <td>7369.0</td>\n",
              "      <td>9337.0</td>\n",
              "      <td>11276.0</td>\n",
              "      <td>23257.0</td>\n",
              "    </tr>\n",
              "    <tr>\n",
              "      <th>OverallQual</th>\n",
              "      <td>1039.0</td>\n",
              "      <td>6.020212</td>\n",
              "      <td>1.341704</td>\n",
              "      <td>1.0</td>\n",
              "      <td>5.0</td>\n",
              "      <td>6.0</td>\n",
              "      <td>7.0</td>\n",
              "      <td>10.0</td>\n",
              "    </tr>\n",
              "    <tr>\n",
              "      <th>MasVnrArea</th>\n",
              "      <td>1039.0</td>\n",
              "      <td>94.637151</td>\n",
              "      <td>164.609423</td>\n",
              "      <td>0.0</td>\n",
              "      <td>0.0</td>\n",
              "      <td>0.0</td>\n",
              "      <td>149.5</td>\n",
              "      <td>1600.0</td>\n",
              "    </tr>\n",
              "    <tr>\n",
              "      <th>BsmtFinSF1</th>\n",
              "      <td>1039.0</td>\n",
              "      <td>425.698749</td>\n",
              "      <td>418.389290</td>\n",
              "      <td>0.0</td>\n",
              "      <td>0.0</td>\n",
              "      <td>375.0</td>\n",
              "      <td>700.0</td>\n",
              "      <td>1696.0</td>\n",
              "    </tr>\n",
              "    <tr>\n",
              "      <th>BsmtUnfSF</th>\n",
              "      <td>1039.0</td>\n",
              "      <td>552.358037</td>\n",
              "      <td>438.177849</td>\n",
              "      <td>0.0</td>\n",
              "      <td>216.5</td>\n",
              "      <td>458.0</td>\n",
              "      <td>788.5</td>\n",
              "      <td>2336.0</td>\n",
              "    </tr>\n",
              "    <tr>\n",
              "      <th>TotalBsmtSF</th>\n",
              "      <td>1039.0</td>\n",
              "      <td>1027.197305</td>\n",
              "      <td>392.190480</td>\n",
              "      <td>0.0</td>\n",
              "      <td>788.0</td>\n",
              "      <td>975.0</td>\n",
              "      <td>1264.0</td>\n",
              "      <td>2392.0</td>\n",
              "    </tr>\n",
              "    <tr>\n",
              "      <th>2ndFlrSF</th>\n",
              "      <td>1039.0</td>\n",
              "      <td>330.197305</td>\n",
              "      <td>419.649839</td>\n",
              "      <td>0.0</td>\n",
              "      <td>0.0</td>\n",
              "      <td>0.0</td>\n",
              "      <td>709.0</td>\n",
              "      <td>1611.0</td>\n",
              "    </tr>\n",
              "    <tr>\n",
              "      <th>GrLivArea</th>\n",
              "      <td>1039.0</td>\n",
              "      <td>1473.998075</td>\n",
              "      <td>466.224519</td>\n",
              "      <td>438.0</td>\n",
              "      <td>1120.5</td>\n",
              "      <td>1436.0</td>\n",
              "      <td>1734.0</td>\n",
              "      <td>3447.0</td>\n",
              "    </tr>\n",
              "    <tr>\n",
              "      <th>FullBath</th>\n",
              "      <td>1039.0</td>\n",
              "      <td>1.545717</td>\n",
              "      <td>0.540800</td>\n",
              "      <td>0.0</td>\n",
              "      <td>1.0</td>\n",
              "      <td>2.0</td>\n",
              "      <td>2.0</td>\n",
              "      <td>3.0</td>\n",
              "    </tr>\n",
              "    <tr>\n",
              "      <th>TotRmsAbvGrd</th>\n",
              "      <td>1039.0</td>\n",
              "      <td>6.418672</td>\n",
              "      <td>1.550336</td>\n",
              "      <td>3.0</td>\n",
              "      <td>5.0</td>\n",
              "      <td>6.0</td>\n",
              "      <td>7.0</td>\n",
              "      <td>14.0</td>\n",
              "    </tr>\n",
              "    <tr>\n",
              "      <th>GarageCars</th>\n",
              "      <td>1039.0</td>\n",
              "      <td>1.733397</td>\n",
              "      <td>0.736570</td>\n",
              "      <td>0.0</td>\n",
              "      <td>1.0</td>\n",
              "      <td>2.0</td>\n",
              "      <td>2.0</td>\n",
              "      <td>4.0</td>\n",
              "    </tr>\n",
              "    <tr>\n",
              "      <th>GarageArea</th>\n",
              "      <td>1039.0</td>\n",
              "      <td>462.037536</td>\n",
              "      <td>204.701426</td>\n",
              "      <td>0.0</td>\n",
              "      <td>312.0</td>\n",
              "      <td>472.0</td>\n",
              "      <td>576.0</td>\n",
              "      <td>1069.0</td>\n",
              "    </tr>\n",
              "    <tr>\n",
              "      <th>WoodDeckSF</th>\n",
              "      <td>1039.0</td>\n",
              "      <td>88.438884</td>\n",
              "      <td>116.830047</td>\n",
              "      <td>0.0</td>\n",
              "      <td>0.0</td>\n",
              "      <td>0.0</td>\n",
              "      <td>161.5</td>\n",
              "      <td>668.0</td>\n",
              "    </tr>\n",
              "    <tr>\n",
              "      <th>OpenPorchSF</th>\n",
              "      <td>1039.0</td>\n",
              "      <td>41.231954</td>\n",
              "      <td>54.884790</td>\n",
              "      <td>0.0</td>\n",
              "      <td>0.0</td>\n",
              "      <td>21.0</td>\n",
              "      <td>63.0</td>\n",
              "      <td>265.0</td>\n",
              "    </tr>\n",
              "    <tr>\n",
              "      <th>SoldAfterYears</th>\n",
              "      <td>1039.0</td>\n",
              "      <td>36.518768</td>\n",
              "      <td>29.964838</td>\n",
              "      <td>0.0</td>\n",
              "      <td>7.0</td>\n",
              "      <td>35.0</td>\n",
              "      <td>55.0</td>\n",
              "      <td>127.0</td>\n",
              "    </tr>\n",
              "    <tr>\n",
              "      <th>RenovationCalculation</th>\n",
              "      <td>1039.0</td>\n",
              "      <td>23.192493</td>\n",
              "      <td>20.646943</td>\n",
              "      <td>0.0</td>\n",
              "      <td>4.0</td>\n",
              "      <td>15.0</td>\n",
              "      <td>41.5</td>\n",
              "      <td>60.0</td>\n",
              "    </tr>\n",
              "    <tr>\n",
              "      <th>LotFrontage_na</th>\n",
              "      <td>1039.0</td>\n",
              "      <td>0.180943</td>\n",
              "      <td>0.385157</td>\n",
              "      <td>0.0</td>\n",
              "      <td>0.0</td>\n",
              "      <td>0.0</td>\n",
              "      <td>0.0</td>\n",
              "      <td>1.0</td>\n",
              "    </tr>\n",
              "  </tbody>\n",
              "</table>\n",
              "</div>"
            ],
            "text/plain": [
              "                        count         mean  ...      75%      max\n",
              "LotFrontage            1039.0    68.239654  ...     78.0    182.0\n",
              "LotArea                1039.0  9390.133782  ...  11276.0  23257.0\n",
              "OverallQual            1039.0     6.020212  ...      7.0     10.0\n",
              "MasVnrArea             1039.0    94.637151  ...    149.5   1600.0\n",
              "BsmtFinSF1             1039.0   425.698749  ...    700.0   1696.0\n",
              "BsmtUnfSF              1039.0   552.358037  ...    788.5   2336.0\n",
              "TotalBsmtSF            1039.0  1027.197305  ...   1264.0   2392.0\n",
              "2ndFlrSF               1039.0   330.197305  ...    709.0   1611.0\n",
              "GrLivArea              1039.0  1473.998075  ...   1734.0   3447.0\n",
              "FullBath               1039.0     1.545717  ...      2.0      3.0\n",
              "TotRmsAbvGrd           1039.0     6.418672  ...      7.0     14.0\n",
              "GarageCars             1039.0     1.733397  ...      2.0      4.0\n",
              "GarageArea             1039.0   462.037536  ...    576.0   1069.0\n",
              "WoodDeckSF             1039.0    88.438884  ...    161.5    668.0\n",
              "OpenPorchSF            1039.0    41.231954  ...     63.0    265.0\n",
              "SoldAfterYears         1039.0    36.518768  ...     55.0    127.0\n",
              "RenovationCalculation  1039.0    23.192493  ...     41.5     60.0\n",
              "LotFrontage_na         1039.0     0.180943  ...      0.0      1.0\n",
              "\n",
              "[18 rows x 8 columns]"
            ]
          },
          "metadata": {
            "tags": []
          },
          "execution_count": 55
        }
      ]
    },
    {
      "cell_type": "code",
      "metadata": {
        "id": "b5qTC1ssEbjo"
      },
      "source": [
        "log_transform = ['LotFrontage','LotArea','GrLivArea'] #does not have 0\n",
        "box_cox_transform = ['MasVnrArea','BsmtFinSF1','BsmtUnfSF','TotalBsmtSF',\n",
        "                     '2ndFlrSF','GarageArea','WoodDeckSF','OpenPorchSF']\n",
        "avoid = ['OverallQual','FullBath','TotRmsAbvGrd','GarageCars','LotFrontage_na']\n",
        "scalar_PCA = []\n",
        "\n",
        "for i in col_number:\n",
        "    if i not in avoid:\n",
        "        scalar_PCA.append(i)"
      ],
      "execution_count": null,
      "outputs": []
    },
    {
      "cell_type": "code",
      "metadata": {
        "id": "yWjSjboaEeuV"
      },
      "source": [
        "X_train[['PoolArea','MSSubClass']]=X_train[['PoolArea','MSSubClass']].astype(int)\n",
        "X_test[['PoolArea','MSSubClass']]=X_test[['PoolArea','MSSubClass']].astype(int)\n",
        "test[['PoolArea','MSSubClass']]=test[['PoolArea','MSSubClass']].astype(int)\n"
      ],
      "execution_count": null,
      "outputs": []
    },
    {
      "cell_type": "code",
      "metadata": {
        "id": "Vblv7WyJEgwW"
      },
      "source": [
        "disc_pipe = Pipeline(steps=[\n",
        "    ('PoolArea_disc',EqualWidthDiscretiser(bins = 2, variables=['PoolArea'])),\n",
        "    ('MSSubClass_disc',EqualWidthDiscretiser(bins=8,variables=['MSSubClass'])),   \n",
        "])\n",
        "\n",
        "disc_pipe.fit(X_train)\n",
        "X_train = disc_pipe.transform(X_train)\n",
        "X_test = disc_pipe.transform(X_test)\n",
        "test = disc_pipe.transform(test)"
      ],
      "execution_count": null,
      "outputs": []
    },
    {
      "cell_type": "code",
      "metadata": {
        "colab": {
          "base_uri": "https://localhost:8080/",
          "height": 295
        },
        "id": "Ne6psOnJEil1",
        "outputId": "53236968-c641-47a6-a01c-43f928e4b37c"
      },
      "source": [
        "explore_relation_catTotar(X_train,y_train,['MSSubClass'])"
      ],
      "execution_count": null,
      "outputs": [
        {
          "output_type": "display_data",
          "data": {
            "image/png": "[encoded data removed]",
            "text/plain": [
              "<Figure size 432x288 with 1 Axes>"
            ]
          },
          "metadata": {
            "tags": [],
            "needs_background": "light"
          }
        }
      ]
    },
    {
      "cell_type": "code",
      "metadata": {
        "id": "o6ZFgCeVEkQZ"
      },
      "source": [
        "X_train[['MSSubClass']]=X_train[['MSSubClass']].astype(str)\n",
        "X_test[['MSSubClass']]=X_test[['MSSubClass']].astype(str)\n",
        "test[['MSSubClass']]=test[['MSSubClass']].astype(str)\n",
        "\n"
      ],
      "execution_count": null,
      "outputs": []
    },
    {
      "cell_type": "code",
      "metadata": {
        "id": "tkZlnHEGEl-7"
      },
      "source": [
        "X_train1 = X_train.copy()\n",
        "X_test1 = X_test.copy()\n",
        "test1 = test.copy()"
      ],
      "execution_count": null,
      "outputs": []
    },
    {
      "cell_type": "code",
      "metadata": {
        "id": "_wmhgzNHEn6p"
      },
      "source": [
        "\n",
        "\n",
        "#Separating Numerical and Categorical Columns\n",
        "col_number = [i for i in X_train1.columns if X_train1[i].dtype!='O']\n",
        "col_category =[ i for i in X_train1.columns if X_train1[i].dtype=='O']\n",
        "\n"
      ],
      "execution_count": null,
      "outputs": []
    },
    {
      "cell_type": "code",
      "metadata": {
        "id": "nNQWgxW9Epmx"
      },
      "source": [
        "rare_encoder = RareLabelCategoricalEncoder(tol=0.05,\n",
        "                                                   n_categories=1,\n",
        "                                                    variables=col_category)\n",
        "\n",
        "rare_encoder.fit(X_train1)\n",
        "X_train1 = rare_encoder.transform(X_train1)\n",
        "X_test1 = rare_encoder.transform(X_test1)\n",
        "test1 = rare_encoder.transform(test1)"
      ],
      "execution_count": null,
      "outputs": []
    },
    {
      "cell_type": "code",
      "metadata": {
        "id": "EbJjSe0wErZe"
      },
      "source": [
        "ordered =[]\n",
        "one_hot=[]\n",
        "for i in col_category:\n",
        "    if len(X_train1[i].unique())>=5:\n",
        "        ordered.append(i)\n",
        "    else:\n",
        "        one_hot.append(i)"
      ],
      "execution_count": null,
      "outputs": []
    },
    {
      "cell_type": "code",
      "metadata": {
        "colab": {
          "base_uri": "https://localhost:8080/"
        },
        "id": "J0gK5cBqEtA3",
        "outputId": "5922acc6-3394-4c1c-8f25-bc2eef1e3a65"
      },
      "source": [
        "target_encoding = OrdinalCategoricalEncoder(encoding_method=\"ordered\",\n",
        "                                           variables=ordered)\n",
        "\n",
        "target_encoding.fit(X_train1,y_train)\n",
        "\n"
      ],
      "execution_count": null,
      "outputs": [
        {
          "output_type": "execute_result",
          "data": {
            "text/plain": [
              "OrdinalCategoricalEncoder(encoding_method='ordered',\n",
              "                          variables=['MSSubClass', 'Neighborhood',\n",
              "                                     'OverallCond', 'Exterior1st',\n",
              "                                     'Exterior2nd', 'BsmtExposure',\n",
              "                                     'BsmtFinType1', 'GarageType', 'MoSold'])"
            ]
          },
          "metadata": {
            "tags": []
          },
          "execution_count": 65
        }
      ]
    },
    {
      "cell_type": "code",
      "metadata": {
        "id": "HfZokldlEukj"
      },
      "source": [
        "X_train1 = target_encoding.transform(X_train1)\n",
        "X_test1 = target_encoding.transform(X_test1)\n",
        "test1 = target_encoding.transform(test1)\n"
      ],
      "execution_count": null,
      "outputs": []
    },
    {
      "cell_type": "code",
      "metadata": {
        "colab": {
          "base_uri": "https://localhost:8080/"
        },
        "id": "qFTDCCqPEwSq",
        "outputId": "c57485c1-e73e-4cfe-b31f-f4ddf00af133"
      },
      "source": [
        "one_hot = OneHotCategoricalEncoder(top_categories=None,\n",
        "                                  variables=one_hot,\n",
        "                                  drop_last=True)\n",
        "\n",
        "one_hot.fit(X_train1)"
      ],
      "execution_count": null,
      "outputs": [
        {
          "output_type": "execute_result",
          "data": {
            "text/plain": [
              "OneHotCategoricalEncoder(drop_last=True, top_categories=None,\n",
              "                         variables=['MSZoning', 'Street', 'Alley', 'LotShape',\n",
              "                                    'LandContour', 'Utilities', 'LotConfig',\n",
              "                                    'LandSlope', 'Condition1', 'Condition2',\n",
              "                                    'BldgType', 'HouseStyle', 'RoofStyle',\n",
              "                                    'RoofMatl', 'MasVnrType', 'ExterQual',\n",
              "                                    'ExterCond', 'Foundation', 'BsmtQual',\n",
              "                                    'BsmtCond', 'BsmtFinType2', 'Heating',\n",
              "                                    'HeatingQC', 'CentralAir', 'Electrical',\n",
              "                                    'BsmtFullBath', 'BsmtHalfBath', 'HalfBath',\n",
              "                                    'BedroomAbvGr', 'KitchenAbvGr', ...])"
            ]
          },
          "metadata": {
            "tags": []
          },
          "execution_count": 67
        }
      ]
    },
    {
      "cell_type": "code",
      "metadata": {
        "id": "ya7jtHDYEx2P"
      },
      "source": [
        "X_train1 = one_hot.transform(X_train1)\n",
        "X_test1 = one_hot.transform(X_test1)\n",
        "test1 = one_hot.transform(test1)\n"
      ],
      "execution_count": null,
      "outputs": []
    },
    {
      "cell_type": "code",
      "metadata": {
        "colab": {
          "base_uri": "https://localhost:8080/"
        },
        "id": "6HhuvT2ME0pO",
        "outputId": "cbabf10c-c11b-4ab1-ce6d-b81b20bba154"
      },
      "source": [
        "X_train1.shape, X_test1.shape,test1.shape"
      ],
      "execution_count": null,
      "outputs": [
        {
          "output_type": "execute_result",
          "data": {
            "text/plain": [
              "((1039, 114), (347, 114), (1459, 114))"
            ]
          },
          "metadata": {
            "tags": []
          },
          "execution_count": 69
        }
      ]
    },
    {
      "cell_type": "code",
      "metadata": {
        "id": "tTKjbWd_E3SL"
      },
      "source": [
        "X_train2 = X_train1.copy()\n",
        "X_test2 = X_test1.copy()\n",
        "test2 = test1.copy()\n"
      ],
      "execution_count": null,
      "outputs": []
    },
    {
      "cell_type": "code",
      "metadata": {
        "id": "cQOCBBhfE6tU"
      },
      "source": [
        "X_train2_scalar_pca = X_train2[scalar_PCA].copy()\n",
        "X_test2_scalar_pca = X_test1[scalar_PCA].copy()\n",
        "test2_scalar_pca = test2[scalar_PCA].copy()\n",
        "\n",
        "\n",
        "X_train2 = X_train2.drop(columns=scalar_PCA,axis=1)\n",
        "X_test2 = X_test2.drop(columns=scalar_PCA,axis=1)\n",
        "test2 = test2.drop(columns=scalar_PCA,axis=1)\n"
      ],
      "execution_count": null,
      "outputs": []
    },
    {
      "cell_type": "code",
      "metadata": {
        "id": "bVtig-QME8QJ"
      },
      "source": [
        "scalar = StandardScaler()\n",
        "\n",
        "scalar.fit(X_train2_scalar_pca)\n",
        "X_train2_scalar_pca = scalar.transform(X_train2_scalar_pca)\n",
        "X_test2_scalar_pca = scalar.transform(X_test2_scalar_pca)\n",
        "test2_scalar_pca = scalar.transform(test2_scalar_pca)"
      ],
      "execution_count": null,
      "outputs": []
    },
    {
      "cell_type": "code",
      "metadata": {
        "colab": {
          "base_uri": "https://localhost:8080/"
        },
        "id": "1UTPjL7RE-Jr",
        "outputId": "034a3b9c-bc38-4998-e347-419de1d8a1fb"
      },
      "source": [
        "\n",
        "X_train2_scalar_pca.shape\n",
        "pca = PCA(n_components=11)\n",
        "pca.fit(X_train2_scalar_pca)\n",
        "\n"
      ],
      "execution_count": null,
      "outputs": [
        {
          "output_type": "execute_result",
          "data": {
            "text/plain": [
              "PCA(copy=True, iterated_power='auto', n_components=11, random_state=None,\n",
              "    svd_solver='auto', tol=0.0, whiten=False)"
            ]
          },
          "metadata": {
            "tags": []
          },
          "execution_count": 75
        }
      ]
    },
    {
      "cell_type": "code",
      "metadata": {
        "id": "3YO9B1nlE_5a"
      },
      "source": [
        "X_train2_scalar_pca = pca.transform(X_train2_scalar_pca)\n",
        "X_test2_scalar_pca = pca.transform(X_test2_scalar_pca)\n",
        "test2_scalar_pca = pca.transform(test2_scalar_pca)\n",
        "\n"
      ],
      "execution_count": null,
      "outputs": []
    },
    {
      "cell_type": "code",
      "metadata": {
        "colab": {
          "base_uri": "https://localhost:8080/"
        },
        "id": "nl4rgYCJFCBY",
        "outputId": "96391fe6-e884-45d9-8ffe-622c127f8e02"
      },
      "source": [
        "\n",
        "\n",
        "np.cumsum(pca.explained_variance_ratio_)\n",
        "\n"
      ],
      "execution_count": null,
      "outputs": [
        {
          "output_type": "execute_result",
          "data": {
            "text/plain": [
              "array([0.28666501, 0.41956514, 0.53617646, 0.64929987, 0.72047433,\n",
              "       0.78889315, 0.8436009 , 0.89143847, 0.93024198, 0.96189917,\n",
              "       0.98821561])"
            ]
          },
          "metadata": {
            "tags": []
          },
          "execution_count": 77
        }
      ]
    },
    {
      "cell_type": "code",
      "metadata": {
        "colab": {
          "base_uri": "https://localhost:8080/"
        },
        "id": "zlmou-iWFDjs",
        "outputId": "fc04485e-7a95-404e-aa52-ca0bf9fcf06f"
      },
      "source": [
        "pca.explained_variance_ratio_"
      ],
      "execution_count": null,
      "outputs": [
        {
          "output_type": "execute_result",
          "data": {
            "text/plain": [
              "array([0.28666501, 0.13290013, 0.11661132, 0.1131234 , 0.07117446,\n",
              "       0.06841882, 0.05470775, 0.04783757, 0.03880351, 0.03165719,\n",
              "       0.02631644])"
            ]
          },
          "metadata": {
            "tags": []
          },
          "execution_count": 78
        }
      ]
    },
    {
      "cell_type": "code",
      "metadata": {
        "id": "tU98NPDwFFVR"
      },
      "source": [
        "cols = []\n",
        "for i in range (0,len(pca.explained_variance_ratio_)):\n",
        "    var = 'col'+ str(i)\n",
        "    cols.append(var)\n",
        "\n",
        "X_train_pca=pd.DataFrame(data=X_train2_scalar_pca,columns=cols)\n",
        "X_test_pca = pd.DataFrame(data=X_test2_scalar_pca,columns=cols)\n",
        "test_pca = pd.DataFrame(data=test2_scalar_pca,columns=cols)"
      ],
      "execution_count": null,
      "outputs": []
    },
    {
      "cell_type": "code",
      "metadata": {
        "colab": {
          "base_uri": "https://localhost:8080/",
          "height": 206
        },
        "id": "kETa0es2FHKp",
        "outputId": "a7d1a0b7-3d18-44f8-9899-3dfbdee1995c"
      },
      "source": [
        "X_train_pca.head()"
      ],
      "execution_count": null,
      "outputs": [
        {
          "output_type": "execute_result",
          "data": {
            "text/html": [
              "<div>\n",
              "<style scoped>\n",
              "    .dataframe tbody tr th:only-of-type {\n",
              "        vertical-align: middle;\n",
              "    }\n",
              "\n",
              "    .dataframe tbody tr th {\n",
              "        vertical-align: top;\n",
              "    }\n",
              "\n",
              "    .dataframe thead th {\n",
              "        text-align: right;\n",
              "    }\n",
              "</style>\n",
              "<table border=\"1\" class=\"dataframe\">\n",
              "  <thead>\n",
              "    <tr style=\"text-align: right;\">\n",
              "      <th></th>\n",
              "      <th>col0</th>\n",
              "      <th>col1</th>\n",
              "      <th>col2</th>\n",
              "      <th>col3</th>\n",
              "      <th>col4</th>\n",
              "      <th>col5</th>\n",
              "      <th>col6</th>\n",
              "      <th>col7</th>\n",
              "      <th>col8</th>\n",
              "      <th>col9</th>\n",
              "      <th>col10</th>\n",
              "    </tr>\n",
              "  </thead>\n",
              "  <tbody>\n",
              "    <tr>\n",
              "      <th>0</th>\n",
              "      <td>-0.524377</td>\n",
              "      <td>1.685432</td>\n",
              "      <td>-2.656581</td>\n",
              "      <td>-0.399734</td>\n",
              "      <td>0.239513</td>\n",
              "      <td>0.718788</td>\n",
              "      <td>-0.724460</td>\n",
              "      <td>0.550488</td>\n",
              "      <td>0.294221</td>\n",
              "      <td>0.196958</td>\n",
              "      <td>-0.415419</td>\n",
              "    </tr>\n",
              "    <tr>\n",
              "      <th>1</th>\n",
              "      <td>-0.443229</td>\n",
              "      <td>2.300637</td>\n",
              "      <td>0.354810</td>\n",
              "      <td>-0.655470</td>\n",
              "      <td>1.513176</td>\n",
              "      <td>-1.691463</td>\n",
              "      <td>0.724844</td>\n",
              "      <td>1.290569</td>\n",
              "      <td>-0.066116</td>\n",
              "      <td>-0.287054</td>\n",
              "      <td>0.846751</td>\n",
              "    </tr>\n",
              "    <tr>\n",
              "      <th>2</th>\n",
              "      <td>-1.489609</td>\n",
              "      <td>-1.758238</td>\n",
              "      <td>0.285579</td>\n",
              "      <td>-0.495708</td>\n",
              "      <td>0.707252</td>\n",
              "      <td>0.710842</td>\n",
              "      <td>0.450121</td>\n",
              "      <td>-0.067975</td>\n",
              "      <td>-0.538528</td>\n",
              "      <td>0.110332</td>\n",
              "      <td>-0.398906</td>\n",
              "    </tr>\n",
              "    <tr>\n",
              "      <th>3</th>\n",
              "      <td>-1.970225</td>\n",
              "      <td>-1.795317</td>\n",
              "      <td>-0.621187</td>\n",
              "      <td>-0.876948</td>\n",
              "      <td>0.528733</td>\n",
              "      <td>0.954520</td>\n",
              "      <td>0.318964</td>\n",
              "      <td>0.241166</td>\n",
              "      <td>-1.879471</td>\n",
              "      <td>-1.113337</td>\n",
              "      <td>-0.850867</td>\n",
              "    </tr>\n",
              "    <tr>\n",
              "      <th>4</th>\n",
              "      <td>0.160287</td>\n",
              "      <td>1.332296</td>\n",
              "      <td>0.522649</td>\n",
              "      <td>-0.771833</td>\n",
              "      <td>0.245838</td>\n",
              "      <td>1.571044</td>\n",
              "      <td>0.773827</td>\n",
              "      <td>-0.683443</td>\n",
              "      <td>0.048057</td>\n",
              "      <td>0.115297</td>\n",
              "      <td>-0.348011</td>\n",
              "    </tr>\n",
              "  </tbody>\n",
              "</table>\n",
              "</div>"
            ],
            "text/plain": [
              "       col0      col1      col2  ...      col8      col9     col10\n",
              "0 -0.524377  1.685432 -2.656581  ...  0.294221  0.196958 -0.415419\n",
              "1 -0.443229  2.300637  0.354810  ... -0.066116 -0.287054  0.846751\n",
              "2 -1.489609 -1.758238  0.285579  ... -0.538528  0.110332 -0.398906\n",
              "3 -1.970225 -1.795317 -0.621187  ... -1.879471 -1.113337 -0.850867\n",
              "4  0.160287  1.332296  0.522649  ...  0.048057  0.115297 -0.348011\n",
              "\n",
              "[5 rows x 11 columns]"
            ]
          },
          "metadata": {
            "tags": []
          },
          "execution_count": 80
        }
      ]
    },
    {
      "cell_type": "code",
      "metadata": {
        "colab": {
          "base_uri": "https://localhost:8080/",
          "height": 273
        },
        "id": "vBFXDuIiFJaj",
        "outputId": "6d5f71d1-056f-4201-bcb2-ac88eec1b2ef"
      },
      "source": [
        "X_train2 = X_train2.reset_index(drop=True)\n",
        "X_train2.head()\n"
      ],
      "execution_count": null,
      "outputs": [
        {
          "output_type": "execute_result",
          "data": {
            "text/html": [
              "<div>\n",
              "<style scoped>\n",
              "    .dataframe tbody tr th:only-of-type {\n",
              "        vertical-align: middle;\n",
              "    }\n",
              "\n",
              "    .dataframe tbody tr th {\n",
              "        vertical-align: top;\n",
              "    }\n",
              "\n",
              "    .dataframe thead th {\n",
              "        text-align: right;\n",
              "    }\n",
              "</style>\n",
              "<table border=\"1\" class=\"dataframe\">\n",
              "  <thead>\n",
              "    <tr style=\"text-align: right;\">\n",
              "      <th></th>\n",
              "      <th>MSSubClass</th>\n",
              "      <th>Neighborhood</th>\n",
              "      <th>OverallQual</th>\n",
              "      <th>OverallCond</th>\n",
              "      <th>Exterior1st</th>\n",
              "      <th>Exterior2nd</th>\n",
              "      <th>BsmtExposure</th>\n",
              "      <th>BsmtFinType1</th>\n",
              "      <th>FullBath</th>\n",
              "      <th>TotRmsAbvGrd</th>\n",
              "      <th>GarageType</th>\n",
              "      <th>GarageCars</th>\n",
              "      <th>PoolArea</th>\n",
              "      <th>MoSold</th>\n",
              "      <th>LotFrontage_na</th>\n",
              "      <th>MSZoning_RL</th>\n",
              "      <th>MSZoning_RM</th>\n",
              "      <th>Street_Pave</th>\n",
              "      <th>Alley_Missing</th>\n",
              "      <th>LotShape_Reg</th>\n",
              "      <th>LotShape_IR1</th>\n",
              "      <th>LandContour_Lvl</th>\n",
              "      <th>Utilities_AllPub</th>\n",
              "      <th>LotConfig_Inside</th>\n",
              "      <th>LotConfig_CulDSac</th>\n",
              "      <th>LotConfig_Corner</th>\n",
              "      <th>LandSlope_Gtl</th>\n",
              "      <th>Condition1_Norm</th>\n",
              "      <th>Condition1_Feedr</th>\n",
              "      <th>Condition2_Norm</th>\n",
              "      <th>BldgType_Rare</th>\n",
              "      <th>BldgType_1Fam</th>\n",
              "      <th>HouseStyle_2Story</th>\n",
              "      <th>HouseStyle_1.5Fin</th>\n",
              "      <th>HouseStyle_1Story</th>\n",
              "      <th>RoofStyle_Gable</th>\n",
              "      <th>RoofStyle_Rare</th>\n",
              "      <th>RoofMatl_CompShg</th>\n",
              "      <th>MasVnrType_Stone</th>\n",
              "      <th>MasVnrType_None</th>\n",
              "      <th>...</th>\n",
              "      <th>BsmtFullBath_1</th>\n",
              "      <th>BsmtHalfBath_0</th>\n",
              "      <th>BsmtHalfBath_Rare</th>\n",
              "      <th>HalfBath_1</th>\n",
              "      <th>HalfBath_0</th>\n",
              "      <th>BedroomAbvGr_2</th>\n",
              "      <th>BedroomAbvGr_4</th>\n",
              "      <th>BedroomAbvGr_3</th>\n",
              "      <th>KitchenAbvGr_1</th>\n",
              "      <th>KitchenQual_Gd</th>\n",
              "      <th>KitchenQual_TA</th>\n",
              "      <th>KitchenQual_Rare</th>\n",
              "      <th>Functional_Typ</th>\n",
              "      <th>Fireplaces_0</th>\n",
              "      <th>Fireplaces_1</th>\n",
              "      <th>Fireplaces_2</th>\n",
              "      <th>FireplaceQu_Missing</th>\n",
              "      <th>FireplaceQu_Gd</th>\n",
              "      <th>FireplaceQu_Rare</th>\n",
              "      <th>GarageFinish_RFn</th>\n",
              "      <th>GarageFinish_Unf</th>\n",
              "      <th>GarageFinish_Missing</th>\n",
              "      <th>GarageQual_TA</th>\n",
              "      <th>GarageQual_Missing</th>\n",
              "      <th>GarageCond_TA</th>\n",
              "      <th>GarageCond_Missing</th>\n",
              "      <th>PavedDrive_Y</th>\n",
              "      <th>PavedDrive_N</th>\n",
              "      <th>PoolQC_Missing</th>\n",
              "      <th>Fence_Missing</th>\n",
              "      <th>Fence_Rare</th>\n",
              "      <th>MiscFeature_Missing</th>\n",
              "      <th>SaleType_WD</th>\n",
              "      <th>SaleType_Rare</th>\n",
              "      <th>SaleCondition_Normal</th>\n",
              "      <th>SaleCondition_Rare</th>\n",
              "      <th>SaleCondition_Partial</th>\n",
              "      <th>Renovation_Done_0</th>\n",
              "      <th>Garage_status_Built-in</th>\n",
              "      <th>Garage_status_Built-Later</th>\n",
              "    </tr>\n",
              "  </thead>\n",
              "  <tbody>\n",
              "    <tr>\n",
              "      <th>0</th>\n",
              "      <td>0</td>\n",
              "      <td>7</td>\n",
              "      <td>7</td>\n",
              "      <td>4</td>\n",
              "      <td>5</td>\n",
              "      <td>4</td>\n",
              "      <td>1</td>\n",
              "      <td>5</td>\n",
              "      <td>2</td>\n",
              "      <td>6</td>\n",
              "      <td>4</td>\n",
              "      <td>2</td>\n",
              "      <td>0</td>\n",
              "      <td>2</td>\n",
              "      <td>0</td>\n",
              "      <td>1</td>\n",
              "      <td>0</td>\n",
              "      <td>1</td>\n",
              "      <td>1</td>\n",
              "      <td>1</td>\n",
              "      <td>0</td>\n",
              "      <td>1</td>\n",
              "      <td>1</td>\n",
              "      <td>1</td>\n",
              "      <td>0</td>\n",
              "      <td>0</td>\n",
              "      <td>1</td>\n",
              "      <td>1</td>\n",
              "      <td>0</td>\n",
              "      <td>1</td>\n",
              "      <td>1</td>\n",
              "      <td>0</td>\n",
              "      <td>1</td>\n",
              "      <td>0</td>\n",
              "      <td>0</td>\n",
              "      <td>1</td>\n",
              "      <td>0</td>\n",
              "      <td>1</td>\n",
              "      <td>1</td>\n",
              "      <td>0</td>\n",
              "      <td>...</td>\n",
              "      <td>0</td>\n",
              "      <td>1</td>\n",
              "      <td>0</td>\n",
              "      <td>1</td>\n",
              "      <td>0</td>\n",
              "      <td>1</td>\n",
              "      <td>0</td>\n",
              "      <td>0</td>\n",
              "      <td>1</td>\n",
              "      <td>1</td>\n",
              "      <td>0</td>\n",
              "      <td>0</td>\n",
              "      <td>1</td>\n",
              "      <td>1</td>\n",
              "      <td>0</td>\n",
              "      <td>0</td>\n",
              "      <td>1</td>\n",
              "      <td>0</td>\n",
              "      <td>0</td>\n",
              "      <td>1</td>\n",
              "      <td>0</td>\n",
              "      <td>0</td>\n",
              "      <td>1</td>\n",
              "      <td>0</td>\n",
              "      <td>1</td>\n",
              "      <td>0</td>\n",
              "      <td>1</td>\n",
              "      <td>0</td>\n",
              "      <td>1</td>\n",
              "      <td>1</td>\n",
              "      <td>0</td>\n",
              "      <td>1</td>\n",
              "      <td>1</td>\n",
              "      <td>0</td>\n",
              "      <td>1</td>\n",
              "      <td>0</td>\n",
              "      <td>0</td>\n",
              "      <td>1</td>\n",
              "      <td>1</td>\n",
              "      <td>0</td>\n",
              "    </tr>\n",
              "    <tr>\n",
              "      <th>1</th>\n",
              "      <td>4</td>\n",
              "      <td>3</td>\n",
              "      <td>6</td>\n",
              "      <td>2</td>\n",
              "      <td>0</td>\n",
              "      <td>4</td>\n",
              "      <td>1</td>\n",
              "      <td>5</td>\n",
              "      <td>2</td>\n",
              "      <td>10</td>\n",
              "      <td>1</td>\n",
              "      <td>1</td>\n",
              "      <td>0</td>\n",
              "      <td>0</td>\n",
              "      <td>0</td>\n",
              "      <td>1</td>\n",
              "      <td>0</td>\n",
              "      <td>1</td>\n",
              "      <td>1</td>\n",
              "      <td>1</td>\n",
              "      <td>0</td>\n",
              "      <td>1</td>\n",
              "      <td>1</td>\n",
              "      <td>1</td>\n",
              "      <td>0</td>\n",
              "      <td>0</td>\n",
              "      <td>1</td>\n",
              "      <td>0</td>\n",
              "      <td>1</td>\n",
              "      <td>1</td>\n",
              "      <td>0</td>\n",
              "      <td>1</td>\n",
              "      <td>0</td>\n",
              "      <td>1</td>\n",
              "      <td>0</td>\n",
              "      <td>1</td>\n",
              "      <td>0</td>\n",
              "      <td>1</td>\n",
              "      <td>0</td>\n",
              "      <td>1</td>\n",
              "      <td>...</td>\n",
              "      <td>0</td>\n",
              "      <td>1</td>\n",
              "      <td>0</td>\n",
              "      <td>0</td>\n",
              "      <td>1</td>\n",
              "      <td>0</td>\n",
              "      <td>1</td>\n",
              "      <td>0</td>\n",
              "      <td>1</td>\n",
              "      <td>1</td>\n",
              "      <td>0</td>\n",
              "      <td>0</td>\n",
              "      <td>0</td>\n",
              "      <td>0</td>\n",
              "      <td>1</td>\n",
              "      <td>0</td>\n",
              "      <td>0</td>\n",
              "      <td>1</td>\n",
              "      <td>0</td>\n",
              "      <td>0</td>\n",
              "      <td>1</td>\n",
              "      <td>0</td>\n",
              "      <td>1</td>\n",
              "      <td>0</td>\n",
              "      <td>1</td>\n",
              "      <td>0</td>\n",
              "      <td>1</td>\n",
              "      <td>0</td>\n",
              "      <td>1</td>\n",
              "      <td>1</td>\n",
              "      <td>0</td>\n",
              "      <td>1</td>\n",
              "      <td>1</td>\n",
              "      <td>0</td>\n",
              "      <td>1</td>\n",
              "      <td>0</td>\n",
              "      <td>0</td>\n",
              "      <td>0</td>\n",
              "      <td>0</td>\n",
              "      <td>1</td>\n",
              "    </tr>\n",
              "    <tr>\n",
              "      <th>2</th>\n",
              "      <td>3</td>\n",
              "      <td>3</td>\n",
              "      <td>4</td>\n",
              "      <td>4</td>\n",
              "      <td>5</td>\n",
              "      <td>5</td>\n",
              "      <td>2</td>\n",
              "      <td>1</td>\n",
              "      <td>1</td>\n",
              "      <td>5</td>\n",
              "      <td>3</td>\n",
              "      <td>1</td>\n",
              "      <td>0</td>\n",
              "      <td>1</td>\n",
              "      <td>0</td>\n",
              "      <td>1</td>\n",
              "      <td>0</td>\n",
              "      <td>1</td>\n",
              "      <td>1</td>\n",
              "      <td>1</td>\n",
              "      <td>0</td>\n",
              "      <td>1</td>\n",
              "      <td>1</td>\n",
              "      <td>1</td>\n",
              "      <td>0</td>\n",
              "      <td>0</td>\n",
              "      <td>1</td>\n",
              "      <td>0</td>\n",
              "      <td>1</td>\n",
              "      <td>1</td>\n",
              "      <td>0</td>\n",
              "      <td>1</td>\n",
              "      <td>0</td>\n",
              "      <td>0</td>\n",
              "      <td>1</td>\n",
              "      <td>1</td>\n",
              "      <td>0</td>\n",
              "      <td>1</td>\n",
              "      <td>0</td>\n",
              "      <td>0</td>\n",
              "      <td>...</td>\n",
              "      <td>1</td>\n",
              "      <td>1</td>\n",
              "      <td>0</td>\n",
              "      <td>0</td>\n",
              "      <td>1</td>\n",
              "      <td>0</td>\n",
              "      <td>0</td>\n",
              "      <td>1</td>\n",
              "      <td>1</td>\n",
              "      <td>0</td>\n",
              "      <td>1</td>\n",
              "      <td>0</td>\n",
              "      <td>1</td>\n",
              "      <td>1</td>\n",
              "      <td>0</td>\n",
              "      <td>0</td>\n",
              "      <td>1</td>\n",
              "      <td>0</td>\n",
              "      <td>0</td>\n",
              "      <td>0</td>\n",
              "      <td>1</td>\n",
              "      <td>0</td>\n",
              "      <td>1</td>\n",
              "      <td>0</td>\n",
              "      <td>1</td>\n",
              "      <td>0</td>\n",
              "      <td>1</td>\n",
              "      <td>0</td>\n",
              "      <td>1</td>\n",
              "      <td>1</td>\n",
              "      <td>0</td>\n",
              "      <td>1</td>\n",
              "      <td>1</td>\n",
              "      <td>0</td>\n",
              "      <td>1</td>\n",
              "      <td>0</td>\n",
              "      <td>0</td>\n",
              "      <td>1</td>\n",
              "      <td>1</td>\n",
              "      <td>0</td>\n",
              "    </tr>\n",
              "    <tr>\n",
              "      <th>3</th>\n",
              "      <td>1</td>\n",
              "      <td>1</td>\n",
              "      <td>6</td>\n",
              "      <td>4</td>\n",
              "      <td>4</td>\n",
              "      <td>2</td>\n",
              "      <td>4</td>\n",
              "      <td>6</td>\n",
              "      <td>2</td>\n",
              "      <td>4</td>\n",
              "      <td>0</td>\n",
              "      <td>0</td>\n",
              "      <td>0</td>\n",
              "      <td>6</td>\n",
              "      <td>0</td>\n",
              "      <td>1</td>\n",
              "      <td>0</td>\n",
              "      <td>1</td>\n",
              "      <td>1</td>\n",
              "      <td>0</td>\n",
              "      <td>1</td>\n",
              "      <td>1</td>\n",
              "      <td>1</td>\n",
              "      <td>0</td>\n",
              "      <td>1</td>\n",
              "      <td>0</td>\n",
              "      <td>1</td>\n",
              "      <td>1</td>\n",
              "      <td>0</td>\n",
              "      <td>1</td>\n",
              "      <td>1</td>\n",
              "      <td>0</td>\n",
              "      <td>0</td>\n",
              "      <td>0</td>\n",
              "      <td>0</td>\n",
              "      <td>0</td>\n",
              "      <td>1</td>\n",
              "      <td>0</td>\n",
              "      <td>0</td>\n",
              "      <td>0</td>\n",
              "      <td>...</td>\n",
              "      <td>0</td>\n",
              "      <td>0</td>\n",
              "      <td>1</td>\n",
              "      <td>0</td>\n",
              "      <td>1</td>\n",
              "      <td>0</td>\n",
              "      <td>1</td>\n",
              "      <td>0</td>\n",
              "      <td>0</td>\n",
              "      <td>0</td>\n",
              "      <td>1</td>\n",
              "      <td>0</td>\n",
              "      <td>1</td>\n",
              "      <td>1</td>\n",
              "      <td>0</td>\n",
              "      <td>0</td>\n",
              "      <td>1</td>\n",
              "      <td>0</td>\n",
              "      <td>0</td>\n",
              "      <td>0</td>\n",
              "      <td>0</td>\n",
              "      <td>1</td>\n",
              "      <td>0</td>\n",
              "      <td>1</td>\n",
              "      <td>0</td>\n",
              "      <td>1</td>\n",
              "      <td>1</td>\n",
              "      <td>0</td>\n",
              "      <td>1</td>\n",
              "      <td>1</td>\n",
              "      <td>0</td>\n",
              "      <td>1</td>\n",
              "      <td>1</td>\n",
              "      <td>0</td>\n",
              "      <td>0</td>\n",
              "      <td>1</td>\n",
              "      <td>0</td>\n",
              "      <td>1</td>\n",
              "      <td>0</td>\n",
              "      <td>0</td>\n",
              "    </tr>\n",
              "    <tr>\n",
              "      <th>4</th>\n",
              "      <td>4</td>\n",
              "      <td>2</td>\n",
              "      <td>6</td>\n",
              "      <td>1</td>\n",
              "      <td>2</td>\n",
              "      <td>3</td>\n",
              "      <td>1</td>\n",
              "      <td>1</td>\n",
              "      <td>1</td>\n",
              "      <td>8</td>\n",
              "      <td>3</td>\n",
              "      <td>2</td>\n",
              "      <td>0</td>\n",
              "      <td>0</td>\n",
              "      <td>0</td>\n",
              "      <td>1</td>\n",
              "      <td>0</td>\n",
              "      <td>1</td>\n",
              "      <td>1</td>\n",
              "      <td>0</td>\n",
              "      <td>1</td>\n",
              "      <td>1</td>\n",
              "      <td>1</td>\n",
              "      <td>1</td>\n",
              "      <td>0</td>\n",
              "      <td>0</td>\n",
              "      <td>1</td>\n",
              "      <td>1</td>\n",
              "      <td>0</td>\n",
              "      <td>1</td>\n",
              "      <td>0</td>\n",
              "      <td>1</td>\n",
              "      <td>1</td>\n",
              "      <td>0</td>\n",
              "      <td>0</td>\n",
              "      <td>1</td>\n",
              "      <td>0</td>\n",
              "      <td>1</td>\n",
              "      <td>0</td>\n",
              "      <td>0</td>\n",
              "      <td>...</td>\n",
              "      <td>0</td>\n",
              "      <td>1</td>\n",
              "      <td>0</td>\n",
              "      <td>1</td>\n",
              "      <td>0</td>\n",
              "      <td>0</td>\n",
              "      <td>1</td>\n",
              "      <td>0</td>\n",
              "      <td>1</td>\n",
              "      <td>0</td>\n",
              "      <td>1</td>\n",
              "      <td>0</td>\n",
              "      <td>1</td>\n",
              "      <td>0</td>\n",
              "      <td>1</td>\n",
              "      <td>0</td>\n",
              "      <td>0</td>\n",
              "      <td>1</td>\n",
              "      <td>0</td>\n",
              "      <td>0</td>\n",
              "      <td>0</td>\n",
              "      <td>0</td>\n",
              "      <td>1</td>\n",
              "      <td>0</td>\n",
              "      <td>1</td>\n",
              "      <td>0</td>\n",
              "      <td>1</td>\n",
              "      <td>0</td>\n",
              "      <td>1</td>\n",
              "      <td>1</td>\n",
              "      <td>0</td>\n",
              "      <td>1</td>\n",
              "      <td>1</td>\n",
              "      <td>0</td>\n",
              "      <td>1</td>\n",
              "      <td>0</td>\n",
              "      <td>0</td>\n",
              "      <td>1</td>\n",
              "      <td>1</td>\n",
              "      <td>0</td>\n",
              "    </tr>\n",
              "  </tbody>\n",
              "</table>\n",
              "<p>5 rows × 101 columns</p>\n",
              "</div>"
            ],
            "text/plain": [
              "   MSSubClass  Neighborhood  ...  Garage_status_Built-in  Garage_status_Built-Later\n",
              "0           0             7  ...                       1                          0\n",
              "1           4             3  ...                       0                          1\n",
              "2           3             3  ...                       1                          0\n",
              "3           1             1  ...                       0                          0\n",
              "4           4             2  ...                       1                          0\n",
              "\n",
              "[5 rows x 101 columns]"
            ]
          },
          "metadata": {
            "tags": []
          },
          "execution_count": 81
        }
      ]
    },
    {
      "cell_type": "code",
      "metadata": {
        "colab": {
          "base_uri": "https://localhost:8080/",
          "height": 273
        },
        "id": "QonWwuQnFLPz",
        "outputId": "84b797e4-64d7-4399-acfb-c6cf3d9e9402"
      },
      "source": [
        "X_train_model = X_train2.merge(X_train_pca,left_index=True, right_index=True)\n",
        "X_train_model.head()\n",
        "\n"
      ],
      "execution_count": null,
      "outputs": [
        {
          "output_type": "execute_result",
          "data": {
            "text/html": [
              "<div>\n",
              "<style scoped>\n",
              "    .dataframe tbody tr th:only-of-type {\n",
              "        vertical-align: middle;\n",
              "    }\n",
              "\n",
              "    .dataframe tbody tr th {\n",
              "        vertical-align: top;\n",
              "    }\n",
              "\n",
              "    .dataframe thead th {\n",
              "        text-align: right;\n",
              "    }\n",
              "</style>\n",
              "<table border=\"1\" class=\"dataframe\">\n",
              "  <thead>\n",
              "    <tr style=\"text-align: right;\">\n",
              "      <th></th>\n",
              "      <th>MSSubClass</th>\n",
              "      <th>Neighborhood</th>\n",
              "      <th>OverallQual</th>\n",
              "      <th>OverallCond</th>\n",
              "      <th>Exterior1st</th>\n",
              "      <th>Exterior2nd</th>\n",
              "      <th>BsmtExposure</th>\n",
              "      <th>BsmtFinType1</th>\n",
              "      <th>FullBath</th>\n",
              "      <th>TotRmsAbvGrd</th>\n",
              "      <th>GarageType</th>\n",
              "      <th>GarageCars</th>\n",
              "      <th>PoolArea</th>\n",
              "      <th>MoSold</th>\n",
              "      <th>LotFrontage_na</th>\n",
              "      <th>MSZoning_RL</th>\n",
              "      <th>MSZoning_RM</th>\n",
              "      <th>Street_Pave</th>\n",
              "      <th>Alley_Missing</th>\n",
              "      <th>LotShape_Reg</th>\n",
              "      <th>LotShape_IR1</th>\n",
              "      <th>LandContour_Lvl</th>\n",
              "      <th>Utilities_AllPub</th>\n",
              "      <th>LotConfig_Inside</th>\n",
              "      <th>LotConfig_CulDSac</th>\n",
              "      <th>LotConfig_Corner</th>\n",
              "      <th>LandSlope_Gtl</th>\n",
              "      <th>Condition1_Norm</th>\n",
              "      <th>Condition1_Feedr</th>\n",
              "      <th>Condition2_Norm</th>\n",
              "      <th>BldgType_Rare</th>\n",
              "      <th>BldgType_1Fam</th>\n",
              "      <th>HouseStyle_2Story</th>\n",
              "      <th>HouseStyle_1.5Fin</th>\n",
              "      <th>HouseStyle_1Story</th>\n",
              "      <th>RoofStyle_Gable</th>\n",
              "      <th>RoofStyle_Rare</th>\n",
              "      <th>RoofMatl_CompShg</th>\n",
              "      <th>MasVnrType_Stone</th>\n",
              "      <th>MasVnrType_None</th>\n",
              "      <th>...</th>\n",
              "      <th>KitchenQual_Rare</th>\n",
              "      <th>Functional_Typ</th>\n",
              "      <th>Fireplaces_0</th>\n",
              "      <th>Fireplaces_1</th>\n",
              "      <th>Fireplaces_2</th>\n",
              "      <th>FireplaceQu_Missing</th>\n",
              "      <th>FireplaceQu_Gd</th>\n",
              "      <th>FireplaceQu_Rare</th>\n",
              "      <th>GarageFinish_RFn</th>\n",
              "      <th>GarageFinish_Unf</th>\n",
              "      <th>GarageFinish_Missing</th>\n",
              "      <th>GarageQual_TA</th>\n",
              "      <th>GarageQual_Missing</th>\n",
              "      <th>GarageCond_TA</th>\n",
              "      <th>GarageCond_Missing</th>\n",
              "      <th>PavedDrive_Y</th>\n",
              "      <th>PavedDrive_N</th>\n",
              "      <th>PoolQC_Missing</th>\n",
              "      <th>Fence_Missing</th>\n",
              "      <th>Fence_Rare</th>\n",
              "      <th>MiscFeature_Missing</th>\n",
              "      <th>SaleType_WD</th>\n",
              "      <th>SaleType_Rare</th>\n",
              "      <th>SaleCondition_Normal</th>\n",
              "      <th>SaleCondition_Rare</th>\n",
              "      <th>SaleCondition_Partial</th>\n",
              "      <th>Renovation_Done_0</th>\n",
              "      <th>Garage_status_Built-in</th>\n",
              "      <th>Garage_status_Built-Later</th>\n",
              "      <th>col0</th>\n",
              "      <th>col1</th>\n",
              "      <th>col2</th>\n",
              "      <th>col3</th>\n",
              "      <th>col4</th>\n",
              "      <th>col5</th>\n",
              "      <th>col6</th>\n",
              "      <th>col7</th>\n",
              "      <th>col8</th>\n",
              "      <th>col9</th>\n",
              "      <th>col10</th>\n",
              "    </tr>\n",
              "  </thead>\n",
              "  <tbody>\n",
              "    <tr>\n",
              "      <th>0</th>\n",
              "      <td>0</td>\n",
              "      <td>7</td>\n",
              "      <td>7</td>\n",
              "      <td>4</td>\n",
              "      <td>5</td>\n",
              "      <td>4</td>\n",
              "      <td>1</td>\n",
              "      <td>5</td>\n",
              "      <td>2</td>\n",
              "      <td>6</td>\n",
              "      <td>4</td>\n",
              "      <td>2</td>\n",
              "      <td>0</td>\n",
              "      <td>2</td>\n",
              "      <td>0</td>\n",
              "      <td>1</td>\n",
              "      <td>0</td>\n",
              "      <td>1</td>\n",
              "      <td>1</td>\n",
              "      <td>1</td>\n",
              "      <td>0</td>\n",
              "      <td>1</td>\n",
              "      <td>1</td>\n",
              "      <td>1</td>\n",
              "      <td>0</td>\n",
              "      <td>0</td>\n",
              "      <td>1</td>\n",
              "      <td>1</td>\n",
              "      <td>0</td>\n",
              "      <td>1</td>\n",
              "      <td>1</td>\n",
              "      <td>0</td>\n",
              "      <td>1</td>\n",
              "      <td>0</td>\n",
              "      <td>0</td>\n",
              "      <td>1</td>\n",
              "      <td>0</td>\n",
              "      <td>1</td>\n",
              "      <td>1</td>\n",
              "      <td>0</td>\n",
              "      <td>...</td>\n",
              "      <td>0</td>\n",
              "      <td>1</td>\n",
              "      <td>1</td>\n",
              "      <td>0</td>\n",
              "      <td>0</td>\n",
              "      <td>1</td>\n",
              "      <td>0</td>\n",
              "      <td>0</td>\n",
              "      <td>1</td>\n",
              "      <td>0</td>\n",
              "      <td>0</td>\n",
              "      <td>1</td>\n",
              "      <td>0</td>\n",
              "      <td>1</td>\n",
              "      <td>0</td>\n",
              "      <td>1</td>\n",
              "      <td>0</td>\n",
              "      <td>1</td>\n",
              "      <td>1</td>\n",
              "      <td>0</td>\n",
              "      <td>1</td>\n",
              "      <td>1</td>\n",
              "      <td>0</td>\n",
              "      <td>1</td>\n",
              "      <td>0</td>\n",
              "      <td>0</td>\n",
              "      <td>1</td>\n",
              "      <td>1</td>\n",
              "      <td>0</td>\n",
              "      <td>-0.524377</td>\n",
              "      <td>1.685432</td>\n",
              "      <td>-2.656581</td>\n",
              "      <td>-0.399734</td>\n",
              "      <td>0.239513</td>\n",
              "      <td>0.718788</td>\n",
              "      <td>-0.724460</td>\n",
              "      <td>0.550488</td>\n",
              "      <td>0.294221</td>\n",
              "      <td>0.196958</td>\n",
              "      <td>-0.415419</td>\n",
              "    </tr>\n",
              "    <tr>\n",
              "      <th>1</th>\n",
              "      <td>4</td>\n",
              "      <td>3</td>\n",
              "      <td>6</td>\n",
              "      <td>2</td>\n",
              "      <td>0</td>\n",
              "      <td>4</td>\n",
              "      <td>1</td>\n",
              "      <td>5</td>\n",
              "      <td>2</td>\n",
              "      <td>10</td>\n",
              "      <td>1</td>\n",
              "      <td>1</td>\n",
              "      <td>0</td>\n",
              "      <td>0</td>\n",
              "      <td>0</td>\n",
              "      <td>1</td>\n",
              "      <td>0</td>\n",
              "      <td>1</td>\n",
              "      <td>1</td>\n",
              "      <td>1</td>\n",
              "      <td>0</td>\n",
              "      <td>1</td>\n",
              "      <td>1</td>\n",
              "      <td>1</td>\n",
              "      <td>0</td>\n",
              "      <td>0</td>\n",
              "      <td>1</td>\n",
              "      <td>0</td>\n",
              "      <td>1</td>\n",
              "      <td>1</td>\n",
              "      <td>0</td>\n",
              "      <td>1</td>\n",
              "      <td>0</td>\n",
              "      <td>1</td>\n",
              "      <td>0</td>\n",
              "      <td>1</td>\n",
              "      <td>0</td>\n",
              "      <td>1</td>\n",
              "      <td>0</td>\n",
              "      <td>1</td>\n",
              "      <td>...</td>\n",
              "      <td>0</td>\n",
              "      <td>0</td>\n",
              "      <td>0</td>\n",
              "      <td>1</td>\n",
              "      <td>0</td>\n",
              "      <td>0</td>\n",
              "      <td>1</td>\n",
              "      <td>0</td>\n",
              "      <td>0</td>\n",
              "      <td>1</td>\n",
              "      <td>0</td>\n",
              "      <td>1</td>\n",
              "      <td>0</td>\n",
              "      <td>1</td>\n",
              "      <td>0</td>\n",
              "      <td>1</td>\n",
              "      <td>0</td>\n",
              "      <td>1</td>\n",
              "      <td>1</td>\n",
              "      <td>0</td>\n",
              "      <td>1</td>\n",
              "      <td>1</td>\n",
              "      <td>0</td>\n",
              "      <td>1</td>\n",
              "      <td>0</td>\n",
              "      <td>0</td>\n",
              "      <td>0</td>\n",
              "      <td>0</td>\n",
              "      <td>1</td>\n",
              "      <td>-0.443229</td>\n",
              "      <td>2.300637</td>\n",
              "      <td>0.354810</td>\n",
              "      <td>-0.655470</td>\n",
              "      <td>1.513176</td>\n",
              "      <td>-1.691463</td>\n",
              "      <td>0.724844</td>\n",
              "      <td>1.290569</td>\n",
              "      <td>-0.066116</td>\n",
              "      <td>-0.287054</td>\n",
              "      <td>0.846751</td>\n",
              "    </tr>\n",
              "    <tr>\n",
              "      <th>2</th>\n",
              "      <td>3</td>\n",
              "      <td>3</td>\n",
              "      <td>4</td>\n",
              "      <td>4</td>\n",
              "      <td>5</td>\n",
              "      <td>5</td>\n",
              "      <td>2</td>\n",
              "      <td>1</td>\n",
              "      <td>1</td>\n",
              "      <td>5</td>\n",
              "      <td>3</td>\n",
              "      <td>1</td>\n",
              "      <td>0</td>\n",
              "      <td>1</td>\n",
              "      <td>0</td>\n",
              "      <td>1</td>\n",
              "      <td>0</td>\n",
              "      <td>1</td>\n",
              "      <td>1</td>\n",
              "      <td>1</td>\n",
              "      <td>0</td>\n",
              "      <td>1</td>\n",
              "      <td>1</td>\n",
              "      <td>1</td>\n",
              "      <td>0</td>\n",
              "      <td>0</td>\n",
              "      <td>1</td>\n",
              "      <td>0</td>\n",
              "      <td>1</td>\n",
              "      <td>1</td>\n",
              "      <td>0</td>\n",
              "      <td>1</td>\n",
              "      <td>0</td>\n",
              "      <td>0</td>\n",
              "      <td>1</td>\n",
              "      <td>1</td>\n",
              "      <td>0</td>\n",
              "      <td>1</td>\n",
              "      <td>0</td>\n",
              "      <td>0</td>\n",
              "      <td>...</td>\n",
              "      <td>0</td>\n",
              "      <td>1</td>\n",
              "      <td>1</td>\n",
              "      <td>0</td>\n",
              "      <td>0</td>\n",
              "      <td>1</td>\n",
              "      <td>0</td>\n",
              "      <td>0</td>\n",
              "      <td>0</td>\n",
              "      <td>1</td>\n",
              "      <td>0</td>\n",
              "      <td>1</td>\n",
              "      <td>0</td>\n",
              "      <td>1</td>\n",
              "      <td>0</td>\n",
              "      <td>1</td>\n",
              "      <td>0</td>\n",
              "      <td>1</td>\n",
              "      <td>1</td>\n",
              "      <td>0</td>\n",
              "      <td>1</td>\n",
              "      <td>1</td>\n",
              "      <td>0</td>\n",
              "      <td>1</td>\n",
              "      <td>0</td>\n",
              "      <td>0</td>\n",
              "      <td>1</td>\n",
              "      <td>1</td>\n",
              "      <td>0</td>\n",
              "      <td>-1.489609</td>\n",
              "      <td>-1.758238</td>\n",
              "      <td>0.285579</td>\n",
              "      <td>-0.495708</td>\n",
              "      <td>0.707252</td>\n",
              "      <td>0.710842</td>\n",
              "      <td>0.450121</td>\n",
              "      <td>-0.067975</td>\n",
              "      <td>-0.538528</td>\n",
              "      <td>0.110332</td>\n",
              "      <td>-0.398906</td>\n",
              "    </tr>\n",
              "    <tr>\n",
              "      <th>3</th>\n",
              "      <td>1</td>\n",
              "      <td>1</td>\n",
              "      <td>6</td>\n",
              "      <td>4</td>\n",
              "      <td>4</td>\n",
              "      <td>2</td>\n",
              "      <td>4</td>\n",
              "      <td>6</td>\n",
              "      <td>2</td>\n",
              "      <td>4</td>\n",
              "      <td>0</td>\n",
              "      <td>0</td>\n",
              "      <td>0</td>\n",
              "      <td>6</td>\n",
              "      <td>0</td>\n",
              "      <td>1</td>\n",
              "      <td>0</td>\n",
              "      <td>1</td>\n",
              "      <td>1</td>\n",
              "      <td>0</td>\n",
              "      <td>1</td>\n",
              "      <td>1</td>\n",
              "      <td>1</td>\n",
              "      <td>0</td>\n",
              "      <td>1</td>\n",
              "      <td>0</td>\n",
              "      <td>1</td>\n",
              "      <td>1</td>\n",
              "      <td>0</td>\n",
              "      <td>1</td>\n",
              "      <td>1</td>\n",
              "      <td>0</td>\n",
              "      <td>0</td>\n",
              "      <td>0</td>\n",
              "      <td>0</td>\n",
              "      <td>0</td>\n",
              "      <td>1</td>\n",
              "      <td>0</td>\n",
              "      <td>0</td>\n",
              "      <td>0</td>\n",
              "      <td>...</td>\n",
              "      <td>0</td>\n",
              "      <td>1</td>\n",
              "      <td>1</td>\n",
              "      <td>0</td>\n",
              "      <td>0</td>\n",
              "      <td>1</td>\n",
              "      <td>0</td>\n",
              "      <td>0</td>\n",
              "      <td>0</td>\n",
              "      <td>0</td>\n",
              "      <td>1</td>\n",
              "      <td>0</td>\n",
              "      <td>1</td>\n",
              "      <td>0</td>\n",
              "      <td>1</td>\n",
              "      <td>1</td>\n",
              "      <td>0</td>\n",
              "      <td>1</td>\n",
              "      <td>1</td>\n",
              "      <td>0</td>\n",
              "      <td>1</td>\n",
              "      <td>1</td>\n",
              "      <td>0</td>\n",
              "      <td>0</td>\n",
              "      <td>1</td>\n",
              "      <td>0</td>\n",
              "      <td>1</td>\n",
              "      <td>0</td>\n",
              "      <td>0</td>\n",
              "      <td>-1.970225</td>\n",
              "      <td>-1.795317</td>\n",
              "      <td>-0.621187</td>\n",
              "      <td>-0.876948</td>\n",
              "      <td>0.528733</td>\n",
              "      <td>0.954520</td>\n",
              "      <td>0.318964</td>\n",
              "      <td>0.241166</td>\n",
              "      <td>-1.879471</td>\n",
              "      <td>-1.113337</td>\n",
              "      <td>-0.850867</td>\n",
              "    </tr>\n",
              "    <tr>\n",
              "      <th>4</th>\n",
              "      <td>4</td>\n",
              "      <td>2</td>\n",
              "      <td>6</td>\n",
              "      <td>1</td>\n",
              "      <td>2</td>\n",
              "      <td>3</td>\n",
              "      <td>1</td>\n",
              "      <td>1</td>\n",
              "      <td>1</td>\n",
              "      <td>8</td>\n",
              "      <td>3</td>\n",
              "      <td>2</td>\n",
              "      <td>0</td>\n",
              "      <td>0</td>\n",
              "      <td>0</td>\n",
              "      <td>1</td>\n",
              "      <td>0</td>\n",
              "      <td>1</td>\n",
              "      <td>1</td>\n",
              "      <td>0</td>\n",
              "      <td>1</td>\n",
              "      <td>1</td>\n",
              "      <td>1</td>\n",
              "      <td>1</td>\n",
              "      <td>0</td>\n",
              "      <td>0</td>\n",
              "      <td>1</td>\n",
              "      <td>1</td>\n",
              "      <td>0</td>\n",
              "      <td>1</td>\n",
              "      <td>0</td>\n",
              "      <td>1</td>\n",
              "      <td>1</td>\n",
              "      <td>0</td>\n",
              "      <td>0</td>\n",
              "      <td>1</td>\n",
              "      <td>0</td>\n",
              "      <td>1</td>\n",
              "      <td>0</td>\n",
              "      <td>0</td>\n",
              "      <td>...</td>\n",
              "      <td>0</td>\n",
              "      <td>1</td>\n",
              "      <td>0</td>\n",
              "      <td>1</td>\n",
              "      <td>0</td>\n",
              "      <td>0</td>\n",
              "      <td>1</td>\n",
              "      <td>0</td>\n",
              "      <td>0</td>\n",
              "      <td>0</td>\n",
              "      <td>0</td>\n",
              "      <td>1</td>\n",
              "      <td>0</td>\n",
              "      <td>1</td>\n",
              "      <td>0</td>\n",
              "      <td>1</td>\n",
              "      <td>0</td>\n",
              "      <td>1</td>\n",
              "      <td>1</td>\n",
              "      <td>0</td>\n",
              "      <td>1</td>\n",
              "      <td>1</td>\n",
              "      <td>0</td>\n",
              "      <td>1</td>\n",
              "      <td>0</td>\n",
              "      <td>0</td>\n",
              "      <td>1</td>\n",
              "      <td>1</td>\n",
              "      <td>0</td>\n",
              "      <td>0.160287</td>\n",
              "      <td>1.332296</td>\n",
              "      <td>0.522649</td>\n",
              "      <td>-0.771833</td>\n",
              "      <td>0.245838</td>\n",
              "      <td>1.571044</td>\n",
              "      <td>0.773827</td>\n",
              "      <td>-0.683443</td>\n",
              "      <td>0.048057</td>\n",
              "      <td>0.115297</td>\n",
              "      <td>-0.348011</td>\n",
              "    </tr>\n",
              "  </tbody>\n",
              "</table>\n",
              "<p>5 rows × 112 columns</p>\n",
              "</div>"
            ],
            "text/plain": [
              "   MSSubClass  Neighborhood  OverallQual  ...      col8      col9     col10\n",
              "0           0             7            7  ...  0.294221  0.196958 -0.415419\n",
              "1           4             3            6  ... -0.066116 -0.287054  0.846751\n",
              "2           3             3            4  ... -0.538528  0.110332 -0.398906\n",
              "3           1             1            6  ... -1.879471 -1.113337 -0.850867\n",
              "4           4             2            6  ...  0.048057  0.115297 -0.348011\n",
              "\n",
              "[5 rows x 112 columns]"
            ]
          },
          "metadata": {
            "tags": []
          },
          "execution_count": 82
        }
      ]
    },
    {
      "cell_type": "code",
      "metadata": {
        "colab": {
          "base_uri": "https://localhost:8080/",
          "height": 273
        },
        "id": "dymOeI9sFNM2",
        "outputId": "93890a16-ec7d-4d2f-8bd9-c2a66244c910"
      },
      "source": [
        "X_test2 = X_test2.reset_index(drop=True)\n",
        "X_test_model = X_test2.merge(X_test_pca,left_index=True, right_index=True)\n",
        "X_test_model.head()\n"
      ],
      "execution_count": null,
      "outputs": [
        {
          "output_type": "execute_result",
          "data": {
            "text/html": [
              "<div>\n",
              "<style scoped>\n",
              "    .dataframe tbody tr th:only-of-type {\n",
              "        vertical-align: middle;\n",
              "    }\n",
              "\n",
              "    .dataframe tbody tr th {\n",
              "        vertical-align: top;\n",
              "    }\n",
              "\n",
              "    .dataframe thead th {\n",
              "        text-align: right;\n",
              "    }\n",
              "</style>\n",
              "<table border=\"1\" class=\"dataframe\">\n",
              "  <thead>\n",
              "    <tr style=\"text-align: right;\">\n",
              "      <th></th>\n",
              "      <th>MSSubClass</th>\n",
              "      <th>Neighborhood</th>\n",
              "      <th>OverallQual</th>\n",
              "      <th>OverallCond</th>\n",
              "      <th>Exterior1st</th>\n",
              "      <th>Exterior2nd</th>\n",
              "      <th>BsmtExposure</th>\n",
              "      <th>BsmtFinType1</th>\n",
              "      <th>FullBath</th>\n",
              "      <th>TotRmsAbvGrd</th>\n",
              "      <th>GarageType</th>\n",
              "      <th>GarageCars</th>\n",
              "      <th>PoolArea</th>\n",
              "      <th>MoSold</th>\n",
              "      <th>LotFrontage_na</th>\n",
              "      <th>MSZoning_RL</th>\n",
              "      <th>MSZoning_RM</th>\n",
              "      <th>Street_Pave</th>\n",
              "      <th>Alley_Missing</th>\n",
              "      <th>LotShape_Reg</th>\n",
              "      <th>LotShape_IR1</th>\n",
              "      <th>LandContour_Lvl</th>\n",
              "      <th>Utilities_AllPub</th>\n",
              "      <th>LotConfig_Inside</th>\n",
              "      <th>LotConfig_CulDSac</th>\n",
              "      <th>LotConfig_Corner</th>\n",
              "      <th>LandSlope_Gtl</th>\n",
              "      <th>Condition1_Norm</th>\n",
              "      <th>Condition1_Feedr</th>\n",
              "      <th>Condition2_Norm</th>\n",
              "      <th>BldgType_Rare</th>\n",
              "      <th>BldgType_1Fam</th>\n",
              "      <th>HouseStyle_2Story</th>\n",
              "      <th>HouseStyle_1.5Fin</th>\n",
              "      <th>HouseStyle_1Story</th>\n",
              "      <th>RoofStyle_Gable</th>\n",
              "      <th>RoofStyle_Rare</th>\n",
              "      <th>RoofMatl_CompShg</th>\n",
              "      <th>MasVnrType_Stone</th>\n",
              "      <th>MasVnrType_None</th>\n",
              "      <th>...</th>\n",
              "      <th>KitchenQual_Rare</th>\n",
              "      <th>Functional_Typ</th>\n",
              "      <th>Fireplaces_0</th>\n",
              "      <th>Fireplaces_1</th>\n",
              "      <th>Fireplaces_2</th>\n",
              "      <th>FireplaceQu_Missing</th>\n",
              "      <th>FireplaceQu_Gd</th>\n",
              "      <th>FireplaceQu_Rare</th>\n",
              "      <th>GarageFinish_RFn</th>\n",
              "      <th>GarageFinish_Unf</th>\n",
              "      <th>GarageFinish_Missing</th>\n",
              "      <th>GarageQual_TA</th>\n",
              "      <th>GarageQual_Missing</th>\n",
              "      <th>GarageCond_TA</th>\n",
              "      <th>GarageCond_Missing</th>\n",
              "      <th>PavedDrive_Y</th>\n",
              "      <th>PavedDrive_N</th>\n",
              "      <th>PoolQC_Missing</th>\n",
              "      <th>Fence_Missing</th>\n",
              "      <th>Fence_Rare</th>\n",
              "      <th>MiscFeature_Missing</th>\n",
              "      <th>SaleType_WD</th>\n",
              "      <th>SaleType_Rare</th>\n",
              "      <th>SaleCondition_Normal</th>\n",
              "      <th>SaleCondition_Rare</th>\n",
              "      <th>SaleCondition_Partial</th>\n",
              "      <th>Renovation_Done_0</th>\n",
              "      <th>Garage_status_Built-in</th>\n",
              "      <th>Garage_status_Built-Later</th>\n",
              "      <th>col0</th>\n",
              "      <th>col1</th>\n",
              "      <th>col2</th>\n",
              "      <th>col3</th>\n",
              "      <th>col4</th>\n",
              "      <th>col5</th>\n",
              "      <th>col6</th>\n",
              "      <th>col7</th>\n",
              "      <th>col8</th>\n",
              "      <th>col9</th>\n",
              "      <th>col10</th>\n",
              "    </tr>\n",
              "  </thead>\n",
              "  <tbody>\n",
              "    <tr>\n",
              "      <th>0</th>\n",
              "      <td>1</td>\n",
              "      <td>2</td>\n",
              "      <td>7</td>\n",
              "      <td>0</td>\n",
              "      <td>4</td>\n",
              "      <td>4</td>\n",
              "      <td>3</td>\n",
              "      <td>4</td>\n",
              "      <td>1</td>\n",
              "      <td>6</td>\n",
              "      <td>3</td>\n",
              "      <td>2</td>\n",
              "      <td>0</td>\n",
              "      <td>4</td>\n",
              "      <td>1</td>\n",
              "      <td>1</td>\n",
              "      <td>0</td>\n",
              "      <td>1</td>\n",
              "      <td>1</td>\n",
              "      <td>0</td>\n",
              "      <td>1</td>\n",
              "      <td>1</td>\n",
              "      <td>1</td>\n",
              "      <td>0</td>\n",
              "      <td>0</td>\n",
              "      <td>1</td>\n",
              "      <td>1</td>\n",
              "      <td>1</td>\n",
              "      <td>0</td>\n",
              "      <td>1</td>\n",
              "      <td>0</td>\n",
              "      <td>1</td>\n",
              "      <td>0</td>\n",
              "      <td>0</td>\n",
              "      <td>0</td>\n",
              "      <td>1</td>\n",
              "      <td>0</td>\n",
              "      <td>1</td>\n",
              "      <td>1</td>\n",
              "      <td>0</td>\n",
              "      <td>...</td>\n",
              "      <td>0</td>\n",
              "      <td>1</td>\n",
              "      <td>1</td>\n",
              "      <td>0</td>\n",
              "      <td>0</td>\n",
              "      <td>1</td>\n",
              "      <td>0</td>\n",
              "      <td>0</td>\n",
              "      <td>1</td>\n",
              "      <td>0</td>\n",
              "      <td>0</td>\n",
              "      <td>1</td>\n",
              "      <td>0</td>\n",
              "      <td>1</td>\n",
              "      <td>0</td>\n",
              "      <td>1</td>\n",
              "      <td>0</td>\n",
              "      <td>1</td>\n",
              "      <td>1</td>\n",
              "      <td>0</td>\n",
              "      <td>1</td>\n",
              "      <td>1</td>\n",
              "      <td>0</td>\n",
              "      <td>1</td>\n",
              "      <td>0</td>\n",
              "      <td>0</td>\n",
              "      <td>0</td>\n",
              "      <td>1</td>\n",
              "      <td>0</td>\n",
              "      <td>0.533204</td>\n",
              "      <td>-1.640019</td>\n",
              "      <td>-0.055645</td>\n",
              "      <td>-0.734074</td>\n",
              "      <td>-0.443662</td>\n",
              "      <td>-0.137793</td>\n",
              "      <td>0.088913</td>\n",
              "      <td>-0.984376</td>\n",
              "      <td>-0.228161</td>\n",
              "      <td>-0.939961</td>\n",
              "      <td>1.261740</td>\n",
              "    </tr>\n",
              "    <tr>\n",
              "      <th>1</th>\n",
              "      <td>4</td>\n",
              "      <td>0</td>\n",
              "      <td>5</td>\n",
              "      <td>2</td>\n",
              "      <td>4</td>\n",
              "      <td>4</td>\n",
              "      <td>1</td>\n",
              "      <td>3</td>\n",
              "      <td>1</td>\n",
              "      <td>5</td>\n",
              "      <td>1</td>\n",
              "      <td>1</td>\n",
              "      <td>0</td>\n",
              "      <td>1</td>\n",
              "      <td>0</td>\n",
              "      <td>0</td>\n",
              "      <td>1</td>\n",
              "      <td>1</td>\n",
              "      <td>0</td>\n",
              "      <td>1</td>\n",
              "      <td>0</td>\n",
              "      <td>1</td>\n",
              "      <td>1</td>\n",
              "      <td>1</td>\n",
              "      <td>0</td>\n",
              "      <td>0</td>\n",
              "      <td>1</td>\n",
              "      <td>1</td>\n",
              "      <td>0</td>\n",
              "      <td>1</td>\n",
              "      <td>0</td>\n",
              "      <td>1</td>\n",
              "      <td>0</td>\n",
              "      <td>1</td>\n",
              "      <td>0</td>\n",
              "      <td>1</td>\n",
              "      <td>0</td>\n",
              "      <td>1</td>\n",
              "      <td>0</td>\n",
              "      <td>1</td>\n",
              "      <td>...</td>\n",
              "      <td>0</td>\n",
              "      <td>1</td>\n",
              "      <td>1</td>\n",
              "      <td>0</td>\n",
              "      <td>0</td>\n",
              "      <td>1</td>\n",
              "      <td>0</td>\n",
              "      <td>0</td>\n",
              "      <td>0</td>\n",
              "      <td>1</td>\n",
              "      <td>0</td>\n",
              "      <td>1</td>\n",
              "      <td>0</td>\n",
              "      <td>1</td>\n",
              "      <td>0</td>\n",
              "      <td>1</td>\n",
              "      <td>0</td>\n",
              "      <td>1</td>\n",
              "      <td>0</td>\n",
              "      <td>1</td>\n",
              "      <td>1</td>\n",
              "      <td>1</td>\n",
              "      <td>0</td>\n",
              "      <td>1</td>\n",
              "      <td>0</td>\n",
              "      <td>0</td>\n",
              "      <td>0</td>\n",
              "      <td>0</td>\n",
              "      <td>1</td>\n",
              "      <td>-2.681567</td>\n",
              "      <td>0.665080</td>\n",
              "      <td>-0.345851</td>\n",
              "      <td>-0.541502</td>\n",
              "      <td>0.105518</td>\n",
              "      <td>0.677879</td>\n",
              "      <td>0.924287</td>\n",
              "      <td>0.358469</td>\n",
              "      <td>0.322675</td>\n",
              "      <td>0.835946</td>\n",
              "      <td>-0.645154</td>\n",
              "    </tr>\n",
              "    <tr>\n",
              "      <th>2</th>\n",
              "      <td>3</td>\n",
              "      <td>0</td>\n",
              "      <td>4</td>\n",
              "      <td>1</td>\n",
              "      <td>0</td>\n",
              "      <td>0</td>\n",
              "      <td>1</td>\n",
              "      <td>5</td>\n",
              "      <td>2</td>\n",
              "      <td>5</td>\n",
              "      <td>1</td>\n",
              "      <td>1</td>\n",
              "      <td>0</td>\n",
              "      <td>7</td>\n",
              "      <td>0</td>\n",
              "      <td>1</td>\n",
              "      <td>0</td>\n",
              "      <td>1</td>\n",
              "      <td>0</td>\n",
              "      <td>1</td>\n",
              "      <td>0</td>\n",
              "      <td>1</td>\n",
              "      <td>1</td>\n",
              "      <td>1</td>\n",
              "      <td>0</td>\n",
              "      <td>0</td>\n",
              "      <td>1</td>\n",
              "      <td>1</td>\n",
              "      <td>0</td>\n",
              "      <td>1</td>\n",
              "      <td>0</td>\n",
              "      <td>1</td>\n",
              "      <td>0</td>\n",
              "      <td>0</td>\n",
              "      <td>1</td>\n",
              "      <td>1</td>\n",
              "      <td>0</td>\n",
              "      <td>1</td>\n",
              "      <td>0</td>\n",
              "      <td>1</td>\n",
              "      <td>...</td>\n",
              "      <td>0</td>\n",
              "      <td>1</td>\n",
              "      <td>1</td>\n",
              "      <td>0</td>\n",
              "      <td>0</td>\n",
              "      <td>1</td>\n",
              "      <td>0</td>\n",
              "      <td>0</td>\n",
              "      <td>0</td>\n",
              "      <td>1</td>\n",
              "      <td>0</td>\n",
              "      <td>0</td>\n",
              "      <td>0</td>\n",
              "      <td>0</td>\n",
              "      <td>0</td>\n",
              "      <td>1</td>\n",
              "      <td>0</td>\n",
              "      <td>1</td>\n",
              "      <td>1</td>\n",
              "      <td>0</td>\n",
              "      <td>1</td>\n",
              "      <td>1</td>\n",
              "      <td>0</td>\n",
              "      <td>1</td>\n",
              "      <td>0</td>\n",
              "      <td>0</td>\n",
              "      <td>0</td>\n",
              "      <td>0</td>\n",
              "      <td>1</td>\n",
              "      <td>-2.113710</td>\n",
              "      <td>0.346240</td>\n",
              "      <td>0.021933</td>\n",
              "      <td>0.896650</td>\n",
              "      <td>-0.361030</td>\n",
              "      <td>-0.432835</td>\n",
              "      <td>-0.858330</td>\n",
              "      <td>0.086406</td>\n",
              "      <td>-1.008071</td>\n",
              "      <td>-1.015077</td>\n",
              "      <td>1.379985</td>\n",
              "    </tr>\n",
              "    <tr>\n",
              "      <th>3</th>\n",
              "      <td>4</td>\n",
              "      <td>3</td>\n",
              "      <td>7</td>\n",
              "      <td>2</td>\n",
              "      <td>4</td>\n",
              "      <td>4</td>\n",
              "      <td>1</td>\n",
              "      <td>1</td>\n",
              "      <td>1</td>\n",
              "      <td>6</td>\n",
              "      <td>3</td>\n",
              "      <td>1</td>\n",
              "      <td>0</td>\n",
              "      <td>2</td>\n",
              "      <td>0</td>\n",
              "      <td>1</td>\n",
              "      <td>0</td>\n",
              "      <td>1</td>\n",
              "      <td>1</td>\n",
              "      <td>0</td>\n",
              "      <td>1</td>\n",
              "      <td>1</td>\n",
              "      <td>1</td>\n",
              "      <td>1</td>\n",
              "      <td>0</td>\n",
              "      <td>0</td>\n",
              "      <td>1</td>\n",
              "      <td>1</td>\n",
              "      <td>0</td>\n",
              "      <td>1</td>\n",
              "      <td>0</td>\n",
              "      <td>1</td>\n",
              "      <td>0</td>\n",
              "      <td>1</td>\n",
              "      <td>0</td>\n",
              "      <td>1</td>\n",
              "      <td>0</td>\n",
              "      <td>1</td>\n",
              "      <td>0</td>\n",
              "      <td>1</td>\n",
              "      <td>...</td>\n",
              "      <td>0</td>\n",
              "      <td>1</td>\n",
              "      <td>0</td>\n",
              "      <td>1</td>\n",
              "      <td>0</td>\n",
              "      <td>0</td>\n",
              "      <td>1</td>\n",
              "      <td>0</td>\n",
              "      <td>0</td>\n",
              "      <td>0</td>\n",
              "      <td>0</td>\n",
              "      <td>0</td>\n",
              "      <td>0</td>\n",
              "      <td>1</td>\n",
              "      <td>0</td>\n",
              "      <td>1</td>\n",
              "      <td>0</td>\n",
              "      <td>1</td>\n",
              "      <td>1</td>\n",
              "      <td>0</td>\n",
              "      <td>1</td>\n",
              "      <td>1</td>\n",
              "      <td>0</td>\n",
              "      <td>1</td>\n",
              "      <td>0</td>\n",
              "      <td>0</td>\n",
              "      <td>0</td>\n",
              "      <td>1</td>\n",
              "      <td>0</td>\n",
              "      <td>-0.315205</td>\n",
              "      <td>2.049844</td>\n",
              "      <td>1.526595</td>\n",
              "      <td>-0.243203</td>\n",
              "      <td>-0.020385</td>\n",
              "      <td>-0.149019</td>\n",
              "      <td>-0.560915</td>\n",
              "      <td>1.361223</td>\n",
              "      <td>-1.259873</td>\n",
              "      <td>0.484696</td>\n",
              "      <td>0.109131</td>\n",
              "    </tr>\n",
              "    <tr>\n",
              "      <th>4</th>\n",
              "      <td>4</td>\n",
              "      <td>6</td>\n",
              "      <td>7</td>\n",
              "      <td>4</td>\n",
              "      <td>4</td>\n",
              "      <td>4</td>\n",
              "      <td>1</td>\n",
              "      <td>6</td>\n",
              "      <td>2</td>\n",
              "      <td>7</td>\n",
              "      <td>3</td>\n",
              "      <td>2</td>\n",
              "      <td>0</td>\n",
              "      <td>6</td>\n",
              "      <td>0</td>\n",
              "      <td>0</td>\n",
              "      <td>0</td>\n",
              "      <td>1</td>\n",
              "      <td>1</td>\n",
              "      <td>1</td>\n",
              "      <td>0</td>\n",
              "      <td>1</td>\n",
              "      <td>1</td>\n",
              "      <td>1</td>\n",
              "      <td>0</td>\n",
              "      <td>0</td>\n",
              "      <td>1</td>\n",
              "      <td>1</td>\n",
              "      <td>0</td>\n",
              "      <td>1</td>\n",
              "      <td>0</td>\n",
              "      <td>1</td>\n",
              "      <td>1</td>\n",
              "      <td>0</td>\n",
              "      <td>0</td>\n",
              "      <td>1</td>\n",
              "      <td>0</td>\n",
              "      <td>1</td>\n",
              "      <td>1</td>\n",
              "      <td>0</td>\n",
              "      <td>...</td>\n",
              "      <td>0</td>\n",
              "      <td>1</td>\n",
              "      <td>1</td>\n",
              "      <td>0</td>\n",
              "      <td>0</td>\n",
              "      <td>1</td>\n",
              "      <td>0</td>\n",
              "      <td>0</td>\n",
              "      <td>0</td>\n",
              "      <td>0</td>\n",
              "      <td>0</td>\n",
              "      <td>1</td>\n",
              "      <td>0</td>\n",
              "      <td>1</td>\n",
              "      <td>0</td>\n",
              "      <td>1</td>\n",
              "      <td>0</td>\n",
              "      <td>1</td>\n",
              "      <td>1</td>\n",
              "      <td>0</td>\n",
              "      <td>1</td>\n",
              "      <td>1</td>\n",
              "      <td>0</td>\n",
              "      <td>1</td>\n",
              "      <td>0</td>\n",
              "      <td>0</td>\n",
              "      <td>0</td>\n",
              "      <td>0</td>\n",
              "      <td>1</td>\n",
              "      <td>1.163791</td>\n",
              "      <td>-0.286634</td>\n",
              "      <td>-1.272418</td>\n",
              "      <td>-0.864067</td>\n",
              "      <td>-2.121869</td>\n",
              "      <td>0.623077</td>\n",
              "      <td>0.654985</td>\n",
              "      <td>-0.282609</td>\n",
              "      <td>-0.689127</td>\n",
              "      <td>0.120093</td>\n",
              "      <td>-0.240155</td>\n",
              "    </tr>\n",
              "  </tbody>\n",
              "</table>\n",
              "<p>5 rows × 112 columns</p>\n",
              "</div>"
            ],
            "text/plain": [
              "   MSSubClass  Neighborhood  OverallQual  ...      col8      col9     col10\n",
              "0           1             2            7  ... -0.228161 -0.939961  1.261740\n",
              "1           4             0            5  ...  0.322675  0.835946 -0.645154\n",
              "2           3             0            4  ... -1.008071 -1.015077  1.379985\n",
              "3           4             3            7  ... -1.259873  0.484696  0.109131\n",
              "4           4             6            7  ... -0.689127  0.120093 -0.240155\n",
              "\n",
              "[5 rows x 112 columns]"
            ]
          },
          "metadata": {
            "tags": []
          },
          "execution_count": 83
        }
      ]
    },
    {
      "cell_type": "code",
      "metadata": {
        "colab": {
          "base_uri": "https://localhost:8080/",
          "height": 273
        },
        "id": "NLccK2-VFPEe",
        "outputId": "2e9c704b-8cf0-4831-b429-66a23a21d4de"
      },
      "source": [
        "test2 = test2.reset_index(drop=True)\n",
        "test_model = test2.merge(test_pca,left_index=True, right_index=True)\n",
        "test_model.head()\n",
        "\n"
      ],
      "execution_count": null,
      "outputs": [
        {
          "output_type": "execute_result",
          "data": {
            "text/html": [
              "<div>\n",
              "<style scoped>\n",
              "    .dataframe tbody tr th:only-of-type {\n",
              "        vertical-align: middle;\n",
              "    }\n",
              "\n",
              "    .dataframe tbody tr th {\n",
              "        vertical-align: top;\n",
              "    }\n",
              "\n",
              "    .dataframe thead th {\n",
              "        text-align: right;\n",
              "    }\n",
              "</style>\n",
              "<table border=\"1\" class=\"dataframe\">\n",
              "  <thead>\n",
              "    <tr style=\"text-align: right;\">\n",
              "      <th></th>\n",
              "      <th>MSSubClass</th>\n",
              "      <th>Neighborhood</th>\n",
              "      <th>OverallQual</th>\n",
              "      <th>OverallCond</th>\n",
              "      <th>Exterior1st</th>\n",
              "      <th>Exterior2nd</th>\n",
              "      <th>BsmtExposure</th>\n",
              "      <th>BsmtFinType1</th>\n",
              "      <th>FullBath</th>\n",
              "      <th>TotRmsAbvGrd</th>\n",
              "      <th>GarageType</th>\n",
              "      <th>GarageCars</th>\n",
              "      <th>PoolArea</th>\n",
              "      <th>MoSold</th>\n",
              "      <th>LotFrontage_na</th>\n",
              "      <th>MSZoning_RL</th>\n",
              "      <th>MSZoning_RM</th>\n",
              "      <th>Street_Pave</th>\n",
              "      <th>Alley_Missing</th>\n",
              "      <th>LotShape_Reg</th>\n",
              "      <th>LotShape_IR1</th>\n",
              "      <th>LandContour_Lvl</th>\n",
              "      <th>Utilities_AllPub</th>\n",
              "      <th>LotConfig_Inside</th>\n",
              "      <th>LotConfig_CulDSac</th>\n",
              "      <th>LotConfig_Corner</th>\n",
              "      <th>LandSlope_Gtl</th>\n",
              "      <th>Condition1_Norm</th>\n",
              "      <th>Condition1_Feedr</th>\n",
              "      <th>Condition2_Norm</th>\n",
              "      <th>BldgType_Rare</th>\n",
              "      <th>BldgType_1Fam</th>\n",
              "      <th>HouseStyle_2Story</th>\n",
              "      <th>HouseStyle_1.5Fin</th>\n",
              "      <th>HouseStyle_1Story</th>\n",
              "      <th>RoofStyle_Gable</th>\n",
              "      <th>RoofStyle_Rare</th>\n",
              "      <th>RoofMatl_CompShg</th>\n",
              "      <th>MasVnrType_Stone</th>\n",
              "      <th>MasVnrType_None</th>\n",
              "      <th>...</th>\n",
              "      <th>KitchenQual_Rare</th>\n",
              "      <th>Functional_Typ</th>\n",
              "      <th>Fireplaces_0</th>\n",
              "      <th>Fireplaces_1</th>\n",
              "      <th>Fireplaces_2</th>\n",
              "      <th>FireplaceQu_Missing</th>\n",
              "      <th>FireplaceQu_Gd</th>\n",
              "      <th>FireplaceQu_Rare</th>\n",
              "      <th>GarageFinish_RFn</th>\n",
              "      <th>GarageFinish_Unf</th>\n",
              "      <th>GarageFinish_Missing</th>\n",
              "      <th>GarageQual_TA</th>\n",
              "      <th>GarageQual_Missing</th>\n",
              "      <th>GarageCond_TA</th>\n",
              "      <th>GarageCond_Missing</th>\n",
              "      <th>PavedDrive_Y</th>\n",
              "      <th>PavedDrive_N</th>\n",
              "      <th>PoolQC_Missing</th>\n",
              "      <th>Fence_Missing</th>\n",
              "      <th>Fence_Rare</th>\n",
              "      <th>MiscFeature_Missing</th>\n",
              "      <th>SaleType_WD</th>\n",
              "      <th>SaleType_Rare</th>\n",
              "      <th>SaleCondition_Normal</th>\n",
              "      <th>SaleCondition_Rare</th>\n",
              "      <th>SaleCondition_Partial</th>\n",
              "      <th>Renovation_Done_0</th>\n",
              "      <th>Garage_status_Built-in</th>\n",
              "      <th>Garage_status_Built-Later</th>\n",
              "      <th>col0</th>\n",
              "      <th>col1</th>\n",
              "      <th>col2</th>\n",
              "      <th>col3</th>\n",
              "      <th>col4</th>\n",
              "      <th>col5</th>\n",
              "      <th>col6</th>\n",
              "      <th>col7</th>\n",
              "      <th>col8</th>\n",
              "      <th>col9</th>\n",
              "      <th>col10</th>\n",
              "    </tr>\n",
              "  </thead>\n",
              "  <tbody>\n",
              "    <tr>\n",
              "      <th>0</th>\n",
              "      <td>3</td>\n",
              "      <td>2</td>\n",
              "      <td>5</td>\n",
              "      <td>1</td>\n",
              "      <td>5</td>\n",
              "      <td>5</td>\n",
              "      <td>1</td>\n",
              "      <td>1</td>\n",
              "      <td>1</td>\n",
              "      <td>5</td>\n",
              "      <td>3</td>\n",
              "      <td>1.0</td>\n",
              "      <td>0</td>\n",
              "      <td>2</td>\n",
              "      <td>0</td>\n",
              "      <td>0</td>\n",
              "      <td>0</td>\n",
              "      <td>1</td>\n",
              "      <td>1</td>\n",
              "      <td>1</td>\n",
              "      <td>0</td>\n",
              "      <td>1</td>\n",
              "      <td>1</td>\n",
              "      <td>1</td>\n",
              "      <td>0</td>\n",
              "      <td>0</td>\n",
              "      <td>1</td>\n",
              "      <td>0</td>\n",
              "      <td>1</td>\n",
              "      <td>1</td>\n",
              "      <td>0</td>\n",
              "      <td>1</td>\n",
              "      <td>0</td>\n",
              "      <td>0</td>\n",
              "      <td>1</td>\n",
              "      <td>1</td>\n",
              "      <td>0</td>\n",
              "      <td>1</td>\n",
              "      <td>0</td>\n",
              "      <td>1</td>\n",
              "      <td>...</td>\n",
              "      <td>0</td>\n",
              "      <td>1</td>\n",
              "      <td>1</td>\n",
              "      <td>0</td>\n",
              "      <td>0</td>\n",
              "      <td>1</td>\n",
              "      <td>0</td>\n",
              "      <td>0</td>\n",
              "      <td>0</td>\n",
              "      <td>1</td>\n",
              "      <td>0</td>\n",
              "      <td>1</td>\n",
              "      <td>0</td>\n",
              "      <td>1</td>\n",
              "      <td>0</td>\n",
              "      <td>1</td>\n",
              "      <td>0</td>\n",
              "      <td>1</td>\n",
              "      <td>0</td>\n",
              "      <td>0</td>\n",
              "      <td>1</td>\n",
              "      <td>1</td>\n",
              "      <td>0</td>\n",
              "      <td>1</td>\n",
              "      <td>0</td>\n",
              "      <td>0</td>\n",
              "      <td>1</td>\n",
              "      <td>1</td>\n",
              "      <td>0</td>\n",
              "      <td>-0.746000</td>\n",
              "      <td>-1.264682</td>\n",
              "      <td>1.311292</td>\n",
              "      <td>0.173911</td>\n",
              "      <td>0.220462</td>\n",
              "      <td>-0.408492</td>\n",
              "      <td>-0.379476</td>\n",
              "      <td>-0.810439</td>\n",
              "      <td>1.719756</td>\n",
              "      <td>-0.167071</td>\n",
              "      <td>0.093527</td>\n",
              "    </tr>\n",
              "    <tr>\n",
              "      <th>1</th>\n",
              "      <td>3</td>\n",
              "      <td>2</td>\n",
              "      <td>6</td>\n",
              "      <td>1</td>\n",
              "      <td>0</td>\n",
              "      <td>0</td>\n",
              "      <td>1</td>\n",
              "      <td>4</td>\n",
              "      <td>1</td>\n",
              "      <td>6</td>\n",
              "      <td>3</td>\n",
              "      <td>1.0</td>\n",
              "      <td>0</td>\n",
              "      <td>2</td>\n",
              "      <td>0</td>\n",
              "      <td>1</td>\n",
              "      <td>0</td>\n",
              "      <td>1</td>\n",
              "      <td>1</td>\n",
              "      <td>0</td>\n",
              "      <td>1</td>\n",
              "      <td>1</td>\n",
              "      <td>1</td>\n",
              "      <td>0</td>\n",
              "      <td>0</td>\n",
              "      <td>1</td>\n",
              "      <td>1</td>\n",
              "      <td>1</td>\n",
              "      <td>0</td>\n",
              "      <td>1</td>\n",
              "      <td>0</td>\n",
              "      <td>1</td>\n",
              "      <td>0</td>\n",
              "      <td>0</td>\n",
              "      <td>1</td>\n",
              "      <td>0</td>\n",
              "      <td>0</td>\n",
              "      <td>1</td>\n",
              "      <td>0</td>\n",
              "      <td>0</td>\n",
              "      <td>...</td>\n",
              "      <td>0</td>\n",
              "      <td>1</td>\n",
              "      <td>1</td>\n",
              "      <td>0</td>\n",
              "      <td>0</td>\n",
              "      <td>1</td>\n",
              "      <td>0</td>\n",
              "      <td>0</td>\n",
              "      <td>0</td>\n",
              "      <td>1</td>\n",
              "      <td>0</td>\n",
              "      <td>1</td>\n",
              "      <td>0</td>\n",
              "      <td>1</td>\n",
              "      <td>0</td>\n",
              "      <td>1</td>\n",
              "      <td>0</td>\n",
              "      <td>1</td>\n",
              "      <td>1</td>\n",
              "      <td>0</td>\n",
              "      <td>0</td>\n",
              "      <td>1</td>\n",
              "      <td>0</td>\n",
              "      <td>1</td>\n",
              "      <td>0</td>\n",
              "      <td>0</td>\n",
              "      <td>1</td>\n",
              "      <td>1</td>\n",
              "      <td>0</td>\n",
              "      <td>0.358289</td>\n",
              "      <td>-1.730777</td>\n",
              "      <td>1.820464</td>\n",
              "      <td>-0.088984</td>\n",
              "      <td>1.231112</td>\n",
              "      <td>-1.885399</td>\n",
              "      <td>1.554704</td>\n",
              "      <td>-0.526092</td>\n",
              "      <td>-0.397196</td>\n",
              "      <td>-0.052513</td>\n",
              "      <td>-0.535879</td>\n",
              "    </tr>\n",
              "    <tr>\n",
              "      <th>2</th>\n",
              "      <td>4</td>\n",
              "      <td>4</td>\n",
              "      <td>5</td>\n",
              "      <td>4</td>\n",
              "      <td>5</td>\n",
              "      <td>5</td>\n",
              "      <td>1</td>\n",
              "      <td>6</td>\n",
              "      <td>2</td>\n",
              "      <td>6</td>\n",
              "      <td>3</td>\n",
              "      <td>2.0</td>\n",
              "      <td>0</td>\n",
              "      <td>0</td>\n",
              "      <td>0</td>\n",
              "      <td>1</td>\n",
              "      <td>0</td>\n",
              "      <td>1</td>\n",
              "      <td>1</td>\n",
              "      <td>0</td>\n",
              "      <td>1</td>\n",
              "      <td>1</td>\n",
              "      <td>1</td>\n",
              "      <td>1</td>\n",
              "      <td>0</td>\n",
              "      <td>0</td>\n",
              "      <td>1</td>\n",
              "      <td>1</td>\n",
              "      <td>0</td>\n",
              "      <td>1</td>\n",
              "      <td>0</td>\n",
              "      <td>1</td>\n",
              "      <td>1</td>\n",
              "      <td>0</td>\n",
              "      <td>0</td>\n",
              "      <td>1</td>\n",
              "      <td>0</td>\n",
              "      <td>1</td>\n",
              "      <td>0</td>\n",
              "      <td>1</td>\n",
              "      <td>...</td>\n",
              "      <td>0</td>\n",
              "      <td>1</td>\n",
              "      <td>0</td>\n",
              "      <td>1</td>\n",
              "      <td>0</td>\n",
              "      <td>0</td>\n",
              "      <td>0</td>\n",
              "      <td>0</td>\n",
              "      <td>0</td>\n",
              "      <td>0</td>\n",
              "      <td>0</td>\n",
              "      <td>1</td>\n",
              "      <td>0</td>\n",
              "      <td>1</td>\n",
              "      <td>0</td>\n",
              "      <td>1</td>\n",
              "      <td>0</td>\n",
              "      <td>1</td>\n",
              "      <td>0</td>\n",
              "      <td>0</td>\n",
              "      <td>1</td>\n",
              "      <td>1</td>\n",
              "      <td>0</td>\n",
              "      <td>1</td>\n",
              "      <td>0</td>\n",
              "      <td>0</td>\n",
              "      <td>0</td>\n",
              "      <td>1</td>\n",
              "      <td>0</td>\n",
              "      <td>1.032051</td>\n",
              "      <td>-0.366071</td>\n",
              "      <td>0.535965</td>\n",
              "      <td>-1.519076</td>\n",
              "      <td>-0.266660</td>\n",
              "      <td>-1.343636</td>\n",
              "      <td>-0.628298</td>\n",
              "      <td>0.032034</td>\n",
              "      <td>-0.154883</td>\n",
              "      <td>-0.440339</td>\n",
              "      <td>-0.545334</td>\n",
              "    </tr>\n",
              "    <tr>\n",
              "      <th>3</th>\n",
              "      <td>4</td>\n",
              "      <td>4</td>\n",
              "      <td>6</td>\n",
              "      <td>1</td>\n",
              "      <td>5</td>\n",
              "      <td>5</td>\n",
              "      <td>1</td>\n",
              "      <td>6</td>\n",
              "      <td>2</td>\n",
              "      <td>7</td>\n",
              "      <td>3</td>\n",
              "      <td>2.0</td>\n",
              "      <td>0</td>\n",
              "      <td>2</td>\n",
              "      <td>0</td>\n",
              "      <td>1</td>\n",
              "      <td>0</td>\n",
              "      <td>1</td>\n",
              "      <td>1</td>\n",
              "      <td>0</td>\n",
              "      <td>1</td>\n",
              "      <td>1</td>\n",
              "      <td>1</td>\n",
              "      <td>1</td>\n",
              "      <td>0</td>\n",
              "      <td>0</td>\n",
              "      <td>1</td>\n",
              "      <td>1</td>\n",
              "      <td>0</td>\n",
              "      <td>1</td>\n",
              "      <td>0</td>\n",
              "      <td>1</td>\n",
              "      <td>1</td>\n",
              "      <td>0</td>\n",
              "      <td>0</td>\n",
              "      <td>1</td>\n",
              "      <td>0</td>\n",
              "      <td>1</td>\n",
              "      <td>0</td>\n",
              "      <td>0</td>\n",
              "      <td>...</td>\n",
              "      <td>0</td>\n",
              "      <td>1</td>\n",
              "      <td>0</td>\n",
              "      <td>1</td>\n",
              "      <td>0</td>\n",
              "      <td>0</td>\n",
              "      <td>1</td>\n",
              "      <td>0</td>\n",
              "      <td>0</td>\n",
              "      <td>0</td>\n",
              "      <td>0</td>\n",
              "      <td>1</td>\n",
              "      <td>0</td>\n",
              "      <td>1</td>\n",
              "      <td>0</td>\n",
              "      <td>1</td>\n",
              "      <td>0</td>\n",
              "      <td>1</td>\n",
              "      <td>1</td>\n",
              "      <td>0</td>\n",
              "      <td>1</td>\n",
              "      <td>1</td>\n",
              "      <td>0</td>\n",
              "      <td>1</td>\n",
              "      <td>0</td>\n",
              "      <td>0</td>\n",
              "      <td>1</td>\n",
              "      <td>1</td>\n",
              "      <td>0</td>\n",
              "      <td>1.059730</td>\n",
              "      <td>-0.144150</td>\n",
              "      <td>-0.185278</td>\n",
              "      <td>-1.204446</td>\n",
              "      <td>0.517229</td>\n",
              "      <td>-2.128544</td>\n",
              "      <td>-0.255511</td>\n",
              "      <td>-0.440482</td>\n",
              "      <td>-0.023598</td>\n",
              "      <td>0.523750</td>\n",
              "      <td>-0.368026</td>\n",
              "    </tr>\n",
              "    <tr>\n",
              "      <th>4</th>\n",
              "      <td>5</td>\n",
              "      <td>3</td>\n",
              "      <td>8</td>\n",
              "      <td>4</td>\n",
              "      <td>2</td>\n",
              "      <td>3</td>\n",
              "      <td>1</td>\n",
              "      <td>4</td>\n",
              "      <td>2</td>\n",
              "      <td>5</td>\n",
              "      <td>3</td>\n",
              "      <td>2.0</td>\n",
              "      <td>0</td>\n",
              "      <td>5</td>\n",
              "      <td>0</td>\n",
              "      <td>1</td>\n",
              "      <td>0</td>\n",
              "      <td>1</td>\n",
              "      <td>1</td>\n",
              "      <td>0</td>\n",
              "      <td>1</td>\n",
              "      <td>0</td>\n",
              "      <td>1</td>\n",
              "      <td>1</td>\n",
              "      <td>0</td>\n",
              "      <td>0</td>\n",
              "      <td>1</td>\n",
              "      <td>1</td>\n",
              "      <td>0</td>\n",
              "      <td>1</td>\n",
              "      <td>0</td>\n",
              "      <td>0</td>\n",
              "      <td>0</td>\n",
              "      <td>0</td>\n",
              "      <td>1</td>\n",
              "      <td>1</td>\n",
              "      <td>0</td>\n",
              "      <td>1</td>\n",
              "      <td>0</td>\n",
              "      <td>1</td>\n",
              "      <td>...</td>\n",
              "      <td>0</td>\n",
              "      <td>1</td>\n",
              "      <td>1</td>\n",
              "      <td>0</td>\n",
              "      <td>0</td>\n",
              "      <td>1</td>\n",
              "      <td>0</td>\n",
              "      <td>0</td>\n",
              "      <td>1</td>\n",
              "      <td>0</td>\n",
              "      <td>0</td>\n",
              "      <td>1</td>\n",
              "      <td>0</td>\n",
              "      <td>1</td>\n",
              "      <td>0</td>\n",
              "      <td>1</td>\n",
              "      <td>0</td>\n",
              "      <td>1</td>\n",
              "      <td>1</td>\n",
              "      <td>0</td>\n",
              "      <td>1</td>\n",
              "      <td>1</td>\n",
              "      <td>0</td>\n",
              "      <td>1</td>\n",
              "      <td>0</td>\n",
              "      <td>0</td>\n",
              "      <td>1</td>\n",
              "      <td>1</td>\n",
              "      <td>0</td>\n",
              "      <td>-0.281725</td>\n",
              "      <td>-0.056561</td>\n",
              "      <td>-1.939731</td>\n",
              "      <td>1.422168</td>\n",
              "      <td>-0.732371</td>\n",
              "      <td>0.489038</td>\n",
              "      <td>0.540460</td>\n",
              "      <td>0.602627</td>\n",
              "      <td>0.513099</td>\n",
              "      <td>-0.035366</td>\n",
              "      <td>-0.245156</td>\n",
              "    </tr>\n",
              "  </tbody>\n",
              "</table>\n",
              "<p>5 rows × 112 columns</p>\n",
              "</div>"
            ],
            "text/plain": [
              "   MSSubClass  Neighborhood  OverallQual  ...      col8      col9     col10\n",
              "0           3             2            5  ...  1.719756 -0.167071  0.093527\n",
              "1           3             2            6  ... -0.397196 -0.052513 -0.535879\n",
              "2           4             4            5  ... -0.154883 -0.440339 -0.545334\n",
              "3           4             4            6  ... -0.023598  0.523750 -0.368026\n",
              "4           5             3            8  ...  0.513099 -0.035366 -0.245156\n",
              "\n",
              "[5 rows x 112 columns]"
            ]
          },
          "metadata": {
            "tags": []
          },
          "execution_count": 84
        }
      ]
    },
    {
      "cell_type": "code",
      "metadata": {
        "colab": {
          "base_uri": "https://localhost:8080/"
        },
        "id": "9ax7w06VFQ8F",
        "outputId": "c1924bb0-f530-41df-a32a-d59814216fed"
      },
      "source": [
        "X_train_model.shape, X_test_model.shape,test_model.shape\n"
      ],
      "execution_count": null,
      "outputs": [
        {
          "output_type": "execute_result",
          "data": {
            "text/plain": [
              "((1039, 112), (347, 112), (1459, 112))"
            ]
          },
          "metadata": {
            "tags": []
          },
          "execution_count": 85
        }
      ]
    },
    {
      "cell_type": "code",
      "metadata": {
        "id": "SprpVux8FTWE"
      },
      "source": [
        "y_train_log = np.log(y_train)\n",
        "y_test_log = np.log(y_test)\n"
      ],
      "execution_count": null,
      "outputs": []
    },
    {
      "cell_type": "code",
      "metadata": {
        "id": "U6x_EBEcPRjq"
      },
      "source": [
        ""
      ],
      "execution_count": null,
      "outputs": []
    },
    {
      "cell_type": "code",
      "metadata": {
        "id": "dN-3I59DPRnc"
      },
      "source": [
        ""
      ],
      "execution_count": null,
      "outputs": []
    },
    {
      "cell_type": "code",
      "metadata": {
        "id": "sur9JmIFFV23"
      },
      "source": [
        "import xgboost as xgb\n",
        "from xgboost.sklearn import XGBRegressor\n",
        "from sklearn.model_selection import GridSearchCV"
      ],
      "execution_count": null,
      "outputs": []
    },
    {
      "cell_type": "code",
      "metadata": {
        "colab": {
          "base_uri": "https://localhost:8080/"
        },
        "id": "__OFFvzuFZ9A",
        "outputId": "2410ecb4-88e7-402b-a78f-c29d40517f4b"
      },
      "source": [
        "param = {'objective':['reg:squarederror'],\n",
        "         'learning_rate': [0.1,0.11,0.12,0.13,0.15,0.2],\n",
        "        'max_depth': [1,2,3,4,5]}\n",
        "\n",
        "xgb1 = XGBRegressor()\n",
        "\n",
        "xgb_grid = GridSearchCV(xgb1, param, cv = 3)\n",
        "\n",
        "xgb_grid.fit(X_train_model, y_train_log)\n"
      ],
      "execution_count": null,
      "outputs": [
        {
          "output_type": "execute_result",
          "data": {
            "text/plain": [
              "GridSearchCV(cv=3, error_score=nan,\n",
              "             estimator=XGBRegressor(base_score=0.5, booster='gbtree',\n",
              "                                    colsample_bylevel=1, colsample_bynode=1,\n",
              "                                    colsample_bytree=1, gamma=0,\n",
              "                                    importance_type='gain', learning_rate=0.1,\n",
              "                                    max_delta_step=0, max_depth=3,\n",
              "                                    min_child_weight=1, missing=None,\n",
              "                                    n_estimators=100, n_jobs=1, nthread=None,\n",
              "                                    objective='reg:linear', random_state=0,\n",
              "                                    reg_alpha=0, reg_lambda=1,\n",
              "                                    scale_pos_weight=1, seed=None, silent=None,\n",
              "                                    subsample=1, verbosity=1),\n",
              "             iid='deprecated', n_jobs=None,\n",
              "             param_grid={'learning_rate': [0.1, 0.11, 0.12, 0.13, 0.15, 0.2],\n",
              "                         'max_depth': [1, 2, 3, 4, 5],\n",
              "                         'objective': ['reg:squarederror']},\n",
              "             pre_dispatch='2*n_jobs', refit=True, return_train_score=False,\n",
              "             scoring=None, verbose=0)"
            ]
          },
          "metadata": {
            "tags": []
          },
          "execution_count": 89
        }
      ]
    },
    {
      "cell_type": "code",
      "metadata": {
        "colab": {
          "base_uri": "https://localhost:8080/"
        },
        "id": "niTLpyGQFcIM",
        "outputId": "24f0d49e-9689-4c4b-d234-d2c90fb4e915"
      },
      "source": [
        "print(xgb_grid.best_score_)\n",
        "print(xgb_grid.best_params_)"
      ],
      "execution_count": null,
      "outputs": [
        {
          "output_type": "stream",
          "text": [
            "0.8806668517881224\n",
            "{'learning_rate': 0.11, 'max_depth': 3, 'objective': 'reg:squarederror'}\n"
          ],
          "name": "stdout"
        }
      ]
    },
    {
      "cell_type": "code",
      "metadata": {
        "id": "Dv3x-EwQFsjM"
      },
      "source": [
        "y_predict_train = xgb_grid.predict(X_train_model)\n",
        "y_predict_test =  xgb_grid.predict(X_test_model)\n"
      ],
      "execution_count": null,
      "outputs": []
    },
    {
      "cell_type": "code",
      "metadata": {
        "colab": {
          "base_uri": "https://localhost:8080/"
        },
        "id": "L2ZJnAAmFu6f",
        "outputId": "0f6595ec-a211-41b8-d90a-1f87105f1b6f"
      },
      "source": [
        "print(\"\\nTraining RMSE and R-Square: \")\n",
        "print(\"Root Mean Square Error :\",mean_squared_error(y_train_log,y_predict_train)**0.5)\n",
        "\n",
        "\n",
        "print(\"\\nTesting RMSE and R-Square: \")\n",
        "print(\"Root Mean Square Error :\",mean_squared_error(y_test_log,y_predict_test)**0.5)\n"
      ],
      "execution_count": null,
      "outputs": [
        {
          "output_type": "stream",
          "text": [
            "\n",
            "Training RMSE and R-Square: \n",
            "Root Mean Square Error : 0.08497107479223645\n",
            "\n",
            "Testing RMSE and R-Square: \n",
            "Root Mean Square Error : 0.11813862911064993\n"
          ],
          "name": "stdout"
        }
      ]
    },
    {
      "cell_type": "code",
      "metadata": {
        "colab": {
          "base_uri": "https://localhost:8080/"
        },
        "id": "aX5kjC6EF0ai",
        "outputId": "59278030-b3a3-4e3f-d18c-6d57ad19475e"
      },
      "source": [
        "#Accuracy of Model\n",
        "\n",
        "print('**Interpretation**')\n",
        "print('Train Accuracy',xgb_grid.score(X_train_model, y_train_log))\n",
        "print('Test Accuracy',xgb_grid.score(X_test_model, y_test_log))"
      ],
      "execution_count": null,
      "outputs": [
        {
          "output_type": "stream",
          "text": [
            "**Interpretation**\n",
            "Train Accuracy 0.9509222333135742\n",
            "Test Accuracy 0.8918589304964242\n"
          ],
          "name": "stdout"
        }
      ]
    },
    {
      "cell_type": "code",
      "metadata": {
        "colab": {
          "base_uri": "https://localhost:8080/"
        },
        "id": "WAvd5ly3GN5H",
        "outputId": "59e59247-7a0e-427d-9a27-2c6c4686479c"
      },
      "source": [
        "# Import stats model\n",
        "import statsmodels.api as sm\n",
        "X_train1 = sm.add_constant(X_train_model).values\n",
        "model =sm.OLS(y_train_log,X_train1).fit()\n",
        "print('Adjusted R Squared: ', model.rsquared_adj)\n"
      ],
      "execution_count": null,
      "outputs": [
        {
          "output_type": "stream",
          "text": [
            "Adjusted R Squared:  0.9050567494138373\n"
          ],
          "name": "stdout"
        }
      ]
    },
    {
      "cell_type": "code",
      "metadata": {
        "id": "o119oz6xG9Or"
      },
      "source": [
        "from sklearn.ensemble import AdaBoostRegressor\n",
        "from sklearn.ensemble import RandomForestRegressor\n"
      ],
      "execution_count": null,
      "outputs": []
    },
    {
      "cell_type": "code",
      "metadata": {
        "id": "RjAUKXodHnaU"
      },
      "source": [
        "from sklearn import metrics\n",
        "from sklearn.metrics import make_scorer, mean_squared_error\n",
        "from sklearn.metrics import r2_score\n"
      ],
      "execution_count": null,
      "outputs": []
    },
    {
      "cell_type": "code",
      "metadata": {
        "colab": {
          "base_uri": "https://localhost:8080/"
        },
        "id": "FsMr_eYdHqQG",
        "outputId": "c9727735-97ea-4f78-e806-d37336daec2f"
      },
      "source": [
        "ada_clf_rand = AdaBoostRegressor(RandomForestRegressor())\n",
        "\n",
        "ada_clf_rand.fit(X_train_model, y_train_log)\n",
        "y_pred = ada_clf_rand.predict(X_test_model)\n",
        "# Print the score of the fitted model\n",
        "print('**Interpretation**')\n",
        "print('r2_score: ',r2_score(y_test_log, y_pred))\n",
        "\n",
        "#RMSE Value\n",
        "rmse = np.sqrt(mean_squared_error(y_test_log, y_pred))\n",
        "print('RMSE: ', rmse)\n",
        "\n",
        "\n",
        "\n",
        "print('**Interpretation**')\n",
        "print('Train Accuracy: ', ada_clf_rand.score(X_train_model, y_train_log))\n",
        "print('Test Accuracy: ', ada_clf_rand.score(X_test_model, y_test_log))\n",
        "\n",
        "#Adjusted R Squared\n",
        "import statsmodels.api as sm\n",
        "X_train1 = sm.add_constant(X_train_model).values\n",
        "model =sm.OLS(y_train_log,X_train1).fit()\n",
        "#print(model.params)\n",
        "print('Adjusted R Squared ', model.rsquared_adj)\n"
      ],
      "execution_count": null,
      "outputs": [
        {
          "output_type": "stream",
          "text": [
            "**Interpretation**\n",
            "r2_score:  0.895250071605637\n",
            "RMSE:  0.11627155056991204\n",
            "**Interpretation**\n",
            "Train Accuracy:  0.9935976083138194\n",
            "Test Accuracy:  0.8952500716056369\n",
            "Adjusted R Squared  0.9050567494138373\n"
          ],
          "name": "stdout"
        }
      ]
    },
    {
      "cell_type": "code",
      "metadata": {
        "id": "SpEW0fnPWjgU"
      },
      "source": [
        "\n",
        "ada_clf = AdaBoostRegressor()\n"
      ],
      "execution_count": null,
      "outputs": []
    },
    {
      "cell_type": "code",
      "metadata": {
        "colab": {
          "base_uri": "https://localhost:8080/"
        },
        "id": "SLU53a8VHsQk",
        "outputId": "dbf8790d-3905-491a-a2d5-d68d48b9e627"
      },
      "source": [
        "ada_clf.fit(X_train_model, y_train_log)\n"
      ],
      "execution_count": null,
      "outputs": [
        {
          "output_type": "execute_result",
          "data": {
            "text/plain": [
              "AdaBoostRegressor(base_estimator=None, learning_rate=1.0, loss='linear',\n",
              "                  n_estimators=50, random_state=None)"
            ]
          },
          "metadata": {
            "tags": []
          },
          "execution_count": 110
        }
      ]
    },
    {
      "cell_type": "code",
      "metadata": {
        "id": "2kSyMnmhHzbH"
      },
      "source": [
        "y_pred = ada_clf.predict(X_test_model)\n"
      ],
      "execution_count": null,
      "outputs": []
    },
    {
      "cell_type": "code",
      "metadata": {
        "colab": {
          "base_uri": "https://localhost:8080/"
        },
        "id": "OSt4na8iH5qq",
        "outputId": "67cbf4ca-6d8c-41ca-f44d-34b359ccc71d"
      },
      "source": [
        "print(\"\\nTesting RMSE and R-Square: \")\n",
        "print(\"Root Mean Square Error :\",mean_squared_error(y_test_log,y_pred)**0.5)"
      ],
      "execution_count": null,
      "outputs": [
        {
          "output_type": "stream",
          "text": [
            "\n",
            "Testing RMSE and R-Square: \n",
            "Root Mean Square Error : 0.1431170428659134\n"
          ],
          "name": "stdout"
        }
      ]
    },
    {
      "cell_type": "code",
      "metadata": {
        "colab": {
          "base_uri": "https://localhost:8080/"
        },
        "id": "Dy6-uXHbIE6E",
        "outputId": "10be9e07-7a5e-477e-ac6b-b694cc56d607"
      },
      "source": [
        "print('Train Accuracy: ', ada_clf.score(X_train_model, y_train_log))\n",
        "print('Test Accuracy: ', ada_clf.score(X_test_model, y_test_log))"
      ],
      "execution_count": null,
      "outputs": [
        {
          "output_type": "stream",
          "text": [
            "Train Accuracy:  0.8766675154583374\n",
            "Test Accuracy:  0.8412954000534799\n"
          ],
          "name": "stdout"
        }
      ]
    },
    {
      "cell_type": "code",
      "metadata": {
        "colab": {
          "base_uri": "https://localhost:8080/"
        },
        "id": "9WthosReIhlU",
        "outputId": "92714426-d087-4c69-9a51-809faa334888"
      },
      "source": [
        "import statsmodels.api as sm\n",
        "X_train1 = sm.add_constant(X_train_model).values\n",
        "model =sm.OLS(y_train_log,X_train1).fit()\n",
        "print('Adjusted R Squared: ', model.rsquared_adj)"
      ],
      "execution_count": null,
      "outputs": [
        {
          "output_type": "stream",
          "text": [
            "Adjusted R Squared:  0.9050567494138373\n"
          ],
          "name": "stdout"
        }
      ]
    },
    {
      "cell_type": "code",
      "metadata": {
        "id": "eTneg54gLtZ4"
      },
      "source": [
        "from sklearn import tree\n",
        "from sklearn.tree import DecisionTreeRegressor\n"
      ],
      "execution_count": null,
      "outputs": []
    },
    {
      "cell_type": "code",
      "metadata": {
        "colab": {
          "base_uri": "https://localhost:8080/"
        },
        "id": "5xcwxnoEI6Mi",
        "outputId": "34f9b1f1-acaa-45b5-fc69-d7708835d459"
      },
      "source": [
        "params = {\"max_depth\": np.arange(3,10), \"min_samples_split\": np.arange(5,15)}\n",
        "model = tree.DecisionTreeRegressor()\n",
        "grid = GridSearchCV(estimator = model,  param_grid = params, cv  =  10)\n",
        "grid_model = grid.fit(X_train_model, y_train_log)\n",
        "grid_model.best_params_"
      ],
      "execution_count": null,
      "outputs": [
        {
          "output_type": "execute_result",
          "data": {
            "text/plain": [
              "{'max_depth': 5, 'min_samples_split': 13}"
            ]
          },
          "metadata": {
            "tags": []
          },
          "execution_count": 116
        }
      ]
    },
    {
      "cell_type": "code",
      "metadata": {
        "colab": {
          "base_uri": "https://localhost:8080/"
        },
        "id": "6xxLzfAlJ-ja",
        "outputId": "7fa1d900-9390-456c-ca59-d01f3d1e0b5e"
      },
      "source": [
        "#Building the decision tree\n",
        "model = tree.DecisionTreeRegressor(max_depth = 5, min_samples_split = 13, random_state = 123)\n",
        "model = model.fit(X_train_model, y_train_log)\n",
        "#Predicting the value\n",
        "y_pred = model.predict(X_test_model)\n",
        "\n",
        "#Accuracy of Model\n",
        "\n",
        "print('**Interpretation**')\n",
        "print('Train Accuracy',model.score(X_train_model, y_train_log))\n",
        "print('Test Accuracy',model.score(X_test_model, y_test_log))"
      ],
      "execution_count": null,
      "outputs": [
        {
          "output_type": "stream",
          "text": [
            "**Interpretation**\n",
            "Train Accuracy 0.8764286585812615\n",
            "Test Accuracy 0.8271558084486785\n"
          ],
          "name": "stdout"
        }
      ]
    },
    {
      "cell_type": "code",
      "metadata": {
        "colab": {
          "base_uri": "https://localhost:8080/"
        },
        "id": "Iw-GY-nDMK8S",
        "outputId": "e8ac29d8-6c28-43d9-f5ab-78923f039ec2"
      },
      "source": [
        "print(\"\\nTesting RMSE and R-Square: \")\n",
        "print(\"Root Mean Square Error :\",mean_squared_error(y_test_log,y_pred)**0.5)"
      ],
      "execution_count": null,
      "outputs": [
        {
          "output_type": "stream",
          "text": [
            "\n",
            "Testing RMSE and R-Square: \n",
            "Root Mean Square Error : 0.14935645313059398\n"
          ],
          "name": "stdout"
        }
      ]
    },
    {
      "cell_type": "code",
      "metadata": {
        "colab": {
          "base_uri": "https://localhost:8080/"
        },
        "id": "1tp5vbulMXG6",
        "outputId": "7275dfa5-344f-4802-de68-8d204f602dab"
      },
      "source": [
        "import statsmodels.api as sm\n",
        "X_train1 = sm.add_constant(X_train_model).values\n",
        "model =sm.OLS(y_train_log,X_train1).fit()\n",
        "print('Adjusted R Squared: ', model.rsquared_adj)"
      ],
      "execution_count": null,
      "outputs": [
        {
          "output_type": "stream",
          "text": [
            "Adjusted R Squared:  0.9050567494138373\n"
          ],
          "name": "stdout"
        }
      ]
    },
    {
      "cell_type": "code",
      "metadata": {
        "colab": {
          "base_uri": "https://localhost:8080/"
        },
        "id": "bNRB8x-TS8Yk",
        "outputId": "d621df13-f4a8-4599-e6c5-2ec1723aed46"
      },
      "source": [
        "params = {\"max_depth\": np.arange(3,10), \"min_samples_split\": np.arange(5,15)}\n",
        "model = tree.DecisionTreeRegressor()\n",
        "grid = GridSearchCV(estimator = model,  param_grid = params, cv  =  10)\n",
        "grid_model = grid.fit(X_train_model, y_train_log)\n",
        "grid_model.best_params_\n",
        "#Building the decision tree\n",
        "model = tree.DecisionTreeRegressor(max_depth = 5, min_samples_split = 13, random_state = 123)\n",
        "model = model.fit(X_train_model, y_train_log)\n",
        "#Predicting the value\n",
        "y_pred = model.predict(X_test_model)\n",
        "\n",
        "#Accuracy of Model\n",
        "\n",
        "print('**Interpretation**')\n",
        "print('Train Accuracy',model.score(X_train_model, y_train_log))\n",
        "print('Test Accuracy',model.score(X_test_model, y_test_log))\n",
        "print(\"\\nTesting RMSE and R-Square: \")\n",
        "print(\"Root Mean Square Error :\",mean_squared_error(y_test_log,y_pred)**0.5)\n",
        "\n",
        "import statsmodels.api as sm\n",
        "X_train1 = sm.add_constant(X_train_model).values\n",
        "model =sm.OLS(y_train_log,X_train1).fit()\n",
        "print('Adjusted R Squared: ', model.rsquared_adj)"
      ],
      "execution_count": null,
      "outputs": [
        {
          "output_type": "stream",
          "text": [
            "**Interpretation**\n",
            "Train Accuracy 0.8764286585812615\n",
            "Test Accuracy 0.8271558084486785\n",
            "\n",
            "Testing RMSE and R-Square: \n",
            "Root Mean Square Error : 0.14935645313059398\n",
            "Adjusted R Squared:  0.9050567494138373\n"
          ],
          "name": "stdout"
        }
      ]
    },
    {
      "cell_type": "code",
      "metadata": {
        "id": "wWFkS49uS8bH"
      },
      "source": [
        ""
      ],
      "execution_count": null,
      "outputs": []
    },
    {
      "cell_type": "code",
      "metadata": {
        "id": "YPkASlHzS8dT"
      },
      "source": [
        ""
      ],
      "execution_count": null,
      "outputs": []
    },
    {
      "cell_type": "code",
      "metadata": {
        "id": "-hKbriQNOnbh"
      },
      "source": [
        "### random forest"
      ],
      "execution_count": null,
      "outputs": []
    },
    {
      "cell_type": "code",
      "metadata": {
        "colab": {
          "base_uri": "https://localhost:8080/"
        },
        "id": "nJkAiZatQ0RS",
        "outputId": "12a1783f-5e20-4f43-96ed-2dd8db188e39"
      },
      "source": [
        "import math\n",
        "forest = RandomForestRegressor(n_estimators = 100, random_state = 100, max_depth = 9, min_samples_split=7, verbose=1)\n",
        "model = forest.fit(X_train_model, y_train_log)\n",
        "y_pred =  model.predict(X_test_model)\n",
        "\n",
        "# Print the score of the fitted random forest\n",
        "print('**Interpretation**')\n",
        "print('Train Accuracy: ', model.score(X_train_model, y_train_log))\n",
        "print('Test Accuracy: ', model.score(X_test_model, y_test_log))\n",
        "rmse = math.sqrt(mean_squared_error(y_test_log, y_pred))\n",
        "print('RMSE: ' , rmse)\n",
        "\n",
        "# Import stats model\n",
        "import statsmodels.api as sm\n",
        "X_train1 = sm.add_constant(X_train_model).values\n",
        "model =sm.OLS(y_train_log,X_train1).fit()\n",
        "print('Adjusted R Squared: ', model.rsquared_adj)"
      ],
      "execution_count": null,
      "outputs": [
        {
          "output_type": "stream",
          "text": [
            "[Parallel(n_jobs=1)]: Using backend SequentialBackend with 1 concurrent workers.\n"
          ],
          "name": "stderr"
        },
        {
          "output_type": "stream",
          "text": [
            "**Interpretation**\n",
            "Train Accuracy:  0.9609168482648942\n",
            "Test Accuracy:  0.8801318642833937\n",
            "RMSE:  0.12437940422453198\n",
            "Adjusted R Squared:  0.9050567494138373\n"
          ],
          "name": "stdout"
        },
        {
          "output_type": "stream",
          "text": [
            "[Parallel(n_jobs=1)]: Done 100 out of 100 | elapsed:    1.1s finished\n",
            "[Parallel(n_jobs=1)]: Using backend SequentialBackend with 1 concurrent workers.\n",
            "[Parallel(n_jobs=1)]: Done 100 out of 100 | elapsed:    0.0s finished\n",
            "[Parallel(n_jobs=1)]: Using backend SequentialBackend with 1 concurrent workers.\n",
            "[Parallel(n_jobs=1)]: Done 100 out of 100 | elapsed:    0.0s finished\n",
            "[Parallel(n_jobs=1)]: Using backend SequentialBackend with 1 concurrent workers.\n",
            "[Parallel(n_jobs=1)]: Done 100 out of 100 | elapsed:    0.0s finished\n"
          ],
          "name": "stderr"
        }
      ]
    },
    {
      "cell_type": "code",
      "metadata": {
        "colab": {
          "base_uri": "https://localhost:8080/"
        },
        "id": "6qP07cukQ0nz",
        "outputId": "6d7b3339-8a92-4ff6-824c-34ff0a5eee69"
      },
      "source": [
        "from sklearn import svm\n",
        "from sklearn.model_selection import GridSearchCV\n",
        "\n",
        "params = {\"kernel\": ('linear', 'rbf'), \"gamma\": [0.03,1,10], }\n",
        "model = svm.SVR()\n",
        "grid = GridSearchCV(model,params)\n",
        "grid_model = grid.fit(X_train_model,y_train_log)\n",
        "grid_model.best_params_"
      ],
      "execution_count": null,
      "outputs": [
        {
          "output_type": "execute_result",
          "data": {
            "text/plain": [
              "{'gamma': 0.03, 'kernel': 'linear'}"
            ]
          },
          "metadata": {
            "tags": []
          },
          "execution_count": 123
        }
      ]
    },
    {
      "cell_type": "code",
      "metadata": {
        "colab": {
          "base_uri": "https://localhost:8080/"
        },
        "id": "qBVb3LKMSmzS",
        "outputId": "5a210b55-5d67-4ef4-c7ff-f0e6efb88911"
      },
      "source": [
        "#Build the model\n",
        "svm_model = svm.SVR(kernel='linear', gamma=0.03)\n",
        "svm_model.fit(X_train_model, y_train_log)\n",
        "y_pred = svm_model.predict(X_test_model)\n",
        "# Print the score of the fitted model\n",
        "print('**Interpretation**')\n",
        "print('r2_score: ',r2_score(y_test_log, y_pred))\n",
        "\n",
        "#RMSE Value\n",
        "rmse = np.sqrt(mean_squared_error(y_test_log, y_pred))\n",
        "print('RMSE: ', rmse)\n",
        "\n",
        "\n",
        "\n",
        "print('**Interpretation**')\n",
        "print('Train Accuracy: ', svm_model.score(X_train_model, y_train_log))\n",
        "print('Test Accuracy: ', svm_model.score(X_test_model, y_test_log))\n",
        "\n",
        "#Adjusted R Squared\n",
        "import statsmodels.api as sm\n",
        "X_train1 = sm.add_constant(X_train_model).values\n",
        "model =sm.OLS(y_train_log,X_train1).fit()\n",
        "#print(model.params)\n",
        "print('Adjusted R Squared ', model.rsquared_adj)\n",
        "\n",
        "\n"
      ],
      "execution_count": null,
      "outputs": [
        {
          "output_type": "stream",
          "text": [
            "**Interpretation**\n",
            "r2_score:  0.890796156121282\n",
            "RMSE:  0.11871772333182136\n",
            "**Interpretation**\n",
            "Train Accuracy:  0.9097690584377458\n",
            "Test Accuracy:  0.890796156121282\n",
            "Adjusted R Squared  0.9050567494138373\n"
          ],
          "name": "stdout"
        }
      ]
    },
    {
      "cell_type": "code",
      "metadata": {
        "id": "arbUdVE2f3lQ"
      },
      "source": [
        "\n",
        "#print('SVM using rbf kernel : %.2f percent.' % (round(SVM_rbf['accuracy']*100,2)))\n"
      ],
      "execution_count": null,
      "outputs": []
    },
    {
      "cell_type": "code",
      "metadata": {
        "colab": {
          "base_uri": "https://localhost:8080/"
        },
        "id": "fyMnHsuiTjuR",
        "outputId": "238d6a7a-98a2-46dc-d75a-5fb500ce1425"
      },
      "source": [
        "from sklearn.ensemble import GradientBoostingRegressor\n",
        "model = GradientBoostingRegressor()\n",
        "model.fit(X_train_model, y_train_log)\n",
        "y_pred = model.predict(X_test_model)\n",
        "# Print the score of the fitted model\n",
        "print('**Interpretation**')\n",
        "print('r2_score: ',r2_score(y_test_log, y_pred))\n",
        "\n",
        "#RMSE Value\n",
        "rmse = np.sqrt(mean_squared_error(y_test_log, y_pred))\n",
        "print('RMSE: ', rmse)\n",
        "\n",
        "\n",
        "\n",
        "print('**Interpretation**')\n",
        "print('Train Accuracy: ', model.score(X_train_model, y_train_log))\n",
        "print('Test Accuracy: ', model.score(X_test_model, y_test_log))\n",
        "\n",
        "#Adjusted R Squared\n",
        "import statsmodels.api as sm\n",
        "X_train1 = sm.add_constant(X_train_model).values\n",
        "model =sm.OLS(y_train_log,X_train1).fit()\n",
        "#print(model.params)\n",
        "print('Adjusted R Squared ', model.rsquared_adj)\n"
      ],
      "execution_count": null,
      "outputs": [
        {
          "output_type": "stream",
          "text": [
            "**Interpretation**\n",
            "r2_score:  0.8987528873995834\n",
            "RMSE:  0.11431097265809718\n",
            "**Interpretation**\n",
            "Train Accuracy:  0.9559629539194425\n",
            "Test Accuracy:  0.8987528873995833\n",
            "Adjusted R Squared  0.9050567494138373\n"
          ],
          "name": "stdout"
        }
      ]
    },
    {
      "cell_type": "code",
      "metadata": {
        "id": "a8s9F33tTmm1"
      },
      "source": [
        "ada_rand_clf = AdaBoostRegressor(RandomForestRegressor())"
      ],
      "execution_count": null,
      "outputs": []
    },
    {
      "cell_type": "code",
      "metadata": {
        "colab": {
          "base_uri": "https://localhost:8080/"
        },
        "id": "dhatPUw5WUlf",
        "outputId": "e58461fe-fa67-4720-c488-dc5d3b95a834"
      },
      "source": [
        "from sklearn.ensemble import ExtraTreesRegressor\n",
        "model = ExtraTreesRegressor()\n",
        "extra_model=model.fit(X_train_model, y_train_log)\n",
        "y_pred = extra_model.predict(X_test_model)\n",
        "# Print the score of the fitted model\n",
        "print('**Interpretation**')\n",
        "print('r2_score: ',r2_score(y_test_log, y_pred))\n",
        "\n",
        "#RMSE Value\n",
        "rmse = np.sqrt(mean_squared_error(y_test_log, y_pred))\n",
        "print('RMSE: ', rmse)\n",
        "\n",
        "\n",
        "\n",
        "print('**Interpretation**')\n",
        "print('Train Accuracy: ', extra_model.score(X_train_model, y_train_log))\n",
        "print('Test Accuracy: ', extra_model.score(X_test_model, y_test_log))\n",
        "\n",
        "#Adjusted R Squared\n",
        "import statsmodels.api as sm\n",
        "X_train1 = sm.add_constant(X_train_model).values\n",
        "model =sm.OLS(y_train_log,X_train1).fit()\n",
        "#print(model.params)\n",
        "print('Adjusted R Squared ', model.rsquared_adj)\n"
      ],
      "execution_count": null,
      "outputs": [
        {
          "output_type": "stream",
          "text": [
            "**Interpretation**\n",
            "r2_score:  0.885203437913381\n",
            "RMSE:  0.1217197461074951\n",
            "**Interpretation**\n",
            "Train Accuracy:  0.9999999996842384\n",
            "Test Accuracy:  0.885203437913381\n",
            "Adjusted R Squared  0.9050567494138373\n"
          ],
          "name": "stdout"
        }
      ]
    },
    {
      "cell_type": "code",
      "metadata": {
        "id": "gvwKMiG_XevB"
      },
      "source": [
        "def model_eval(actual, pred):\n",
        "    \n",
        "    confusion = pd.crosstab(actual, pred)#, rownames=['Actual'], colnames=['Predicted'])\n",
        "    TP = confusion.loc[1,1]\n",
        "    TN = confusion.loc[0,0]\n",
        "    FP = confusion.loc[0,1]\n",
        "    FN = confusion.loc[1,0]\n",
        "\n",
        "    accuracy = ((TP+TN))/(TP+FN+FP+TN)\n",
        "    precision = (TP)/(TP+FP)\n",
        "    recall = (TP)/(TP+FN)\n",
        "    f_measure = (2*recall*precision)/(recall+precision)\n",
        "    sensitivity = TP / (TP + FN)\n",
        "    specificity = TN / (TN + FP)\n",
        "    error_rate = 1 - accuracy\n",
        "    \n",
        "    out = {}\n",
        "    out['accuracy'] =  accuracy\n",
        "    out['precision'] = precision\n",
        "    out['recall'] = recall\n",
        "    out['f_measure'] = f_measure\n",
        "    out['sensitivity'] = sensitivity\n",
        "    out['specificity'] = specificity\n",
        "    out['error_rate'] = error_rate\n",
        "    \n",
        "    return out"
      ],
      "execution_count": null,
      "outputs": []
    },
    {
      "cell_type": "code",
      "metadata": {
        "colab": {
          "base_uri": "https://localhost:8080/",
          "height": 571
        },
        "id": "znB82CKXbCy2",
        "outputId": "3ff7018e-ba20-454b-ec88-7ed5dfd3eed2"
      },
      "source": [
        "y_pred = svm_model.predict(X_test_model)\n",
        "\n",
        "SVM_rbf = model_eval(y_test_log, y_pred)\n",
        "#print('SVM using rbf kernel : %.2f percent.' % (round(SVM_rbf['accuracy']*100,2)))\n"
      ],
      "execution_count": null,
      "outputs": [
        {
          "output_type": "error",
          "ename": "KeyError",
          "evalue": "ignored",
          "traceback": [
            "\u001b[0;31m---------------------------------------------------------------------------\u001b[0m",
            "\u001b[0;31mKeyError\u001b[0m                                  Traceback (most recent call last)",
            "\u001b[0;32m/usr/local/lib/python3.6/dist-packages/pandas/core/indexes/base.py\u001b[0m in \u001b[0;36mget_loc\u001b[0;34m(self, key, method, tolerance)\u001b[0m\n\u001b[1;32m   2894\u001b[0m             \u001b[0;32mtry\u001b[0m\u001b[0;34m:\u001b[0m\u001b[0;34m\u001b[0m\u001b[0;34m\u001b[0m\u001b[0m\n\u001b[0;32m-> 2895\u001b[0;31m                 \u001b[0;32mreturn\u001b[0m \u001b[0mself\u001b[0m\u001b[0;34m.\u001b[0m\u001b[0m_engine\u001b[0m\u001b[0;34m.\u001b[0m\u001b[0mget_loc\u001b[0m\u001b[0;34m(\u001b[0m\u001b[0mcasted_key\u001b[0m\u001b[0;34m)\u001b[0m\u001b[0;34m\u001b[0m\u001b[0;34m\u001b[0m\u001b[0m\n\u001b[0m\u001b[1;32m   2896\u001b[0m             \u001b[0;32mexcept\u001b[0m \u001b[0mKeyError\u001b[0m \u001b[0;32mas\u001b[0m \u001b[0merr\u001b[0m\u001b[0;34m:\u001b[0m\u001b[0;34m\u001b[0m\u001b[0;34m\u001b[0m\u001b[0m\n",
            "\u001b[0;32mpandas/_libs/index.pyx\u001b[0m in \u001b[0;36mpandas._libs.index.IndexEngine.get_loc\u001b[0;34m()\u001b[0m\n",
            "\u001b[0;32mpandas/_libs/index.pyx\u001b[0m in \u001b[0;36mpandas._libs.index.IndexEngine.get_loc\u001b[0;34m()\u001b[0m\n",
            "\u001b[0;32mpandas/_libs/hashtable_class_helper.pxi\u001b[0m in \u001b[0;36mpandas._libs.hashtable.Float64HashTable.get_item\u001b[0;34m()\u001b[0m\n",
            "\u001b[0;32mpandas/_libs/hashtable_class_helper.pxi\u001b[0m in \u001b[0;36mpandas._libs.hashtable.Float64HashTable.get_item\u001b[0;34m()\u001b[0m\n",
            "\u001b[0;31mKeyError\u001b[0m: 1.0",
            "\nThe above exception was the direct cause of the following exception:\n",
            "\u001b[0;31mKeyError\u001b[0m                                  Traceback (most recent call last)",
            "\u001b[0;32m<ipython-input-130-f8de1096b3d2>\u001b[0m in \u001b[0;36m<module>\u001b[0;34m()\u001b[0m\n\u001b[1;32m      1\u001b[0m \u001b[0my_pred\u001b[0m \u001b[0;34m=\u001b[0m \u001b[0msvm_model\u001b[0m\u001b[0;34m.\u001b[0m\u001b[0mpredict\u001b[0m\u001b[0;34m(\u001b[0m\u001b[0mX_test_model\u001b[0m\u001b[0;34m)\u001b[0m\u001b[0;34m\u001b[0m\u001b[0;34m\u001b[0m\u001b[0m\n\u001b[1;32m      2\u001b[0m \u001b[0;34m\u001b[0m\u001b[0m\n\u001b[0;32m----> 3\u001b[0;31m \u001b[0mSVM_rbf\u001b[0m \u001b[0;34m=\u001b[0m \u001b[0mmodel_eval\u001b[0m\u001b[0;34m(\u001b[0m\u001b[0my_test_log\u001b[0m\u001b[0;34m,\u001b[0m \u001b[0my_pred\u001b[0m\u001b[0;34m)\u001b[0m\u001b[0;34m\u001b[0m\u001b[0;34m\u001b[0m\u001b[0m\n\u001b[0m\u001b[1;32m      4\u001b[0m \u001b[0;31m#print('SVM using rbf kernel : %.2f percent.' % (round(SVM_rbf['accuracy']*100,2)))\u001b[0m\u001b[0;34m\u001b[0m\u001b[0;34m\u001b[0m\u001b[0;34m\u001b[0m\u001b[0m\n",
            "\u001b[0;32m<ipython-input-129-00a178762214>\u001b[0m in \u001b[0;36mmodel_eval\u001b[0;34m(actual, pred)\u001b[0m\n\u001b[1;32m      2\u001b[0m \u001b[0;34m\u001b[0m\u001b[0m\n\u001b[1;32m      3\u001b[0m     \u001b[0mconfusion\u001b[0m \u001b[0;34m=\u001b[0m \u001b[0mpd\u001b[0m\u001b[0;34m.\u001b[0m\u001b[0mcrosstab\u001b[0m\u001b[0;34m(\u001b[0m\u001b[0mactual\u001b[0m\u001b[0;34m,\u001b[0m \u001b[0mpred\u001b[0m\u001b[0;34m)\u001b[0m\u001b[0;31m#, rownames=['Actual'], colnames=['Predicted'])\u001b[0m\u001b[0;34m\u001b[0m\u001b[0;34m\u001b[0m\u001b[0m\n\u001b[0;32m----> 4\u001b[0;31m     \u001b[0mTP\u001b[0m \u001b[0;34m=\u001b[0m \u001b[0mconfusion\u001b[0m\u001b[0;34m.\u001b[0m\u001b[0mloc\u001b[0m\u001b[0;34m[\u001b[0m\u001b[0;36m1\u001b[0m\u001b[0;34m,\u001b[0m\u001b[0;36m1\u001b[0m\u001b[0;34m]\u001b[0m\u001b[0;34m\u001b[0m\u001b[0;34m\u001b[0m\u001b[0m\n\u001b[0m\u001b[1;32m      5\u001b[0m     \u001b[0mTN\u001b[0m \u001b[0;34m=\u001b[0m \u001b[0mconfusion\u001b[0m\u001b[0;34m.\u001b[0m\u001b[0mloc\u001b[0m\u001b[0;34m[\u001b[0m\u001b[0;36m0\u001b[0m\u001b[0;34m,\u001b[0m\u001b[0;36m0\u001b[0m\u001b[0;34m]\u001b[0m\u001b[0;34m\u001b[0m\u001b[0;34m\u001b[0m\u001b[0m\n\u001b[1;32m      6\u001b[0m     \u001b[0mFP\u001b[0m \u001b[0;34m=\u001b[0m \u001b[0mconfusion\u001b[0m\u001b[0;34m.\u001b[0m\u001b[0mloc\u001b[0m\u001b[0;34m[\u001b[0m\u001b[0;36m0\u001b[0m\u001b[0;34m,\u001b[0m\u001b[0;36m1\u001b[0m\u001b[0;34m]\u001b[0m\u001b[0;34m\u001b[0m\u001b[0;34m\u001b[0m\u001b[0m\n",
            "\u001b[0;32m/usr/local/lib/python3.6/dist-packages/pandas/core/indexing.py\u001b[0m in \u001b[0;36m__getitem__\u001b[0;34m(self, key)\u001b[0m\n\u001b[1;32m    871\u001b[0m                     \u001b[0;31m# AttributeError for IntervalTree get_value\u001b[0m\u001b[0;34m\u001b[0m\u001b[0;34m\u001b[0m\u001b[0;34m\u001b[0m\u001b[0m\n\u001b[1;32m    872\u001b[0m                     \u001b[0;32mpass\u001b[0m\u001b[0;34m\u001b[0m\u001b[0;34m\u001b[0m\u001b[0m\n\u001b[0;32m--> 873\u001b[0;31m             \u001b[0;32mreturn\u001b[0m \u001b[0mself\u001b[0m\u001b[0;34m.\u001b[0m\u001b[0m_getitem_tuple\u001b[0m\u001b[0;34m(\u001b[0m\u001b[0mkey\u001b[0m\u001b[0;34m)\u001b[0m\u001b[0;34m\u001b[0m\u001b[0;34m\u001b[0m\u001b[0m\n\u001b[0m\u001b[1;32m    874\u001b[0m         \u001b[0;32melse\u001b[0m\u001b[0;34m:\u001b[0m\u001b[0;34m\u001b[0m\u001b[0;34m\u001b[0m\u001b[0m\n\u001b[1;32m    875\u001b[0m             \u001b[0;31m# we by definition only have the 0th axis\u001b[0m\u001b[0;34m\u001b[0m\u001b[0;34m\u001b[0m\u001b[0;34m\u001b[0m\u001b[0m\n",
            "\u001b[0;32m/usr/local/lib/python3.6/dist-packages/pandas/core/indexing.py\u001b[0m in \u001b[0;36m_getitem_tuple\u001b[0;34m(self, tup)\u001b[0m\n\u001b[1;32m   1042\u001b[0m     \u001b[0;32mdef\u001b[0m \u001b[0m_getitem_tuple\u001b[0m\u001b[0;34m(\u001b[0m\u001b[0mself\u001b[0m\u001b[0;34m,\u001b[0m \u001b[0mtup\u001b[0m\u001b[0;34m:\u001b[0m \u001b[0mTuple\u001b[0m\u001b[0;34m)\u001b[0m\u001b[0;34m:\u001b[0m\u001b[0;34m\u001b[0m\u001b[0;34m\u001b[0m\u001b[0m\n\u001b[1;32m   1043\u001b[0m         \u001b[0;32mtry\u001b[0m\u001b[0;34m:\u001b[0m\u001b[0;34m\u001b[0m\u001b[0;34m\u001b[0m\u001b[0m\n\u001b[0;32m-> 1044\u001b[0;31m             \u001b[0;32mreturn\u001b[0m \u001b[0mself\u001b[0m\u001b[0;34m.\u001b[0m\u001b[0m_getitem_lowerdim\u001b[0m\u001b[0;34m(\u001b[0m\u001b[0mtup\u001b[0m\u001b[0;34m)\u001b[0m\u001b[0;34m\u001b[0m\u001b[0;34m\u001b[0m\u001b[0m\n\u001b[0m\u001b[1;32m   1045\u001b[0m         \u001b[0;32mexcept\u001b[0m \u001b[0mIndexingError\u001b[0m\u001b[0;34m:\u001b[0m\u001b[0;34m\u001b[0m\u001b[0;34m\u001b[0m\u001b[0m\n\u001b[1;32m   1046\u001b[0m             \u001b[0;32mpass\u001b[0m\u001b[0;34m\u001b[0m\u001b[0;34m\u001b[0m\u001b[0m\n",
            "\u001b[0;32m/usr/local/lib/python3.6/dist-packages/pandas/core/indexing.py\u001b[0m in \u001b[0;36m_getitem_lowerdim\u001b[0;34m(self, tup)\u001b[0m\n\u001b[1;32m    784\u001b[0m                 \u001b[0;31m# We don't need to check for tuples here because those are\u001b[0m\u001b[0;34m\u001b[0m\u001b[0;34m\u001b[0m\u001b[0;34m\u001b[0m\u001b[0m\n\u001b[1;32m    785\u001b[0m                 \u001b[0;31m#  caught by the _is_nested_tuple_indexer check above.\u001b[0m\u001b[0;34m\u001b[0m\u001b[0;34m\u001b[0m\u001b[0;34m\u001b[0m\u001b[0m\n\u001b[0;32m--> 786\u001b[0;31m                 \u001b[0msection\u001b[0m \u001b[0;34m=\u001b[0m \u001b[0mself\u001b[0m\u001b[0;34m.\u001b[0m\u001b[0m_getitem_axis\u001b[0m\u001b[0;34m(\u001b[0m\u001b[0mkey\u001b[0m\u001b[0;34m,\u001b[0m \u001b[0maxis\u001b[0m\u001b[0;34m=\u001b[0m\u001b[0mi\u001b[0m\u001b[0;34m)\u001b[0m\u001b[0;34m\u001b[0m\u001b[0;34m\u001b[0m\u001b[0m\n\u001b[0m\u001b[1;32m    787\u001b[0m \u001b[0;34m\u001b[0m\u001b[0m\n\u001b[1;32m    788\u001b[0m                 \u001b[0;31m# We should never have a scalar section here, because\u001b[0m\u001b[0;34m\u001b[0m\u001b[0;34m\u001b[0m\u001b[0;34m\u001b[0m\u001b[0m\n",
            "\u001b[0;32m/usr/local/lib/python3.6/dist-packages/pandas/core/indexing.py\u001b[0m in \u001b[0;36m_getitem_axis\u001b[0;34m(self, key, axis)\u001b[0m\n\u001b[1;32m   1108\u001b[0m         \u001b[0;31m# fall thru to straight lookup\u001b[0m\u001b[0;34m\u001b[0m\u001b[0;34m\u001b[0m\u001b[0;34m\u001b[0m\u001b[0m\n\u001b[1;32m   1109\u001b[0m         \u001b[0mself\u001b[0m\u001b[0;34m.\u001b[0m\u001b[0m_validate_key\u001b[0m\u001b[0;34m(\u001b[0m\u001b[0mkey\u001b[0m\u001b[0;34m,\u001b[0m \u001b[0maxis\u001b[0m\u001b[0;34m)\u001b[0m\u001b[0;34m\u001b[0m\u001b[0;34m\u001b[0m\u001b[0m\n\u001b[0;32m-> 1110\u001b[0;31m         \u001b[0;32mreturn\u001b[0m \u001b[0mself\u001b[0m\u001b[0;34m.\u001b[0m\u001b[0m_get_label\u001b[0m\u001b[0;34m(\u001b[0m\u001b[0mkey\u001b[0m\u001b[0;34m,\u001b[0m \u001b[0maxis\u001b[0m\u001b[0;34m=\u001b[0m\u001b[0maxis\u001b[0m\u001b[0;34m)\u001b[0m\u001b[0;34m\u001b[0m\u001b[0;34m\u001b[0m\u001b[0m\n\u001b[0m\u001b[1;32m   1111\u001b[0m \u001b[0;34m\u001b[0m\u001b[0m\n\u001b[1;32m   1112\u001b[0m     \u001b[0;32mdef\u001b[0m \u001b[0m_get_slice_axis\u001b[0m\u001b[0;34m(\u001b[0m\u001b[0mself\u001b[0m\u001b[0;34m,\u001b[0m \u001b[0mslice_obj\u001b[0m\u001b[0;34m:\u001b[0m \u001b[0mslice\u001b[0m\u001b[0;34m,\u001b[0m \u001b[0maxis\u001b[0m\u001b[0;34m:\u001b[0m \u001b[0mint\u001b[0m\u001b[0;34m)\u001b[0m\u001b[0;34m:\u001b[0m\u001b[0;34m\u001b[0m\u001b[0;34m\u001b[0m\u001b[0m\n",
            "\u001b[0;32m/usr/local/lib/python3.6/dist-packages/pandas/core/indexing.py\u001b[0m in \u001b[0;36m_get_label\u001b[0;34m(self, label, axis)\u001b[0m\n\u001b[1;32m   1057\u001b[0m     \u001b[0;32mdef\u001b[0m \u001b[0m_get_label\u001b[0m\u001b[0;34m(\u001b[0m\u001b[0mself\u001b[0m\u001b[0;34m,\u001b[0m \u001b[0mlabel\u001b[0m\u001b[0;34m,\u001b[0m \u001b[0maxis\u001b[0m\u001b[0;34m:\u001b[0m \u001b[0mint\u001b[0m\u001b[0;34m)\u001b[0m\u001b[0;34m:\u001b[0m\u001b[0;34m\u001b[0m\u001b[0;34m\u001b[0m\u001b[0m\n\u001b[1;32m   1058\u001b[0m         \u001b[0;31m# GH#5667 this will fail if the label is not present in the axis.\u001b[0m\u001b[0;34m\u001b[0m\u001b[0;34m\u001b[0m\u001b[0;34m\u001b[0m\u001b[0m\n\u001b[0;32m-> 1059\u001b[0;31m         \u001b[0;32mreturn\u001b[0m \u001b[0mself\u001b[0m\u001b[0;34m.\u001b[0m\u001b[0mobj\u001b[0m\u001b[0;34m.\u001b[0m\u001b[0mxs\u001b[0m\u001b[0;34m(\u001b[0m\u001b[0mlabel\u001b[0m\u001b[0;34m,\u001b[0m \u001b[0maxis\u001b[0m\u001b[0;34m=\u001b[0m\u001b[0maxis\u001b[0m\u001b[0;34m)\u001b[0m\u001b[0;34m\u001b[0m\u001b[0;34m\u001b[0m\u001b[0m\n\u001b[0m\u001b[1;32m   1060\u001b[0m \u001b[0;34m\u001b[0m\u001b[0m\n\u001b[1;32m   1061\u001b[0m     \u001b[0;32mdef\u001b[0m \u001b[0m_handle_lowerdim_multi_index_axis0\u001b[0m\u001b[0;34m(\u001b[0m\u001b[0mself\u001b[0m\u001b[0;34m,\u001b[0m \u001b[0mtup\u001b[0m\u001b[0;34m:\u001b[0m \u001b[0mTuple\u001b[0m\u001b[0;34m)\u001b[0m\u001b[0;34m:\u001b[0m\u001b[0;34m\u001b[0m\u001b[0;34m\u001b[0m\u001b[0m\n",
            "\u001b[0;32m/usr/local/lib/python3.6/dist-packages/pandas/core/generic.py\u001b[0m in \u001b[0;36mxs\u001b[0;34m(self, key, axis, level, drop_level)\u001b[0m\n\u001b[1;32m   3489\u001b[0m             \u001b[0mloc\u001b[0m\u001b[0;34m,\u001b[0m \u001b[0mnew_index\u001b[0m \u001b[0;34m=\u001b[0m \u001b[0mself\u001b[0m\u001b[0;34m.\u001b[0m\u001b[0mindex\u001b[0m\u001b[0;34m.\u001b[0m\u001b[0mget_loc_level\u001b[0m\u001b[0;34m(\u001b[0m\u001b[0mkey\u001b[0m\u001b[0;34m,\u001b[0m \u001b[0mdrop_level\u001b[0m\u001b[0;34m=\u001b[0m\u001b[0mdrop_level\u001b[0m\u001b[0;34m)\u001b[0m\u001b[0;34m\u001b[0m\u001b[0;34m\u001b[0m\u001b[0m\n\u001b[1;32m   3490\u001b[0m         \u001b[0;32melse\u001b[0m\u001b[0;34m:\u001b[0m\u001b[0;34m\u001b[0m\u001b[0;34m\u001b[0m\u001b[0m\n\u001b[0;32m-> 3491\u001b[0;31m             \u001b[0mloc\u001b[0m \u001b[0;34m=\u001b[0m \u001b[0mself\u001b[0m\u001b[0;34m.\u001b[0m\u001b[0mindex\u001b[0m\u001b[0;34m.\u001b[0m\u001b[0mget_loc\u001b[0m\u001b[0;34m(\u001b[0m\u001b[0mkey\u001b[0m\u001b[0;34m)\u001b[0m\u001b[0;34m\u001b[0m\u001b[0;34m\u001b[0m\u001b[0m\n\u001b[0m\u001b[1;32m   3492\u001b[0m \u001b[0;34m\u001b[0m\u001b[0m\n\u001b[1;32m   3493\u001b[0m             \u001b[0;32mif\u001b[0m \u001b[0misinstance\u001b[0m\u001b[0;34m(\u001b[0m\u001b[0mloc\u001b[0m\u001b[0;34m,\u001b[0m \u001b[0mnp\u001b[0m\u001b[0;34m.\u001b[0m\u001b[0mndarray\u001b[0m\u001b[0;34m)\u001b[0m\u001b[0;34m:\u001b[0m\u001b[0;34m\u001b[0m\u001b[0;34m\u001b[0m\u001b[0m\n",
            "\u001b[0;32m/usr/local/lib/python3.6/dist-packages/pandas/core/indexes/numeric.py\u001b[0m in \u001b[0;36mget_loc\u001b[0;34m(self, key, method, tolerance)\u001b[0m\n\u001b[1;32m    422\u001b[0m             \u001b[0;32mreturn\u001b[0m \u001b[0mnan_idxs\u001b[0m\u001b[0;34m\u001b[0m\u001b[0;34m\u001b[0m\u001b[0m\n\u001b[1;32m    423\u001b[0m \u001b[0;34m\u001b[0m\u001b[0m\n\u001b[0;32m--> 424\u001b[0;31m         \u001b[0;32mreturn\u001b[0m \u001b[0msuper\u001b[0m\u001b[0;34m(\u001b[0m\u001b[0;34m)\u001b[0m\u001b[0;34m.\u001b[0m\u001b[0mget_loc\u001b[0m\u001b[0;34m(\u001b[0m\u001b[0mkey\u001b[0m\u001b[0;34m,\u001b[0m \u001b[0mmethod\u001b[0m\u001b[0;34m=\u001b[0m\u001b[0mmethod\u001b[0m\u001b[0;34m,\u001b[0m \u001b[0mtolerance\u001b[0m\u001b[0;34m=\u001b[0m\u001b[0mtolerance\u001b[0m\u001b[0;34m)\u001b[0m\u001b[0;34m\u001b[0m\u001b[0;34m\u001b[0m\u001b[0m\n\u001b[0m\u001b[1;32m    425\u001b[0m \u001b[0;34m\u001b[0m\u001b[0m\n\u001b[1;32m    426\u001b[0m     \u001b[0;34m@\u001b[0m\u001b[0mcache_readonly\u001b[0m\u001b[0;34m\u001b[0m\u001b[0;34m\u001b[0m\u001b[0m\n",
            "\u001b[0;32m/usr/local/lib/python3.6/dist-packages/pandas/core/indexes/base.py\u001b[0m in \u001b[0;36mget_loc\u001b[0;34m(self, key, method, tolerance)\u001b[0m\n\u001b[1;32m   2895\u001b[0m                 \u001b[0;32mreturn\u001b[0m \u001b[0mself\u001b[0m\u001b[0;34m.\u001b[0m\u001b[0m_engine\u001b[0m\u001b[0;34m.\u001b[0m\u001b[0mget_loc\u001b[0m\u001b[0;34m(\u001b[0m\u001b[0mcasted_key\u001b[0m\u001b[0;34m)\u001b[0m\u001b[0;34m\u001b[0m\u001b[0;34m\u001b[0m\u001b[0m\n\u001b[1;32m   2896\u001b[0m             \u001b[0;32mexcept\u001b[0m \u001b[0mKeyError\u001b[0m \u001b[0;32mas\u001b[0m \u001b[0merr\u001b[0m\u001b[0;34m:\u001b[0m\u001b[0;34m\u001b[0m\u001b[0;34m\u001b[0m\u001b[0m\n\u001b[0;32m-> 2897\u001b[0;31m                 \u001b[0;32mraise\u001b[0m \u001b[0mKeyError\u001b[0m\u001b[0;34m(\u001b[0m\u001b[0mkey\u001b[0m\u001b[0;34m)\u001b[0m \u001b[0;32mfrom\u001b[0m \u001b[0merr\u001b[0m\u001b[0;34m\u001b[0m\u001b[0;34m\u001b[0m\u001b[0m\n\u001b[0m\u001b[1;32m   2898\u001b[0m \u001b[0;34m\u001b[0m\u001b[0m\n\u001b[1;32m   2899\u001b[0m         \u001b[0;32mif\u001b[0m \u001b[0mtolerance\u001b[0m \u001b[0;32mis\u001b[0m \u001b[0;32mnot\u001b[0m \u001b[0;32mNone\u001b[0m\u001b[0;34m:\u001b[0m\u001b[0;34m\u001b[0m\u001b[0;34m\u001b[0m\u001b[0m\n",
            "\u001b[0;31mKeyError\u001b[0m: 1"
          ]
        }
      ]
    },
    {
      "cell_type": "code",
      "metadata": {
        "id": "nsz1WjOheC3J"
      },
      "source": [
        "|"
      ],
      "execution_count": null,
      "outputs": []
    },
    {
      "cell_type": "code",
      "metadata": {
        "id": "nd-tEnZojOa-"
      },
      "source": [
        ""
      ],
      "execution_count": null,
      "outputs": []
    }
  ]
}